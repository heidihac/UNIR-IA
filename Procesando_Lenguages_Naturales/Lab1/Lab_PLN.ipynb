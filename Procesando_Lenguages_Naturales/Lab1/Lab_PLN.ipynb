{
 "cells": [
  {
   "cell_type": "code",
   "execution_count": 1,
   "metadata": {
    "collapsed": false
   },
   "outputs": [
    {
     "name": "stderr",
     "output_type": "stream",
     "text": [
      "[nltk_data] Downloading package wordnet to\n",
      "[nltk_data]     /Users/inesherascaceres/nltk_data...\n",
      "[nltk_data]   Package wordnet is already up-to-date!\n",
      "[nltk_data] Downloading package punkt to\n",
      "[nltk_data]     /Users/inesherascaceres/nltk_data...\n",
      "[nltk_data]   Package punkt is already up-to-date!\n"
     ]
    }
   ],
   "source": [
    "import nltk\n",
    "from nltk.stem import WordNetLemmatizer \n",
    "nltk.download('wordnet')\n",
    "nltk.download('punkt')\n",
    "from nltk.corpus import wordnet as wn"
   ]
  },
  {
   "cell_type": "markdown",
   "metadata": {},
   "source": [
    "## 1 Se obtienen los synsets de las palabras"
   ]
  },
  {
   "cell_type": "code",
   "execution_count": 2,
   "metadata": {
    "collapsed": true
   },
   "outputs": [],
   "source": [
    "synset_mosquito=wn.synsets('mosquito')\n",
    "synset_tsetse=wn.synsets('tsetse')\n",
    "synset_housefly=wn.synsets('housefly')\n",
    "synset_spider=wn.synsets('spider')\n",
    "synset_cockroach=wn.synsets('cockroach')"
   ]
  },
  {
   "cell_type": "code",
   "execution_count": 3,
   "metadata": {
    "collapsed": false
   },
   "outputs": [
    {
     "name": "stdout",
     "output_type": "stream",
     "text": [
      "Synset de mosquito: [Synset('mosquito.n.01')]\n",
      "Synset de tsetse: [Synset('tsetse_fly.n.01')]\n",
      "Synset de housefly: [Synset('housefly.n.01')]\n",
      "Synset de spider: [Synset('spider.n.01'), Synset('spider.n.02'), Synset('spider.n.03')]\n",
      "Synset de cockroach: [Synset('cockroach.n.01')]\n"
     ]
    }
   ],
   "source": [
    "print(\"Synset de mosquito: \"+str(synset_mosquito))\n",
    "print(\"Synset de tsetse: \"+str(synset_tsetse))\n",
    "print(\"Synset de housefly: \"+str(synset_housefly))\n",
    "print(\"Synset de spider: \"+str(synset_spider))\n",
    "print(\"Synset de cockroach: \"+str(synset_cockroach))\n"
   ]
  },
  {
   "cell_type": "markdown",
   "metadata": {},
   "source": [
    "Se observa que Spider tiene varios synsets"
   ]
  },
  {
   "cell_type": "markdown",
   "metadata": {},
   "source": [
    "## 2 Se obtienen las definiciones"
   ]
  },
  {
   "cell_type": "code",
   "execution_count": 4,
   "metadata": {
    "collapsed": true
   },
   "outputs": [],
   "source": [
    "def_mosquito=wn.synset('mosquito.n.01').definition()\n",
    "def_tsetse=wn.synset('tsetse_fly.n.01').definition()\n",
    "def_housefly=wn.synset('housefly.n.01').definition()\n",
    "def_cockroach=wn.synset('cockroach.n.01').definition()"
   ]
  },
  {
   "cell_type": "code",
   "execution_count": 5,
   "metadata": {
    "collapsed": false
   },
   "outputs": [
    {
     "name": "stdout",
     "output_type": "stream",
     "text": [
      "Definicion de mosquito: two-winged insect whose female has a long proboscis to pierce the skin and suck the blood of humans and animals\n",
      "Definicion de tsetse: bloodsucking African fly; transmits sleeping sickness etc.\n",
      "Definicion de housefly: common fly that frequents human habitations and spreads many diseases\n",
      "Definicion de cockroach: any of numerous chiefly nocturnal insects; some are domestic pests\n"
     ]
    }
   ],
   "source": [
    "print(\"Definicion de mosquito: \"+str(def_mosquito))\n",
    "print(\"Definicion de tsetse: \"+str(def_tsetse))\n",
    "print(\"Definicion de housefly: \"+str(def_housefly))\n",
    "#print(\"Definicion de spider: \"+str(synset_spider))\n",
    "print(\"Definicion de cockroach: \"+str(def_cockroach))"
   ]
  },
  {
   "cell_type": "markdown",
   "metadata": {},
   "source": [
    "## 3 Desambiguación del sentido utilizando las definiciones"
   ]
  },
  {
   "cell_type": "code",
   "execution_count": 6,
   "metadata": {
    "collapsed": true
   },
   "outputs": [],
   "source": [
    "def get_lemas(definition):\n",
    "    lemmatizer = WordNetLemmatizer() \n",
    "    lemas=[]\n",
    "    for x in definition.split(\" \"):\n",
    "\n",
    "        lemas.append(lemmatizer.lemmatize(x)) \n",
    "    return lemas"
   ]
  },
  {
   "cell_type": "code",
   "execution_count": 7,
   "metadata": {
    "collapsed": false
   },
   "outputs": [
    {
     "name": "stdout",
     "output_type": "stream",
     "text": [
      "Coincidencias del synset: Synset('spider.n.01') con mosquito: {'the', 'of', 'to', 'and'}\n",
      "Coincidencias del synset: Synset('spider.n.01') con tsetse: set()\n",
      "Coincidencias del synset: Synset('spider.n.01') con housefly: {'and'}\n",
      "Coincidencias del synset: Synset('spider.n.01') con cockroach: {'of'}\n",
      "Coincidencias del synset: Synset('spider.n.02') con mosquito: {'the', 'a', 'to'}\n",
      "Coincidencias del synset: Synset('spider.n.02') con tsetse: set()\n",
      "Coincidencias del synset: Synset('spider.n.02') con housefly: {'that'}\n",
      "Coincidencias del synset: Synset('spider.n.02') con cockroach: set()\n",
      "Coincidencias del synset: Synset('spider.n.03') con mosquito: {'of', 'a'}\n",
      "Coincidencias del synset: Synset('spider.n.03') con tsetse: set()\n",
      "Coincidencias del synset: Synset('spider.n.03') con housefly: set()\n",
      "Coincidencias del synset: Synset('spider.n.03') con cockroach: {'of'}\n"
     ]
    },
    {
     "data": {
      "text/plain": [
       "Synset('spider.n.01')"
      ]
     },
     "execution_count": 7,
     "metadata": {},
     "output_type": "execute_result"
    }
   ],
   "source": [
    "synset_spider_def=''\n",
    "max_coincidences=0\n",
    "#Recorremos todos los synsets de spider\n",
    "for x in synset_spider:\n",
    "    coincidences=0\n",
    "    #Obtenemos la definición de cada uno de los synsets\n",
    "    definition=wn.synset(x.name()).definition()\n",
    "    #Comparamos los lemas de cada definición con la de las palabras mosquito, tsetse, housefly y cockroach\n",
    "    #Vamos guardando y sumando el número de coincidencias con cada definición\n",
    "    coinc_mosq=set(get_lemas(definition)) & set(get_lemas(def_mosquito))\n",
    "    print(\"Coincidencias del synset: \"+str(x)+\" con mosquito: \"+str(coinc_mosq))\n",
    "    coincidences=coincidences+len(coinc_mosq)\n",
    "    \n",
    "    coinc_testse=set(get_lemas(definition)) & set(get_lemas(def_tsetse))\n",
    "    print(\"Coincidencias del synset: \"+str(x)+\" con tsetse: \"+str(coinc_testse))\n",
    "    coincidences=coincidences+len(coinc_testse)\n",
    "    \n",
    "    coinc_fly=set(get_lemas(definition)) & set(get_lemas(def_housefly))\n",
    "    print(\"Coincidencias del synset: \"+str(x)+\" con housefly: \"+str(coinc_fly))\n",
    "    coincidences=coincidences+len(coinc_fly)\n",
    "    \n",
    "    coinc_cock=set(get_lemas(definition)) & set(get_lemas(def_cockroach))\n",
    "    print(\"Coincidencias del synset: \"+str(x)+\" con cockroach: \"+str(coinc_cock))\n",
    "    coincidences=coincidences+len(coinc_cock)\n",
    "    #Nos quedamos con el synset que tenga más coincidencias\n",
    "    if(coincidences>max_coincidences):\n",
    "        max_coincidences=coincidences\n",
    "        synset_spider_def=x\n",
    "\n",
    "synset_spider_def"
   ]
  },
  {
   "cell_type": "code",
   "execution_count": 8,
   "metadata": {
    "collapsed": false
   },
   "outputs": [
    {
     "name": "stdout",
     "output_type": "stream",
     "text": [
      "El synset seleccionado es Synset('spider.n.01') con 6 coincidencias\n",
      "Su definición es: predatory arachnid with eight legs, two poison fangs, two feelers, and usually two silk-spinning organs at the back end of the body; they spin silk to make cocoons for eggs or traps for prey\n"
     ]
    }
   ],
   "source": [
    "print(\"El synset seleccionado es \"+str(synset_spider_def)+\" con \"+str(max_coincidences)+\" coincidencias\")\n",
    "def_spider=wn.synset('spider.n.01').definition()\n",
    "print(\"Su definición es: \"+str(def_spider))"
   ]
  },
  {
   "cell_type": "markdown",
   "metadata": {},
   "source": [
    "Aunque la definición parece correcta, el método no ha sido del todo adecuado ya que las coincidencias se deben a palabras sin contenido léxico "
   ]
  },
  {
   "cell_type": "markdown",
   "metadata": {},
   "source": [
    "## 4 Desambiguación usando similaridad por longitud de camino"
   ]
  },
  {
   "cell_type": "code",
   "execution_count": 9,
   "metadata": {
    "collapsed": true
   },
   "outputs": [],
   "source": [
    "synset_spider_path=''\n",
    "max_similar=0\n",
    "for x in synset_spider:\n",
    "    similar_mosq=x.path_similarity(synset_mosquito[0])\n",
    "    similar_tsetse=x.path_similarity(synset_tsetse[0])\n",
    "    similar_fly=x.path_similarity(synset_housefly[0])\n",
    "    similar_cock=x.path_similarity(synset_cockroach[0])\n",
    "    total_similar=similar_mosq+similar_tsetse+similar_fly+similar_cock\n",
    "    if(total_similar>max_similar):\n",
    "        max_similar=total_similar\n",
    "        synset_spider_path=x"
   ]
  },
  {
   "cell_type": "code",
   "execution_count": 10,
   "metadata": {
    "collapsed": false
   },
   "outputs": [
    {
     "data": {
      "text/plain": [
       "Synset('spider.n.01')"
      ]
     },
     "execution_count": 10,
     "metadata": {},
     "output_type": "execute_result"
    }
   ],
   "source": [
    "synset_spider_path"
   ]
  },
  {
   "cell_type": "code",
   "execution_count": 11,
   "metadata": {
    "collapsed": false
   },
   "outputs": [
    {
     "name": "stdout",
     "output_type": "stream",
     "text": [
      "El synset seleccionado es Synset('spider.n.01') con una similaridad total de 0.6190476190476191\n",
      "Su definición es: predatory arachnid with eight legs, two poison fangs, two feelers, and usually two silk-spinning organs at the back end of the body; they spin silk to make cocoons for eggs or traps for prey\n"
     ]
    }
   ],
   "source": [
    "print(\"El synset seleccionado es \"+str(synset_spider_path)+\" con una similaridad total de \"+str(max_similar))\n",
    "def_spider=wn.synset('spider.n.01').definition()\n",
    "print(\"Su definición es: \"+str(def_spider))"
   ]
  },
  {
   "cell_type": "markdown",
   "metadata": {},
   "source": [
    "##  5 Extracción de sinónimos"
   ]
  },
  {
   "cell_type": "code",
   "execution_count": 12,
   "metadata": {
    "collapsed": true
   },
   "outputs": [],
   "source": [
    "#Nos quedamos con los synsets definitivos\n",
    "synset_mosquito=synset_mosquito[0]\n",
    "synset_tsetse=synset_tsetse[0]\n",
    "synset_housefly=synset_housefly[0]\n",
    "synset_spider=synset_spider_path\n",
    "synset_cockroach=synset_cockroach[0]"
   ]
  },
  {
   "cell_type": "code",
   "execution_count": 13,
   "metadata": {
    "collapsed": false
   },
   "outputs": [
    {
     "name": "stdout",
     "output_type": "stream",
     "text": [
      "['mosquito']\n",
      "['tsetse_fly', 'tsetse', 'tzetze_fly', 'tzetze', 'glossina']\n",
      "['housefly', 'house_fly', 'Musca_domestica']\n",
      "['spider']\n",
      "['cockroach', 'roach']\n"
     ]
    }
   ],
   "source": [
    "#Para cada uno de los synsets, mostramos los lemmas que lo componen, que son sinónimos entre si\n",
    "print (synset_mosquito.lemma_names())\n",
    "print (synset_tsetse.lemma_names())\n",
    "print (synset_housefly.lemma_names())\n",
    "print (synset_spider.lemma_names())\n",
    "print (synset_cockroach.lemma_names())"
   ]
  },
  {
   "cell_type": "markdown",
   "metadata": {},
   "source": [
    "##  6 Árbol de Hiperónimos"
   ]
  },
  {
   "cell_type": "code",
   "execution_count": 28,
   "metadata": {
    "collapsed": false
   },
   "outputs": [
    {
     "name": "stdout",
     "output_type": "stream",
     "text": [
      "Árbol de Hiperónimos de Mosquito\n",
      "[[Synset('entity.n.01'), Synset('physical_entity.n.01'), Synset('object.n.01'), Synset('whole.n.02'), Synset('living_thing.n.01'), Synset('organism.n.01'), Synset('animal.n.01'), Synset('invertebrate.n.01'), Synset('arthropod.n.01'), Synset('insect.n.01'), Synset('dipterous_insect.n.01'), Synset('mosquito.n.01')]]\n",
      " \n",
      "Árbol de Hiperónimos de Tsetse\n",
      "[[Synset('entity.n.01'), Synset('physical_entity.n.01'), Synset('object.n.01'), Synset('whole.n.02'), Synset('living_thing.n.01'), Synset('organism.n.01'), Synset('animal.n.01'), Synset('invertebrate.n.01'), Synset('arthropod.n.01'), Synset('insect.n.01'), Synset('dipterous_insect.n.01'), Synset('fly.n.01'), Synset('tsetse_fly.n.01')]]\n",
      " \n",
      "Árbol de Hiperónimos de Housefly\n",
      "[[Synset('entity.n.01'), Synset('physical_entity.n.01'), Synset('object.n.01'), Synset('whole.n.02'), Synset('living_thing.n.01'), Synset('organism.n.01'), Synset('animal.n.01'), Synset('invertebrate.n.01'), Synset('arthropod.n.01'), Synset('insect.n.01'), Synset('dipterous_insect.n.01'), Synset('fly.n.01'), Synset('housefly.n.01')]]\n",
      "\n",
      "Árbol de Hiperónimos de Spider\n",
      "[[Synset('entity.n.01'), Synset('physical_entity.n.01'), Synset('object.n.01'), Synset('whole.n.02'), Synset('living_thing.n.01'), Synset('organism.n.01'), Synset('animal.n.01'), Synset('invertebrate.n.01'), Synset('arthropod.n.01'), Synset('arachnid.n.01'), Synset('spider.n.01')]]\n",
      "\n",
      "Árbol de Hiperónimos de Cockroach\n",
      "[[Synset('entity.n.01'), Synset('physical_entity.n.01'), Synset('object.n.01'), Synset('whole.n.02'), Synset('living_thing.n.01'), Synset('organism.n.01'), Synset('animal.n.01'), Synset('invertebrate.n.01'), Synset('arthropod.n.01'), Synset('insect.n.01'), Synset('dictyopterous_insect.n.01'), Synset('cockroach.n.01')]]\n"
     ]
    }
   ],
   "source": [
    "\n",
    "print(\"Árbol de Hiperónimos de Mosquito\")\n",
    "print(str(synset_mosquito.hypernym_paths()))\n",
    "print(\" \")\n",
    "print(\"Árbol de Hiperónimos de Tsetse\")\n",
    "print(str(synset_tsetse.hypernym_paths()))\n",
    "print(\" \")\n",
    "print(\"Árbol de Hiperónimos de Housefly\")\n",
    "print(str(synset_housefly.hypernym_paths()))\n",
    "print(\"\")\n",
    "print(\"Árbol de Hiperónimos de Spider\")\n",
    "print(str(synset_spider.hypernym_paths()))\n",
    "print(\"\")\n",
    "print(\"Árbol de Hiperónimos de Cockroach\")\n",
    "print(str(synset_cockroach.hypernym_paths()))"
   ]
  },
  {
   "cell_type": "markdown",
   "metadata": {},
   "source": [
    "## 8 Búsqueda del Ancestro común más bajo"
   ]
  },
  {
   "cell_type": "code",
   "execution_count": 24,
   "metadata": {
    "collapsed": false
   },
   "outputs": [
    {
     "name": "stdout",
     "output_type": "stream",
     "text": [
      "[Synset('dipterous_insect.n.01')] es el ancestro común mas bajo de Synset('mosquito.n.01') y Synset('tsetse_fly.n.01')\n",
      "[Synset('dipterous_insect.n.01')] es el ancestro común mas bajo de Synset('mosquito.n.01') y Synset('housefly.n.01')\n",
      "[Synset('arthropod.n.01')] es el ancestro común mas bajo de Synset('mosquito.n.01') y Synset('spider.n.01')\n",
      "[Synset('insect.n.01')] es el ancestro común mas bajo de Synset('mosquito.n.01') y Synset('cockroach.n.01')\n",
      "[Synset('dipterous_insect.n.01')] es el ancestro común mas bajo de Synset('tsetse_fly.n.01') y Synset('mosquito.n.01')\n",
      "[Synset('fly.n.01')] es el ancestro común mas bajo de Synset('tsetse_fly.n.01') y Synset('housefly.n.01')\n",
      "[Synset('arthropod.n.01')] es el ancestro común mas bajo de Synset('tsetse_fly.n.01') y Synset('spider.n.01')\n",
      "[Synset('insect.n.01')] es el ancestro común mas bajo de Synset('tsetse_fly.n.01') y Synset('cockroach.n.01')\n",
      "[Synset('dipterous_insect.n.01')] es el ancestro común mas bajo de Synset('housefly.n.01') y Synset('mosquito.n.01')\n",
      "[Synset('fly.n.01')] es el ancestro común mas bajo de Synset('housefly.n.01') y Synset('tsetse_fly.n.01')\n",
      "[Synset('arthropod.n.01')] es el ancestro común mas bajo de Synset('housefly.n.01') y Synset('spider.n.01')\n",
      "[Synset('insect.n.01')] es el ancestro común mas bajo de Synset('housefly.n.01') y Synset('cockroach.n.01')\n",
      "[Synset('arthropod.n.01')] es el ancestro común mas bajo de Synset('spider.n.01') y Synset('mosquito.n.01')\n",
      "[Synset('arthropod.n.01')] es el ancestro común mas bajo de Synset('spider.n.01') y Synset('tsetse_fly.n.01')\n",
      "[Synset('arthropod.n.01')] es el ancestro común mas bajo de Synset('spider.n.01') y Synset('housefly.n.01')\n",
      "[Synset('arthropod.n.01')] es el ancestro común mas bajo de Synset('spider.n.01') y Synset('cockroach.n.01')\n",
      "[Synset('insect.n.01')] es el ancestro común mas bajo de Synset('cockroach.n.01') y Synset('mosquito.n.01')\n",
      "[Synset('insect.n.01')] es el ancestro común mas bajo de Synset('cockroach.n.01') y Synset('tsetse_fly.n.01')\n",
      "[Synset('insect.n.01')] es el ancestro común mas bajo de Synset('cockroach.n.01') y Synset('housefly.n.01')\n",
      "[Synset('arthropod.n.01')] es el ancestro común mas bajo de Synset('cockroach.n.01') y Synset('spider.n.01')\n"
     ]
    }
   ],
   "source": [
    "synsets_list=[synset_mosquito,synset_tsetse,synset_housefly,synset_spider,synset_cockroach]\n",
    "for x in synsets_list:\n",
    "    for y in synsets_list:\n",
    "        if(x!=y):\n",
    "            \n",
    "            print(str(x.lowest_common_hypernyms(y))+\" es el ancestro común mas bajo de \"+str(x)+\" y \"+str(y))\n",
    "        "
   ]
  },
  {
   "cell_type": "markdown",
   "metadata": {},
   "source": [
    "Con el ancestro común más bajo es el Synset en común entre dos synsets más bajo en la jerarquía, que se representa como un grado. Es útil si queremos calcular la distancia entre dos nodos o synsets, ya que esta puede ser calculada como la suma de las distancias desde el ancestro a cada uno de los synsets"
   ]
  },
  {
   "cell_type": "markdown",
   "metadata": {},
   "source": [
    "## 9 Profundidad de los synsets"
   ]
  },
  {
   "cell_type": "markdown",
   "metadata": {},
   "source": [
    "La profundidad de los synsets puede calcularse a partir de la jerarquía de hiperónimos, contando cada uno de ellos"
   ]
  },
  {
   "cell_type": "code",
   "execution_count": 40,
   "metadata": {
    "collapsed": false
   },
   "outputs": [
    {
     "name": "stdout",
     "output_type": "stream",
     "text": [
      "Profundidad de Mosquito 12\n",
      "Profundidad de Tsetse 13\n",
      "Profundidad de Housefly 13\n",
      "Profundidad de Spider 11\n",
      "Profundidad de Cockroach 12\n"
     ]
    }
   ],
   "source": [
    "print(\"Profundidad de Mosquito \"+str(len(synset_mosquito.hypernym_paths()[0])))\n",
    "print(\"Profundidad de Tsetse \"+str(len(synset_tsetse.hypernym_paths()[0])))\n",
    "print(\"Profundidad de Housefly \"+str(len(synset_housefly.hypernym_paths()[0])))\n",
    "print(\"Profundidad de Spider \"+str(len(synset_spider.hypernym_paths()[0])))\n",
    "print(\"Profundidad de Cockroach \"+str(len(synset_cockroach.hypernym_paths()[0])))\n"
   ]
  },
  {
   "cell_type": "code",
   "execution_count": 41,
   "metadata": {
    "collapsed": true
   },
   "outputs": [],
   "source": [
    "max_similar=0\n",
    "max_pair=['x','y']\n",
    "for x in synsets_list:\n",
    "    for y in synsets_list:\n",
    "        if(x!=y):\n",
    "            path=x.path_similarity(y)\n",
    "            if(path>max_similar):\n",
    "                max_similar=path\n",
    "                max_pair=[x,y]"
   ]
  },
  {
   "cell_type": "code",
   "execution_count": 43,
   "metadata": {
    "collapsed": false
   },
   "outputs": [
    {
     "name": "stdout",
     "output_type": "stream",
     "text": [
      "Los synsets con mayor similaridad son: [Synset('tsetse_fly.n.01'), Synset('housefly.n.01')]\n"
     ]
    }
   ],
   "source": [
    "print(\"Los synsets con mayor similaridad son: \"+str(max_pair))"
   ]
  },
  {
   "cell_type": "markdown",
   "metadata": {},
   "source": [
    "Tal y como se ha mencionado anteriormente, el ancestro común más bajo puede servir para calcular la similaridad entre dos palabras. Este es el método utilziado por la función path_similarity, que calcula el camino más corto dentro de la jerarquía de hiperónimos, "
   ]
  }
 ],
 "metadata": {
  "kernelspec": {
   "display_name": "Python [default]",
   "language": "python",
   "name": "python3"
  },
  "language_info": {
   "codemirror_mode": {
    "name": "ipython",
    "version": 3
   },
   "file_extension": ".py",
   "mimetype": "text/x-python",
   "name": "python",
   "nbconvert_exporter": "python",
   "pygments_lexer": "ipython3",
   "version": "3.5.2"
  }
 },
 "nbformat": 4,
 "nbformat_minor": 2
}
