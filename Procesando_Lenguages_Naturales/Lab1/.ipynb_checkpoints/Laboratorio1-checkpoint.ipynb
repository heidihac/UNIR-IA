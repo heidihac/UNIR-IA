{
 "cells": [
  {
   "cell_type": "markdown",
   "metadata": {},
   "source": [
    "# Laboratorio 1\n"
   ]
  },
  {
   "cell_type": "code",
   "execution_count": 4,
   "metadata": {
    "collapsed": false
   },
   "outputs": [
    {
     "name": "stderr",
     "output_type": "stream",
     "text": [
      "[nltk_data] Downloading package wordnet to\n",
      "[nltk_data]     /Users/manuel.pasieka/nltk_data...\n",
      "[nltk_data]   Unzipping corpora/wordnet.zip.\n"
     ]
    },
    {
     "data": {
      "text/plain": [
       "True"
      ]
     },
     "execution_count": 4,
     "metadata": {},
     "output_type": "execute_result"
    }
   ],
   "source": [
    "from nltk.corpus import wordnet as wn\n",
    "import nltk\n",
    "nltk.download('wordnet')"
   ]
  },
  {
   "cell_type": "code",
   "execution_count": 6,
   "metadata": {
    "collapsed": false
   },
   "outputs": [],
   "source": [
    "syn = wn.synsets('dog')"
   ]
  },
  {
   "cell_type": "code",
   "execution_count": 9,
   "metadata": {
    "collapsed": false
   },
   "outputs": [],
   "source": [
    "a = syn[0]"
   ]
  },
  {
   "cell_type": "code",
   "execution_count": 15,
   "metadata": {
    "collapsed": false
   },
   "outputs": [
    {
     "data": {
      "text/plain": [
       "{'(probably',\n",
       " 'Canis',\n",
       " 'a',\n",
       " 'been',\n",
       " 'breeds',\n",
       " 'by',\n",
       " 'common',\n",
       " 'descended',\n",
       " 'domesticated',\n",
       " 'from',\n",
       " 'genus',\n",
       " 'has',\n",
       " 'in',\n",
       " 'man',\n",
       " 'many',\n",
       " 'member',\n",
       " 'occurs',\n",
       " 'of',\n",
       " 'prehistoric',\n",
       " 'since',\n",
       " 'that',\n",
       " 'the',\n",
       " 'times;',\n",
       " 'wolf)'}"
      ]
     },
     "execution_count": 15,
     "metadata": {},
     "output_type": "execute_result"
    }
   ],
   "source": [
    "set(a.definition().split())"
   ]
  },
  {
   "cell_type": "markdown",
   "metadata": {},
   "source": [
    "# 1) Synsets\n",
    "Obtén los diferentes synsets para cada una de las siguientes palabras:\n",
    "\n",
    "mosquito, tsetse, housefly, spider y cockroach.\n",
    "\n",
    "# 2) Definiciónes\n",
    "Muestra la definición de cada uno de los sentidos o synsets de las palabras del\n",
    "punto 1)."
   ]
  },
  {
   "cell_type": "code",
   "execution_count": 33,
   "metadata": {
    "collapsed": false
   },
   "outputs": [],
   "source": [
    "words = ['mosquito', 'tsetse', 'housefly', 'spider', 'cockroach']"
   ]
  },
  {
   "cell_type": "code",
   "execution_count": 53,
   "metadata": {
    "collapsed": false
   },
   "outputs": [
    {
     "name": "stdout",
     "output_type": "stream",
     "text": [
      "\n",
      "Word [mosquito] : Synsets (1) [[Synset('mosquito.n.01')]]\n",
      "> Syn [Synset('mosquito.n.01')] : Definition [two-winged insect whose female has a long proboscis to pierce the skin and suck the blood of humans and animals]\n",
      "\n",
      "Word [tsetse] : Synsets (1) [[Synset('tsetse_fly.n.01')]]\n",
      "> Syn [Synset('tsetse_fly.n.01')] : Definition [bloodsucking African fly; transmits sleeping sickness etc.]\n",
      "\n",
      "Word [housefly] : Synsets (1) [[Synset('housefly.n.01')]]\n",
      "> Syn [Synset('housefly.n.01')] : Definition [common fly that frequents human habitations and spreads many diseases]\n",
      "\n",
      "Word [spider] : Synsets (3) [[Synset('spider.n.01'), Synset('spider.n.02'), Synset('spider.n.03')]]\n",
      "> Syn [Synset('spider.n.01')] : Definition [predatory arachnid with eight legs, two poison fangs, two feelers, and usually two silk-spinning organs at the back end of the body; they spin silk to make cocoons for eggs or traps for prey]\n",
      "> Syn [Synset('spider.n.02')] : Definition [a computer program that prowls the internet looking for publicly accessible resources that can be added to a database; the database can then be searched with a search engine]\n",
      "> Syn [Synset('spider.n.03')] : Definition [a skillet made of cast iron]\n",
      "\n",
      "Word [cockroach] : Synsets (1) [[Synset('cockroach.n.01')]]\n",
      "> Syn [Synset('cockroach.n.01')] : Definition [any of numerous chiefly nocturnal insects; some are domestic pests]\n"
     ]
    }
   ],
   "source": [
    "for word in words:\n",
    "    synsets = wn.synsets(word)\n",
    "    print('\\nWord [%s] : Synsets (%d) [%s]' % (word, len(synsets), synsets))\n",
    "    for syn in synsets:\n",
    "        print('> Synset [%s] : Definition [%s]' % (syn, syn.definition()))"
   ]
  },
  {
   "cell_type": "markdown",
   "metadata": {},
   "source": [
    "# 3 Único synset\n",
    "Si alguna de las palabras tuviera más de un posible sentido (synset), deberás seleccionar un único sentido para poder seguir desarrollando la actividad.\n",
    "Para seleccionar ese único sentido intenta aplica un método parecido al algoritmo de Lesk. Es decir, compara la definición de cada sentido de la palabra con múltiples synsets con las definiciones del resto de palabras que tienen un único sentido (synset) y selecciona el sentido que tenga más palabras en común. Explica en el informe si el método que has aplicado crees que proporciona una buena solución o no y por qué.\n",
    "\n",
    "## Resultado\n",
    "Hemos utilizado la implementation LESK de NLTK, limitando las resultados a los POS=N\n",
    "\n",
    "El synset elejido por LESK para la palabra 'spider' no parece adecuado y tal vez es el resultado elegido porque tiene la defición más corta. Así la falta de overlap entre la firma de palabras de contexto y la palabra en question es menor."
   ]
  },
  {
   "cell_type": "code",
   "execution_count": 54,
   "metadata": {
    "collapsed": false
   },
   "outputs": [],
   "source": [
    "from nltk.wsd import lesk\n",
    "\n",
    "# Use LESK to calculate most likely synset, only look at Nouns\n",
    "def mostLikely(word, context):\n",
    "    return lesk(context, word, pos='n')\n",
    "\n",
    "\n",
    "def get_most_likely_synset(word_list):\n",
    "    return [mostLikely(word, word_list) for word in word_list]"
   ]
  },
  {
   "cell_type": "code",
   "execution_count": 55,
   "metadata": {
    "collapsed": false
   },
   "outputs": [
    {
     "data": {
      "text/plain": [
       "[Synset('mosquito.n.01'),\n",
       " Synset('tsetse_fly.n.01'),\n",
       " Synset('housefly.n.01'),\n",
       " Synset('spider.n.03'),\n",
       " Synset('cockroach.n.01')]"
      ]
     },
     "execution_count": 55,
     "metadata": {},
     "output_type": "execute_result"
    }
   ],
   "source": [
    "synsets = get_most_likely_synset(words)\n",
    "synsets"
   ]
  },
  {
   "cell_type": "code",
   "execution_count": 56,
   "metadata": {
    "collapsed": false
   },
   "outputs": [
    {
     "name": "stdout",
     "output_type": "stream",
     "text": [
      "Synset [Synset('mosquito.n.01')] : Defintion [two-winged insect whose female has a long proboscis to pierce the skin and suck the blood of humans and animals]\n",
      "Synset [Synset('tsetse_fly.n.01')] : Defintion [bloodsucking African fly; transmits sleeping sickness etc.]\n",
      "Synset [Synset('housefly.n.01')] : Defintion [common fly that frequents human habitations and spreads many diseases]\n",
      "Synset [Synset('spider.n.03')] : Defintion [a skillet made of cast iron]\n",
      "Synset [Synset('cockroach.n.01')] : Defintion [any of numerous chiefly nocturnal insects; some are domestic pests]\n"
     ]
    }
   ],
   "source": [
    "definitions = [syn.definition() for syn in synsets]\n",
    "for syn, definition in zip(synsets, definitions):\n",
    "    print('Synset [%s] : Defintion [%s]' % (syn, definition))"
   ]
  },
  {
   "cell_type": "markdown",
   "metadata": {},
   "source": [
    "# 4 Otra manera de resolver la ambiguedad de palabras\n",
    "Ignora el resultado obtenido en el punto 3) y utiliza un método basado en la similitud entre palabras para escoger un único sentido para las palabras que tengan más de un posible sentido (synset). Concretamente utiliza la medida de similitud entre sentidos basada en la longitud del camino para seleccionar el sentido más similar de la palabra que tiene múltiples sentidos con respecto al resto de las palabras. Indica en el informe las decisiones de diseño que hayas tomado para implementar este método de selección."
   ]
  },
  {
   "cell_type": "code",
   "execution_count": 126,
   "metadata": {
    "collapsed": false
   },
   "outputs": [
    {
     "data": {
      "text/plain": [
       "[Synset('spider.n.01'), Synset('spider.n.02'), Synset('spider.n.03')]"
      ]
     },
     "execution_count": 126,
     "metadata": {},
     "output_type": "execute_result"
    }
   ],
   "source": [
    "word_syns = wn.synsets('spider')\n",
    "word_syns"
   ]
  },
  {
   "cell_type": "code",
   "execution_count": 127,
   "metadata": {
    "collapsed": false
   },
   "outputs": [
    {
     "data": {
      "text/plain": [
       "[Synset('mosquito.n.01'),\n",
       " Synset('tsetse_fly.n.01'),\n",
       " Synset('housefly.n.01'),\n",
       " Synset('cockroach.n.01')]"
      ]
     },
     "execution_count": 127,
     "metadata": {},
     "output_type": "execute_result"
    }
   ],
   "source": [
    "other_syns = [wn.synsets(w)[0] for w in ['mosquito', 'tsetse', 'housefly', 'cockroach']]\n",
    "other_syns"
   ]
  },
  {
   "cell_type": "code",
   "execution_count": 120,
   "metadata": {
    "collapsed": true
   },
   "outputs": [],
   "source": [
    "def get_list_overlap(l1, l2):\n",
    "    \"\"\"\n",
    "    Get the overlapping elements in two lists\n",
    "    \"\"\"\n",
    "    lcommon = []\n",
    "    for i, j in zip(l1, l2):\n",
    "        if i == j:\n",
    "            lcommon.append(i)\n",
    "        else:\n",
    "            break\n",
    "    \n",
    "    return lcommon\n",
    "\n",
    "\n",
    "def common_synset_path(syn_list):\n",
    "    \"\"\"\n",
    "    Return the common synset_path\n",
    "    \"\"\"\n",
    "    common = syn_list[0].hypernym_paths()[0]\n",
    "    for ss in syn_list:\n",
    "        common = get_list_overlap(common, ss.hypernym_paths()[0])\n",
    "    return common"
   ]
  },
  {
   "cell_type": "code",
   "execution_count": 142,
   "metadata": {
    "collapsed": false
   },
   "outputs": [
    {
     "name": "stdout",
     "output_type": "stream",
     "text": [
      "Common path for synset [Synset('spider.n.01')] length 9\n",
      "[Synset('entity.n.01'), Synset('physical_entity.n.01'), Synset('object.n.01'), Synset('whole.n.02'), Synset('living_thing.n.01'), Synset('organism.n.01'), Synset('animal.n.01'), Synset('invertebrate.n.01'), Synset('arthropod.n.01')]\n",
      "\n",
      "Common path for synset [Synset('spider.n.02')] length 1\n",
      "[Synset('entity.n.01')]\n",
      "\n",
      "Common path for synset [Synset('spider.n.03')] length 4\n",
      "[Synset('entity.n.01'), Synset('physical_entity.n.01'), Synset('object.n.01'), Synset('whole.n.02')]\n",
      "\n"
     ]
    }
   ],
   "source": [
    "longest_path = []\n",
    "best_fit = None\n",
    "for ws in word_syns:\n",
    "    cp = common_synset_path(other_syns + [ws, ])\n",
    "    if len(cp) > len(longest_path):\n",
    "        longest_path = cp\n",
    "        best_fit = ws\n",
    "    print('Common path for synset [%s] length %d\\n%s\\n' % (ws, len(cp), cp))"
   ]
  },
  {
   "cell_type": "code",
   "execution_count": 146,
   "metadata": {
    "collapsed": false
   },
   "outputs": [
    {
     "data": {
      "text/plain": [
       "Synset('spider.n.01')"
      ]
     },
     "execution_count": 146,
     "metadata": {},
     "output_type": "execute_result"
    }
   ],
   "source": [
    "best_fit"
   ]
  },
  {
   "cell_type": "markdown",
   "metadata": {},
   "source": [
    "## Resultados\n",
    "El **Synset('spider.n.01')** tiene el padre comun entre todos los synsets más profundo en el arbol hierarquico, por eso parece el synset más adequado."
   ]
  },
  {
   "cell_type": "markdown",
   "metadata": {},
   "source": [
    "# 5 Sinónimos\n",
    "Una vez hayas seleccionado un único sentido para cada una de las palabras, para cada uno de esos cinco synsets muestra las palabras que son sinónimos y que conforman el synset, es decir los sinónimos que comparten un mismo significado."
   ]
  },
  {
   "cell_type": "code",
   "execution_count": 150,
   "metadata": {
    "collapsed": false
   },
   "outputs": [],
   "source": [
    "best_syns = other_syns + [best_fit, ]"
   ]
  },
  {
   "cell_type": "code",
   "execution_count": 193,
   "metadata": {
    "collapsed": false
   },
   "outputs": [],
   "source": [
    "synonyms = []\n",
    "for syns in best_syns:\n",
    "    # Extract Synset for each lemma (lemmas are the synonyms)\n",
    "    synonyms.append([l.name() for l in syns.lemmas()])"
   ]
  },
  {
   "cell_type": "code",
   "execution_count": 194,
   "metadata": {
    "collapsed": false
   },
   "outputs": [
    {
     "data": {
      "text/plain": [
       "[['mosquito'],\n",
       " ['tsetse_fly', 'tsetse', 'tzetze_fly', 'tzetze', 'glossina'],\n",
       " ['housefly', 'house_fly', 'Musca_domestica'],\n",
       " ['cockroach', 'roach'],\n",
       " ['spider']]"
      ]
     },
     "execution_count": 194,
     "metadata": {},
     "output_type": "execute_result"
    }
   ],
   "source": [
    "synonyms"
   ]
  },
  {
   "cell_type": "markdown",
   "metadata": {},
   "source": [
    "# 6 Hiperónimos \n",
    "Para cada uno de los cinco synsets obtén sus hiperónimos, de hecho, muestra toda la jerarquía de hiperónimos no solo el hiperónimo directo."
   ]
  },
  {
   "cell_type": "code",
   "execution_count": 199,
   "metadata": {
    "collapsed": true
   },
   "outputs": [],
   "source": [
    "hps = [syn.hypernym_paths()[0] for syn in best_syns]"
   ]
  },
  {
   "cell_type": "code",
   "execution_count": 203,
   "metadata": {
    "collapsed": false
   },
   "outputs": [
    {
     "name": "stdout",
     "output_type": "stream",
     "text": [
      "Syn [Synset('mosquito.n.01')] Hiperonimo Path:\n",
      "[Synset('entity.n.01'), Synset('physical_entity.n.01'), Synset('object.n.01'), Synset('whole.n.02'), Synset('living_thing.n.01'), Synset('organism.n.01'), Synset('animal.n.01'), Synset('invertebrate.n.01'), Synset('arthropod.n.01'), Synset('insect.n.01'), Synset('dipterous_insect.n.01'), Synset('mosquito.n.01')]\n",
      "\n",
      "\n",
      "Syn [Synset('tsetse_fly.n.01')] Hiperonimo Path:\n",
      "[Synset('entity.n.01'), Synset('physical_entity.n.01'), Synset('object.n.01'), Synset('whole.n.02'), Synset('living_thing.n.01'), Synset('organism.n.01'), Synset('animal.n.01'), Synset('invertebrate.n.01'), Synset('arthropod.n.01'), Synset('insect.n.01'), Synset('dipterous_insect.n.01'), Synset('fly.n.01'), Synset('tsetse_fly.n.01')]\n",
      "\n",
      "\n",
      "Syn [Synset('housefly.n.01')] Hiperonimo Path:\n",
      "[Synset('entity.n.01'), Synset('physical_entity.n.01'), Synset('object.n.01'), Synset('whole.n.02'), Synset('living_thing.n.01'), Synset('organism.n.01'), Synset('animal.n.01'), Synset('invertebrate.n.01'), Synset('arthropod.n.01'), Synset('insect.n.01'), Synset('dipterous_insect.n.01'), Synset('fly.n.01'), Synset('housefly.n.01')]\n",
      "\n",
      "\n",
      "Syn [Synset('cockroach.n.01')] Hiperonimo Path:\n",
      "[Synset('entity.n.01'), Synset('physical_entity.n.01'), Synset('object.n.01'), Synset('whole.n.02'), Synset('living_thing.n.01'), Synset('organism.n.01'), Synset('animal.n.01'), Synset('invertebrate.n.01'), Synset('arthropod.n.01'), Synset('insect.n.01'), Synset('dictyopterous_insect.n.01'), Synset('cockroach.n.01')]\n",
      "\n",
      "\n",
      "Syn [Synset('spider.n.01')] Hiperonimo Path:\n",
      "[Synset('entity.n.01'), Synset('physical_entity.n.01'), Synset('object.n.01'), Synset('whole.n.02'), Synset('living_thing.n.01'), Synset('organism.n.01'), Synset('animal.n.01'), Synset('invertebrate.n.01'), Synset('arthropod.n.01'), Synset('arachnid.n.01'), Synset('spider.n.01')]\n",
      "\n",
      "\n"
     ]
    }
   ],
   "source": [
    "for syn, hp in zip(best_syns, hps):\n",
    "    print('Syn [%s] Hiperonimo Path:\\n%s\\n\\n' % (syn, hp))"
   ]
  },
  {
   "cell_type": "markdown",
   "metadata": {},
   "source": [
    "# 7 Tesauro\n",
    "Dibuja un tesauro donde se muestre la jerarquía de los cinco synsets y sus hiperónimos desde el nivel superior de la jerarquía hasta llegar al nivel donde aparezcan los sentidos de las cinco palabras analizadas."
   ]
  },
  {
   "cell_type": "code",
   "execution_count": 209,
   "metadata": {
    "collapsed": false
   },
   "outputs": [],
   "source": [
    "# Build from and to arrays\n",
    "from_list = []\n",
    "to_list = []\n",
    "for hp in hps:\n",
    "    for src, dest in zip(hp, hp[1:]):\n",
    "        from_list.append(src.name())\n",
    "        to_list.append(dest.name())"
   ]
  },
  {
   "cell_type": "code",
   "execution_count": 241,
   "metadata": {
    "collapsed": false
   },
   "outputs": [
    {
     "name": "stderr",
     "output_type": "stream",
     "text": [
      "/Users/manuel.pasieka/anaconda3/envs/py3/lib/python3.6/site-packages/networkx/drawing/nx_pylab.py:126: MatplotlibDeprecationWarning: pyplot.hold is deprecated.\n",
      "    Future behavior will be consistent with the long-time default:\n",
      "    plot commands add elements without first clearing the\n",
      "    Axes and/or Figure.\n",
      "  b = plt.ishold()\n",
      "/Users/manuel.pasieka/anaconda3/envs/py3/lib/python3.6/site-packages/networkx/drawing/nx_pylab.py:522: MatplotlibDeprecationWarning: The is_string_like function was deprecated in version 2.1.\n",
      "  if not cb.is_string_like(edge_color) \\\n",
      "/Users/manuel.pasieka/anaconda3/envs/py3/lib/python3.6/site-packages/networkx/drawing/nx_pylab.py:543: MatplotlibDeprecationWarning: The is_string_like function was deprecated in version 2.1.\n",
      "  if cb.is_string_like(edge_color) or len(edge_color) == 1:\n",
      "/Users/manuel.pasieka/anaconda3/envs/py3/lib/python3.6/site-packages/networkx/drawing/nx_pylab.py:724: MatplotlibDeprecationWarning: The is_string_like function was deprecated in version 2.1.\n",
      "  if not cb.is_string_like(label):\n",
      "/Users/manuel.pasieka/anaconda3/envs/py3/lib/python3.6/site-packages/networkx/drawing/nx_pylab.py:138: MatplotlibDeprecationWarning: pyplot.hold is deprecated.\n",
      "    Future behavior will be consistent with the long-time default:\n",
      "    plot commands add elements without first clearing the\n",
      "    Axes and/or Figure.\n",
      "  plt.hold(b)\n",
      "/Users/manuel.pasieka/anaconda3/envs/py3/lib/python3.6/site-packages/matplotlib/__init__.py:911: MatplotlibDeprecationWarning: axes.hold is deprecated. Please remove it from your matplotlibrc and/or style files.\n",
      "  mplDeprecation)\n",
      "/Users/manuel.pasieka/anaconda3/envs/py3/lib/python3.6/site-packages/matplotlib/rcsetup.py:156: MatplotlibDeprecationWarning: axes.hold is deprecated, will be removed in 3.0\n",
      "  mplDeprecation)\n"
     ]
    },
    {
     "data": {
      "image/png": "[encoded data removed]",
      "text/plain": [
       "<Figure size 720x720 with 1 Axes>"
      ]
     },
     "metadata": {},
     "output_type": "display_data"
    }
   ],
   "source": [
    "import pandas as pd\n",
    "import numpy as np\n",
    "import networkx as nx\n",
    "import matplotlib.pyplot as plt\n",
    " \n",
    "# Build a dataframe with your connections\n",
    "df = pd.DataFrame({ 'from':from_list, 'to':to_list})\n",
    "df\n",
    " \n",
    "# Build your graph\n",
    "G=nx.from_pandas_dataframe(df, 'from', 'to')\n",
    "plt.figure(figsize=(10,10))\n",
    "nx.draw(G, pos=nx.spectral_layout(G, scale=100), with_labels=True, node_size=50, node_color=\"skyblue\", node_shape=\"s\", alpha=0.5, linewidths=40, figsize=(40, 40))\n",
    "plt.show() "
   ]
  },
  {
   "cell_type": "markdown",
   "metadata": {},
   "source": [
    "# 9 Profundidad de synsets\n",
    "Calcula la profundidad de cada uno de los cinco synsets. Comenta en el informe que significa esta medida y cómo se observa en el tesauro que has dibujado en el punto 7).\n",
    "\n",
    "## Resoltado\n",
    "El depth son el numer de saltos + 1 que hay entre el raiz (entity.n.01) y el synset."
   ]
  },
  {
   "cell_type": "code",
   "execution_count": 244,
   "metadata": {
    "collapsed": false
   },
   "outputs": [
    {
     "name": "stdout",
     "output_type": "stream",
     "text": [
      "Syn [Synset('mosquito.n.01')] Hiperonimo Path Depth 12\n",
      "Syn [Synset('tsetse_fly.n.01')] Hiperonimo Path Depth 13\n",
      "Syn [Synset('housefly.n.01')] Hiperonimo Path Depth 13\n",
      "Syn [Synset('cockroach.n.01')] Hiperonimo Path Depth 12\n",
      "Syn [Synset('spider.n.01')] Hiperonimo Path Depth 11\n"
     ]
    }
   ],
   "source": [
    "for syn, hp in zip(best_syns, hps):\n",
    "    print('Syn [%s] Hiperonimo Path Depth %d' % (syn, len(hp)))"
   ]
  },
  {
   "cell_type": "markdown",
   "metadata": {},
   "source": [
    "# 10 Similaridad de pares\n",
    "Por último, indica que par de palabras de las cinco que has analizado en este laboratorio son las más similares. Relaciona el resultado obtenido con los valores de los ancestros común más bajos calculados en el punto 8) y los valores de las profundidades calculada en el punto 9). Es decir, explica cómo se ha medido la similitud entre palabras.\n",
    "\n",
    "## Resultados\n",
    "Estamos calculando la distancia de cada synset del nodo comun, y estamos sumando esta distancia para cada pareja de synsets.\n",
    "\n",
    "Las synsets más parecidos entonces son **Synset('housefly.n.01'), Synset('tsetse_fly.n.01')**"
   ]
  },
  {
   "cell_type": "code",
   "execution_count": 245,
   "metadata": {
    "collapsed": false
   },
   "outputs": [
    {
     "data": {
      "text/plain": [
       "[Synset('mosquito.n.01'),\n",
       " Synset('tsetse_fly.n.01'),\n",
       " Synset('housefly.n.01'),\n",
       " Synset('cockroach.n.01'),\n",
       " Synset('spider.n.01')]"
      ]
     },
     "execution_count": 245,
     "metadata": {},
     "output_type": "execute_result"
    }
   ],
   "source": [
    "best_syns"
   ]
  },
  {
   "cell_type": "code",
   "execution_count": 252,
   "metadata": {
    "collapsed": false
   },
   "outputs": [
    {
     "name": "stdout",
     "output_type": "stream",
     "text": [
      "Distance between nodes (Synset('mosquito.n.01'), Synset('tsetse_fly.n.01')) : 3\n",
      "Distance between nodes (Synset('mosquito.n.01'), Synset('housefly.n.01')) : 3\n",
      "Distance between nodes (Synset('mosquito.n.01'), Synset('cockroach.n.01')) : 4\n",
      "Distance between nodes (Synset('mosquito.n.01'), Synset('spider.n.01')) : 5\n",
      "Distance between nodes (Synset('tsetse_fly.n.01'), Synset('mosquito.n.01')) : 3\n",
      "Distance between nodes (Synset('tsetse_fly.n.01'), Synset('housefly.n.01')) : 2\n",
      "Distance between nodes (Synset('tsetse_fly.n.01'), Synset('cockroach.n.01')) : 5\n",
      "Distance between nodes (Synset('tsetse_fly.n.01'), Synset('spider.n.01')) : 6\n",
      "Distance between nodes (Synset('housefly.n.01'), Synset('mosquito.n.01')) : 3\n",
      "Distance between nodes (Synset('housefly.n.01'), Synset('tsetse_fly.n.01')) : 2\n",
      "Distance between nodes (Synset('housefly.n.01'), Synset('cockroach.n.01')) : 5\n",
      "Distance between nodes (Synset('housefly.n.01'), Synset('spider.n.01')) : 6\n",
      "Distance between nodes (Synset('cockroach.n.01'), Synset('mosquito.n.01')) : 4\n",
      "Distance between nodes (Synset('cockroach.n.01'), Synset('tsetse_fly.n.01')) : 5\n",
      "Distance between nodes (Synset('cockroach.n.01'), Synset('housefly.n.01')) : 5\n",
      "Distance between nodes (Synset('cockroach.n.01'), Synset('spider.n.01')) : 5\n",
      "Distance between nodes (Synset('spider.n.01'), Synset('mosquito.n.01')) : 5\n",
      "Distance between nodes (Synset('spider.n.01'), Synset('tsetse_fly.n.01')) : 6\n",
      "Distance between nodes (Synset('spider.n.01'), Synset('housefly.n.01')) : 6\n",
      "Distance between nodes (Synset('spider.n.01'), Synset('cockroach.n.01')) : 5\n"
     ]
    }
   ],
   "source": [
    "for s1 in best_syns:\n",
    "    for s2 in best_syns:\n",
    "        if s1 == s2:\n",
    "            continue\n",
    "        # Common path lengt\n",
    "        cp = common_synset_path([s1, s2])\n",
    "        length = len(cp)\n",
    "        # How many steps is each synset away from the common ancestor?\n",
    "        s1len = len(s1.hypernym_paths()[0]) - length\n",
    "        s2len = len(s2.hypernym_paths()[0]) - length\n",
    "        \n",
    "        print('Distance between nodes (%s, %s) : %d' % (s1, s2, s1len+s2len))"
   ]
  }
 ],
 "metadata": {
  "anaconda-cloud": {},
  "kernelspec": {
   "display_name": "Python [conda env:py3]",
   "language": "python",
   "name": "conda-env-py3-py"
  },
  "language_info": {
   "codemirror_mode": {
    "name": "ipython",
    "version": 3
   },
   "file_extension": ".py",
   "mimetype": "text/x-python",
   "name": "python",
   "nbconvert_exporter": "python",
   "pygments_lexer": "ipython3",
   "version": "3.6.5"
  }
 },
 "nbformat": 4,
 "nbformat_minor": 1
}
