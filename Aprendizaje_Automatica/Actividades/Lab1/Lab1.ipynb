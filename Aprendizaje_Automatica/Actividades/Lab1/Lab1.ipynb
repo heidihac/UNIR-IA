{
 "cells": [
  {
   "cell_type": "code",
   "execution_count": 121,
   "metadata": {
    "colab": {},
    "colab_type": "code",
    "collapsed": true,
    "id": "MvbJJ4dYrHeS"
   },
   "outputs": [],
   "source": [
    "import numpy as np\n",
    "import pandas as pd\n",
    "import math\n",
    "from sklearn.naive_bayes import GaussianNB\n",
    "from sklearn.preprocessing import LabelEncoder\n",
    "from sklearn.model_selection import train_test_split\n",
    "from sklearn.metrics import accuracy_score, mean_squared_error, mean_absolute_error, mean_squared_log_error\n",
    "from sklearn import svm\n",
    "from sklearn.model_selection import GridSearchCV\n",
    "import io\n",
    "import requests\n",
    "from sklearn.neural_network import MLPRegressor\n",
    "from sklearn import linear_model\n",
    "from  matplotlib import pyplot\n",
    "from sklearn.preprocessing import LabelEncoder\n",
    "from sklearn.preprocessing import StandardScaler  "
   ]
  },
  {
   "cell_type": "code",
   "execution_count": 122,
   "metadata": {
    "colab": {
     "base_uri": "https://localhost:8080/",
     "height": 204
    },
    "colab_type": "code",
    "collapsed": false,
    "id": "P2f7LpIv0fb2",
    "outputId": "4da2868f-b567-4ac2-f08e-e69e16dd0216"
   },
   "outputs": [
    {
     "data": {
      "text/html": [
       "<div>\n",
       "<style scoped>\n",
       "    .dataframe tbody tr th:only-of-type {\n",
       "        vertical-align: middle;\n",
       "    }\n",
       "\n",
       "    .dataframe tbody tr th {\n",
       "        vertical-align: top;\n",
       "    }\n",
       "\n",
       "    .dataframe thead th {\n",
       "        text-align: right;\n",
       "    }\n",
       "</style>\n",
       "<table border=\"1\" class=\"dataframe\">\n",
       "  <thead>\n",
       "    <tr style=\"text-align: right;\">\n",
       "      <th></th>\n",
       "      <th>mpg</th>\n",
       "      <th>cylinders</th>\n",
       "      <th>displacement</th>\n",
       "      <th>horsepower</th>\n",
       "      <th>weight</th>\n",
       "      <th>acceleration</th>\n",
       "      <th>model year</th>\n",
       "      <th>origin</th>\n",
       "      <th>car name</th>\n",
       "    </tr>\n",
       "  </thead>\n",
       "  <tbody>\n",
       "    <tr>\n",
       "      <th>0</th>\n",
       "      <td>18.0</td>\n",
       "      <td>8</td>\n",
       "      <td>307.0</td>\n",
       "      <td>130.0</td>\n",
       "      <td>3504.0</td>\n",
       "      <td>12.0</td>\n",
       "      <td>70</td>\n",
       "      <td>1</td>\n",
       "      <td>chevrolet chevelle malibu</td>\n",
       "    </tr>\n",
       "    <tr>\n",
       "      <th>1</th>\n",
       "      <td>15.0</td>\n",
       "      <td>8</td>\n",
       "      <td>350.0</td>\n",
       "      <td>165.0</td>\n",
       "      <td>3693.0</td>\n",
       "      <td>11.5</td>\n",
       "      <td>70</td>\n",
       "      <td>1</td>\n",
       "      <td>buick skylark 320</td>\n",
       "    </tr>\n",
       "    <tr>\n",
       "      <th>2</th>\n",
       "      <td>18.0</td>\n",
       "      <td>8</td>\n",
       "      <td>318.0</td>\n",
       "      <td>150.0</td>\n",
       "      <td>3436.0</td>\n",
       "      <td>11.0</td>\n",
       "      <td>70</td>\n",
       "      <td>1</td>\n",
       "      <td>plymouth satellite</td>\n",
       "    </tr>\n",
       "    <tr>\n",
       "      <th>3</th>\n",
       "      <td>16.0</td>\n",
       "      <td>8</td>\n",
       "      <td>304.0</td>\n",
       "      <td>150.0</td>\n",
       "      <td>3433.0</td>\n",
       "      <td>12.0</td>\n",
       "      <td>70</td>\n",
       "      <td>1</td>\n",
       "      <td>amc rebel sst</td>\n",
       "    </tr>\n",
       "    <tr>\n",
       "      <th>4</th>\n",
       "      <td>17.0</td>\n",
       "      <td>8</td>\n",
       "      <td>302.0</td>\n",
       "      <td>140.0</td>\n",
       "      <td>3449.0</td>\n",
       "      <td>10.5</td>\n",
       "      <td>70</td>\n",
       "      <td>1</td>\n",
       "      <td>ford torino</td>\n",
       "    </tr>\n",
       "  </tbody>\n",
       "</table>\n",
       "</div>"
      ],
      "text/plain": [
       "    mpg  cylinders  displacement horsepower  weight  acceleration  model year  origin                   car name\n",
       "0  18.0          8         307.0      130.0  3504.0          12.0          70       1  chevrolet chevelle malibu\n",
       "1  15.0          8         350.0      165.0  3693.0          11.5          70       1          buick skylark 320\n",
       "2  18.0          8         318.0      150.0  3436.0          11.0          70       1         plymouth satellite\n",
       "3  16.0          8         304.0      150.0  3433.0          12.0          70       1              amc rebel sst\n",
       "4  17.0          8         302.0      140.0  3449.0          10.5          70       1                ford torino"
      ]
     },
     "execution_count": 122,
     "metadata": {},
     "output_type": "execute_result"
    }
   ],
   "source": [
    "#Se lee la información desde la url\n",
    "url=\"http://archive.ics.uci.edu/ml/machine-learning-databases/auto-mpg/auto-mpg.data\"\n",
    "s=requests.get(url).content\n",
    "\n",
    "#Se definen las variables target y features\n",
    "target = ['mpg']\n",
    "features = [ 'cylinders',\n",
    "'displacement',\n",
    "'horsepower',\n",
    "'weight',\n",
    "'acceleration',\n",
    "'model year',\n",
    "'origin',\n",
    "'car name']\n",
    "input_columns = target + features\n",
    "\n",
    "#Se carga el dataset leído desde la url en un dataframe\n",
    "data = pd.read_csv(io.StringIO(s.decode('utf-8')),delim_whitespace=True,names=input_columns)\n",
    "data.head()"
   ]
  },
  {
   "cell_type": "code",
   "execution_count": 123,
   "metadata": {
    "collapsed": false
   },
   "outputs": [
    {
     "name": "stdout",
     "output_type": "stream",
     "text": [
      "Number of features 8\n",
      "Number of Data Points 398\n",
      "\n",
      "The number of missing data points per feature\n",
      "\n",
      "mpg             0\n",
      "cylinders       0\n",
      "displacement    0\n",
      "horsepower      6\n",
      "weight          0\n",
      "acceleration    0\n",
      "model year      0\n",
      "origin          0\n",
      "car name        0\n",
      "dtype: int64\n"
     ]
    }
   ],
   "source": [
    "print(f'Number of features {data.shape[1]-1}\\nNumber of Data Points {data.shape[0]}')\n",
    "missing_data_points =(data == '?').astype(int).sum()\n",
    "print(f'\\nThe number of missing data points per feature\\n\\n{missing_data_points}')"
   ]
  },
  {
   "cell_type": "code",
   "execution_count": 124,
   "metadata": {
    "colab": {
     "base_uri": "https://localhost:8080/",
     "height": 204
    },
    "colab_type": "code",
    "collapsed": false,
    "id": "7erL-8JBrHej",
    "outputId": "69f50a28-2cc3-4835-e552-34e79de1db4a"
   },
   "outputs": [
    {
     "name": "stdout",
     "output_type": "stream",
     "text": [
      "Using 298 Data points for training, 50 for testing and 50 for validation ...\n"
     ]
    }
   ],
   "source": [
    "data['car name'] = LabelEncoder().fit_transform(data['car name'])\n",
    "data=data.replace('?', np.nan).ffill()\n",
    "\n",
    "car_train, car_test, tar_train, tar_test = train_test_split(data[features], data[target],test_size = 0.25,random_state=2)\n",
    "car_test, validation, tar_test, target_validation = train_test_split(car_test, tar_test,test_size = 0.5,random_state=2)\n",
    "\n",
    "# Convert targets to 1d array in order to remove warnings\n",
    "tar_train = tar_train.values.ravel()\n",
    "tar_test = tar_test.values.ravel()\n",
    "target_validation = target_validation.values.ravel()\n",
    "\n",
    "print(f'Using {car_train.shape[0]} Data points for training, {car_test.shape[0]} for testing and {target_validation.shape[0]} for validation ...')"
   ]
  },
  {
   "cell_type": "code",
   "execution_count": 95,
   "metadata": {
    "colab": {
     "base_uri": "https://localhost:8080/",
     "height": 85
    },
    "colab_type": "code",
    "collapsed": false,
    "id": "EWkuoWB6rHem",
    "outputId": "4df0c75c-93fb-490b-fb82-bf7187578bf4"
   },
   "outputs": [
    {
     "name": "stdout",
     "output_type": "stream",
     "text": [
      "Se ha conseguido un score de 0.8345560117732478 utilizando los parámetros: C: 1, Kernel: linear, Gamma: 0.001\n",
      "Error cuadrático medio (MSE): 10.638848530107234\n",
      "Error absoluto medio (MAE): 2.5145364278111817\n",
      "Raíz del error cuadrático medio (RMSE): 3.261724778412065\n"
     ]
    }
   ],
   "source": [
    "#Para buscar la configuración más óptima, \n",
    "#Definimos dos posibles tipos de kernel. Un kernel radial y otro lineal\n",
    "kernels=['rbf','linear']\n",
    "#Definimos varios valores de C, que determinan el tamaño del softmargin, para probar cuál de ellos es más óptimo\n",
    "cs=[0.001, 0.10, 0.1, 1, 10]\n",
    "#Definimos varios valores de gamma, que determinan el radio de influencia de cada punto\n",
    "gammas=[0.001, 0.01, 0.1, 1]\n",
    "\n",
    "#Inicializamos las variables que guardarán los mejores valores encontrados\n",
    "maxscore=-100\n",
    "maxkernel=''\n",
    "maxcs=0\n",
    "maxgamma=0\n",
    "mse = 0\n",
    "mse = 0\n",
    "mae = 0\n",
    "#rmlse=0\n",
    "prediction=0\n",
    "best_SVM = None\n",
    "\n",
    "#Vamos recorriendo todas las posibles configuraciones de kernel, C y gamma\n",
    "for i in kernels:\n",
    "    for j in cs:\n",
    "        for k in gammas:\n",
    "            #Creamos un nuevo modelo\n",
    "            model=svm.SVR(kernel=i,C=j, gamma=k)\n",
    "            #Entrenamos el modelo\n",
    "            model.fit(car_train, tar_train) \n",
    "            #Obtenemos los valores de predicción, score, MSE y MAE\n",
    "            pred   = model.predict(car_test)\n",
    "            scor   = model.score(car_test, tar_test)\n",
    "            mse_   = mean_squared_error(tar_test,pred)\n",
    "            mae_   = mean_absolute_error(tar_test,pred)\n",
    "            #rmlse_ = mean_squared_log_error(tar_test,pred)\n",
    "            \n",
    "            #Si el score es mayor que el máximo score obtenido hasta el momento,\n",
    "            #guardamos este modelo como el mejor, almacenando todos sus valores \n",
    "            #de configuración y métricas.\n",
    "            if(scor>maxscore):\n",
    "                maxscore=scor\n",
    "                maxkernel=i\n",
    "                maxcs=j\n",
    "                maxgamma=k\n",
    "                mse   = mse_\n",
    "                mae   = mae_\n",
    "                #rmlse = rmlse_\n",
    "                prediction = pred\n",
    "                best_SVM = model\n",
    "                \n",
    "print(\"Se ha conseguido un score de \"+\n",
    "      str(maxscore)+\" utilizando los parámetros: C: \"+str(maxcs)+\", Kernel: \"+maxkernel+\", Gamma: \"+str(maxgamma)) \n",
    "print(\"Error cuadrático medio (MSE): \"+str(mse))\n",
    "print(\"Error absoluto medio (MAE): \"+str(mae))\n",
    "print(\"Raíz del error cuadrático medio (RMSE): \"+str(math.sqrt(mse)))\n",
    "#print(\"Logaritmo de la raíz del error cuadrático medio (RMLSE): \"+str(smlse))\n",
    "\n"
   ]
  },
  {
   "cell_type": "code",
   "execution_count": 99,
   "metadata": {
    "colab": {
     "base_uri": "https://localhost:8080/",
     "height": 361
    },
    "colab_type": "code",
    "collapsed": false,
    "id": "5rdojy55ybJq",
    "outputId": "eb4635c8-5aa2-452c-e355-485c3876c938"
   },
   "outputs": [
    {
     "data": {
      "image/png": "[encoded data removed]",
      "text/plain": [
       "<Figure size 720x720 with 1 Axes>"
      ]
     },
     "metadata": {},
     "output_type": "display_data"
    }
   ],
   "source": [
    "pyplot.figure(figsize=(10,10))\n",
    "pyplot.scatter(tar_test,prediction)\n",
    "pyplot.plot(tar_test, tar_test)\n",
    "pyplot.xlabel('reales')\n",
    "pyplot.ylabel('predichos')\n",
    "pyplot.show()"
   ]
  },
  {
   "cell_type": "markdown",
   "metadata": {
    "colab_type": "text",
    "id": "wvTm85gv1uKH"
   },
   "source": [
    "Se aprecia una pérdida de precisión a partir de 38 mpg. El modelo subestima los valores."
   ]
  },
  {
   "cell_type": "markdown",
   "metadata": {
    "colab_type": "text",
    "id": "QoxUREno7kLO"
   },
   "source": [
    "### Red neuronal"
   ]
  },
  {
   "cell_type": "code",
   "execution_count": 125,
   "metadata": {
    "colab": {
     "base_uri": "https://localhost:8080/",
     "height": 136
    },
    "colab_type": "code",
    "collapsed": false,
    "id": "2cdMCDLB7rSc",
    "outputId": "2fe33c6b-5eb1-42f3-fa0d-cdac64e26d2f"
   },
   "outputs": [],
   "source": [
    "#El siguiente código es para normalizar los datos\n",
    "scaler = StandardScaler()  \n",
    "scaler.fit(car_train)  \n",
    "training_features = scaler.transform(car_train)  \n",
    "test_features = scaler.transform(car_test)\n",
    "scaled_validation = scaler.transform(validation)\n",
    "training_targets = tar_train\n",
    "test_targets = tar_test"
   ]
  },
  {
   "cell_type": "code",
   "execution_count": 126,
   "metadata": {
    "collapsed": false
   },
   "outputs": [],
   "source": [
    "# Define some helper functions\n",
    "def train_NN(training_features, training_targets, model, model_kwargs, seed):\n",
    "    # Build a model of given type and arguments\n",
    "    modelNN = model(**model_kwargs, random_state=seed)\n",
    "\n",
    "    # Train it\n",
    "    modelNN.fit(training_features, training_targets)\n",
    "    \n",
    "    return modelNN\n",
    "\n",
    "def NN_testbed(training_features, training_targets, test_features, test_targets, model, model_kwargs, seed=42):\n",
    "    # Train a NN on given training data using the given model arguments\n",
    "    # Return its accuracy and mse on the test data\n",
    "    \n",
    "    modelNN = train_NN(training_features, training_targets, model, model_kwargs, seed)\n",
    "    \n",
    "    # Calculate its score on the test data\n",
    "    pred = modelNN.predict(test_features)\n",
    "    \n",
    "    score = modelNN.score(test_features, test_targets)\n",
    "    mse = mean_squared_error(test_targets, pred)\n",
    "    \n",
    "    return score, mse\n",
    "\n",
    "def generate_all_configurations(config):\n",
    "    # Use given dictionary to generate all possible permutations of configs\n",
    "    complete_configs = []\n",
    "    template = {}\n",
    "\n",
    "    # Start out with one template config\n",
    "    complete_configs.append({})\n",
    "\n",
    "    # Add a new config for each possible parameter and value tuple\n",
    "    for param, values in config.items():\n",
    "        current_configs = complete_configs.copy()\n",
    "        complete_configs = [] # Make sure to discard the old ones, not containing a latest parameter\n",
    "\n",
    "        for new_config in current_configs.copy():\n",
    "                for value in values:\n",
    "                    new_config.update({param: value})\n",
    "                    complete_configs.append(new_config.copy())\n",
    "\n",
    "    return complete_configs\n",
    "\n",
    "\n"
   ]
  },
  {
   "cell_type": "code",
   "execution_count": 127,
   "metadata": {
    "collapsed": false
   },
   "outputs": [
    {
     "name": "stdout",
     "output_type": "stream",
     "text": [
      "Generated 90 different configurations to test ...\n"
     ]
    }
   ],
   "source": [
    "# Generate a set of hyper paremeters to test\n",
    "configurations = {'hidden_layer_sizes': [(10, ), (50,), (100,), (10, 10,), (50, 50, )],\n",
    "                  'activation': ['relu', 'identity'],\n",
    "                  'alpha': [0.0001, 0.01, 0.10,],\n",
    "                  'batch_size': ['auto', ],\n",
    "                  'learning_rate_init': [0.1, 0.01, 0.001],\n",
    "                  'max_iter': [1000, ],\n",
    "                 }\n",
    "\n",
    "test_configs = generate_all_configurations(configurations)\n",
    "print(f'Generated {len(test_configs)} different configurations to test ...')"
   ]
  },
  {
   "cell_type": "code",
   "execution_count": 128,
   "metadata": {
    "collapsed": false
   },
   "outputs": [
    {
     "name": "stdout",
     "output_type": "stream",
     "text": [
      "config 0 gives a score of 0.1808991178440802\n",
      "config 1 gives a score of 0.8047999973658045\n"
     ]
    },
    {
     "name": "stderr",
     "output_type": "stream",
     "text": [
      "/Users/manuel.pasieka/anaconda3/envs/py3/lib/python3.6/site-packages/sklearn/neural_network/multilayer_perceptron.py:564: ConvergenceWarning: Stochastic Optimizer: Maximum iterations (1000) reached and the optimization hasn't converged yet.\n",
      "  % self.max_iter, ConvergenceWarning)\n"
     ]
    },
    {
     "name": "stdout",
     "output_type": "stream",
     "text": [
      "config 2 gives a score of 0.5872333739258879\n",
      "config 3 gives a score of 0.1809170699294128\n",
      "config 4 gives a score of 0.8047682536086084\n",
      "config 5 gives a score of 0.5872427298946787\n",
      "config 6 gives a score of 0.18108021269644903\n",
      "config 7 gives a score of 0.8050357469180737\n",
      "config 8 gives a score of 0.5871981702942569\n",
      "config 9 gives a score of 0.38566879089060707\n",
      "config 10 gives a score of 0.8557343031350372\n",
      "config 11 gives a score of 0.8459818394754482\n",
      "config 12 gives a score of 0.38570102472457835\n",
      "config 13 gives a score of 0.8557345750284633\n",
      "config 14 gives a score of 0.8459815409629698\n",
      "config 15 gives a score of 0.38599396123508833\n",
      "config 16 gives a score of 0.8557370249333792\n",
      "config 17 gives a score of 0.8459787996565362\n",
      "config 18 gives a score of 0.8448943538311792\n",
      "config 19 gives a score of 0.8568093327374123\n",
      "config 20 gives a score of 0.8544144805268252\n",
      "config 21 gives a score of 0.8565025629853963\n",
      "config 22 gives a score of 0.8567263112579386\n",
      "config 23 gives a score of 0.8544124204060934\n",
      "config 24 gives a score of 0.8483771644953075\n",
      "config 25 gives a score of 0.8581137434505777\n",
      "config 26 gives a score of 0.8544339245905472\n",
      "config 27 gives a score of 0.547265809058546\n",
      "config 28 gives a score of 0.8716044395744462\n",
      "config 29 gives a score of 0.8532182524009748\n",
      "config 30 gives a score of 0.5472798098791746\n",
      "config 31 gives a score of 0.8716054984276911\n",
      "config 32 gives a score of 0.8532175567203574\n",
      "config 33 gives a score of 0.5474072101398981\n",
      "config 34 gives a score of 0.8716151120229196\n",
      "config 35 gives a score of 0.8532112103950084\n",
      "config 36 gives a score of 0.840605545089001\n",
      "config 37 gives a score of 0.8547686435200734\n",
      "config 38 gives a score of 0.8555959080492923\n",
      "config 39 gives a score of 0.8394918954555916\n",
      "config 40 gives a score of 0.8610253840739183\n",
      "config 41 gives a score of 0.8555510615980088\n",
      "config 42 gives a score of 0.8400973458809786\n",
      "config 43 gives a score of 0.8605936766056391\n",
      "config 44 gives a score of 0.8542728050661058\n",
      "config 45 gives a score of 0.4682035071686732\n",
      "config 46 gives a score of 0.8341397105804564\n",
      "config 47 gives a score of 0.8534032128467292\n",
      "config 48 gives a score of 0.4681856377394562\n",
      "config 49 gives a score of 0.8341413452088746\n",
      "config 50 gives a score of 0.8534014003926785\n",
      "config 51 gives a score of 0.4680160792618275\n",
      "config 52 gives a score of 0.8341562046394426\n",
      "config 53 gives a score of 0.8533849171740383\n",
      "config 54 gives a score of 0.5249654490879377\n",
      "config 55 gives a score of 0.317849392429985\n",
      "config 56 gives a score of 0.8716392336912739\n",
      "config 57 gives a score of 0.5275613595289947\n",
      "config 58 gives a score of 0.3183919046471503\n",
      "config 59 gives a score of 0.8716480664171049\n",
      "config 60 gives a score of 0.5274260523610428\n",
      "config 61 gives a score of 0.3185857735777292\n",
      "config 62 gives a score of 0.8713668065102603\n",
      "config 63 gives a score of 0.8220805022082934\n",
      "config 64 gives a score of 0.7582356368552319\n",
      "config 65 gives a score of 0.8622253366967731\n",
      "config 66 gives a score of 0.8220784149030649\n",
      "config 67 gives a score of 0.7582387398932526\n",
      "config 68 gives a score of 0.8622241226698175\n",
      "config 69 gives a score of 0.8220592116254563\n",
      "config 70 gives a score of 0.7582669404830421\n",
      "config 71 gives a score of 0.8622130835444195\n",
      "config 72 gives a score of 0.7955893349374209\n",
      "config 73 gives a score of 0.31160408276841955\n",
      "config 74 gives a score of 0.855657989501762\n",
      "config 75 gives a score of 0.873765179217189\n",
      "config 76 gives a score of 0.31373573025954604\n",
      "config 77 gives a score of 0.8525975684223893\n",
      "config 78 gives a score of 0.8035972478745328\n",
      "config 79 gives a score of 0.31398718155400995\n",
      "config 80 gives a score of 0.8705634226193457\n",
      "config 81 gives a score of 0.8744126422256435\n",
      "config 82 gives a score of 0.4984463042507947\n",
      "config 83 gives a score of 0.8653949337810386\n",
      "config 84 gives a score of 0.8744081694470177\n",
      "config 85 gives a score of 0.4984618740975888\n",
      "config 86 gives a score of 0.8653943025293608\n",
      "config 87 gives a score of 0.874367737259821\n",
      "config 88 gives a score of 0.49860337650702535\n",
      "config 89 gives a score of 0.8653885524212486\n",
      "\n",
      "\n",
      "Found the best config to be:\n",
      "{'hidden_layer_sizes': (50, 50), 'activation': 'identity', 'alpha': 0.0001, 'batch_size': 'auto', 'learning_rate_init': 0.1, 'max_iter': 1000}\n",
      " with a score of 0.8744126422256435, and mse 8.075874445353318\n"
     ]
    }
   ],
   "source": [
    "# Find the parameter setting that produces the highest r2 score\n",
    "\n",
    "best_score = -1000\n",
    "best_mse = 0\n",
    "best_config = {}\n",
    "\n",
    "for i, config in enumerate(test_configs):\n",
    "    score, mse = NN_testbed(training_features, training_targets, test_features, test_targets, MLPRegressor, config)\n",
    "    print(f'config {i} gives a score of {score}')\n",
    "    \n",
    "    if score > best_score:\n",
    "        best_score = score\n",
    "        best_mse = mse\n",
    "        best_config = config\n",
    "    \n",
    "print(f'\\n\\nFound the best config to be:\\n{best_config}\\n with a score of {best_score}, and mse {best_mse}')"
   ]
  },
  {
   "cell_type": "code",
   "execution_count": 118,
   "metadata": {
    "collapsed": false
   },
   "outputs": [
    {
     "name": "stdout",
     "output_type": "stream",
     "text": [
      "Best NN has a score of 0.8744126422256435 with a mse 8.075874445353318\n"
     ]
    },
    {
     "data": {
      "image/png": "[encoded data removed]",
      "text/plain": [
       "<Figure size 720x720 with 1 Axes>"
      ]
     },
     "metadata": {},
     "output_type": "display_data"
    }
   ],
   "source": [
    "best_NN = train_NN(training_features, training_targets, MLPRegressor, best_config, 42)\n",
    "\n",
    "prediction = best_NN.predict(test_features)\n",
    "score = best_NN.score(test_features, test_targets)\n",
    "mse = mean_squared_error(test_targets, prediction)\n",
    "\n",
    "print(f'Best NN has a score of {score} with a mse {mse}')\n",
    "\n",
    "pyplot.figure(figsize=(10,10))\n",
    "pyplot.scatter(test_targets,prediction)\n",
    "pyplot.plot(test_targets, test_targets)\n",
    "pyplot.xlabel('Truth')\n",
    "pyplot.ylabel('Prediction')\n",
    "pyplot.show()"
   ]
  },
  {
   "cell_type": "code",
   "execution_count": 120,
   "metadata": {
    "collapsed": false
   },
   "outputs": [
    {
     "name": "stdout",
     "output_type": "stream",
     "text": [
      "SVM 0.8787425432847087 with a mse 7.4140223645710215\n",
      "NN 0.8713039428732952 with a mse 7.868839340823606\n"
     ]
    },
    {
     "data": {
      "image/png": "[encoded data removed]",
      "text/plain": [
       "<Figure size 720x720 with 1 Axes>"
      ]
     },
     "metadata": {},
     "output_type": "display_data"
    }
   ],
   "source": [
    "# Compare the two models using the validation data\n",
    "svm_prediction   = best_SVM.predict(validation) \n",
    "svm_score   = best_SVM.score(validation, target_validation)\n",
    "svm_mse   = mean_squared_error(target_validation, svm_prediction)\n",
    "\n",
    "NN_prediction   = best_NN.predict(scaled_validation) \n",
    "NN_score   = best_NN.score(scaled_validation, target_validation)\n",
    "NN_mse   = mean_squared_error(target_validation, NN_prediction)\n",
    "\n",
    "print(f'SVM {svm_score} with a mse {svm_mse}')\n",
    "print(f'NN {NN_score} with a mse {NN_mse}')\n",
    "\n",
    "pyplot.figure(figsize=(10,10))\n",
    "pyplot.scatter(target_validation,NN_prediction, label='NN')\n",
    "pyplot.scatter(target_validation,svm_prediction, label='SVM')\n",
    "pyplot.plot(target_validation, target_validation)\n",
    "pyplot.xlabel('Truth')\n",
    "pyplot.ylabel('Prediction')\n",
    "pyplot.legend()\n",
    "pyplot.show()"
   ]
  },
  {
   "cell_type": "code",
   "execution_count": 36,
   "metadata": {
    "collapsed": false
   },
   "outputs": [
    {
     "name": "stdout",
     "output_type": "stream",
     "text": [
      "Best score -0.5753095333122491 achieved with the parameters {'activation': 'relu', 'alpha': 0.0001, 'hidden_layer_sizes': (10,), 'learning_rate_init': 0.1, 'max_iter': 1000}\n"
     ]
    }
   ],
   "source": [
    "# Set the parameters by cross-validation\n",
    "tuned_parameters = [{'hidden_layer_sizes': [(10, ), (50,), (100,), (10, 10,), (50, 50, )],\n",
    "                  'activation': ['relu', 'identity'],\n",
    "                  'alpha': [0.0001, 0.01, 0.10, 0.2],\n",
    "                  'learning_rate_init': [0.1, 0.01, 0.001],\n",
    "                    'max_iter': [1000, ],}]\n",
    "\n",
    "clf = GridSearchCV(MLPRegressor(random_state=45), tuned_parameters, cv=5, n_jobs=-1)\n",
    "clf.fit(data[features], data[target].values.ravel())\n",
    "\n",
    "print(f'Best score {clf.best_score_} achieved with the parameters {clf.best_params_}')"
   ]
  },
  {
   "cell_type": "code",
   "execution_count": null,
   "metadata": {
    "collapsed": true
   },
   "outputs": [],
   "source": []
  }
 ],
 "metadata": {
  "anaconda-cloud": {},
  "colab": {
   "collapsed_sections": [],
   "name": "Lab1.ipynb",
   "provenance": [],
   "version": "0.3.2"
  },
  "kernelspec": {
   "display_name": "Python [conda env:py3]",
   "language": "python",
   "name": "conda-env-py3-py"
  },
  "language_info": {
   "codemirror_mode": {
    "name": "ipython",
    "version": 3
   },
   "file_extension": ".py",
   "mimetype": "text/x-python",
   "name": "python",
   "nbconvert_exporter": "python",
   "pygments_lexer": "ipython3",
   "version": "3.6.5"
  }
 },
 "nbformat": 4,
 "nbformat_minor": 0
}
