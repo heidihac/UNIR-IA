{
 "cells": [
  {
   "cell_type": "markdown",
   "metadata": {},
   "source": [
    "# ROC - Receiver Operating Characteristic\n",
    "Show how to calculate a ROC Curve using artificial data points"
   ]
  },
  {
   "cell_type": "code",
   "execution_count": 1,
   "metadata": {},
   "outputs": [],
   "source": [
    "import numpy as np\n",
    "from sklearn import metrics\n",
    "from matplotlib import pyplot as plt\n",
    "np.random.seed(80)"
   ]
  },
  {
   "cell_type": "code",
   "execution_count": 2,
   "metadata": {},
   "outputs": [
    {
     "name": "stdout",
     "output_type": "stream",
     "text": [
      "[1 0 0 1 0 0 1 0 1 1 1 1 1 1 0 0 0 1 1 0]\n",
      "[1.0, 0.0, 0.08459974968996381, 0.7352501991894835, 0.6458021077571985, 0.00012413607456990272, 1.0, 0.17293679098284304, 1.0, 0.2119952627764044, 0.868069412576917, 0.49052419616046955, 0.5227198053463065, 0.6177099149275016, 0.28639599677814337, 0.7426785199611454, 0.5321477240225252, 1.0, 0.7788321530465048, 0.31488088883306425]\n"
     ]
    }
   ],
   "source": [
    "N = 20\n",
    "# Generate some frame 'true' labels and confidence values that a\n",
    "# point belonges to the target/positive class\n",
    "labels = np.random.randint(0, 2, size=N)\n",
    "print(labels)\n",
    "\n",
    "# Making sure that 0 labels get low values, and 1 labels 'high' values\n",
    "confidence = [min(1.0, np.random.random(1)[0]+0.2) if l == 1 else\n",
    "              max(0.0, np.random.random(1)[0]-0.2) \n",
    "              for l in labels]\n",
    "print(confidence)"
   ]
  },
  {
   "cell_type": "code",
   "execution_count": 7,
   "metadata": {},
   "outputs": [
    {
     "data": {
      "image/png": "[encoded data removed]",
      "text/plain": [
       "<Figure size 432x288 with 1 Axes>"
      ]
     },
     "metadata": {},
     "output_type": "display_data"
    }
   ],
   "source": [
    "false_positive_rate, true_positive_rate, thresholds = \\\n",
    "    metrics.roc_curve(labels, confidence)\n",
    "\n",
    "# plot and show the ROC curve\n",
    "plt.plot([0, 1], [0, 1], linestyle='--')\n",
    "plt.plot(false_positive_rate, true_positive_rate, marker='.')\n",
    "plt.xlabel('False positive rate')\n",
    "plt.ylabel('True positive rate')\n",
    "plt.title('ROC Curve, AOC: %2.2f' % metrics.auc(false_positive_rate, true_positive_rate))\n",
    "plt.show()"
   ]
  },
  {
   "cell_type": "code",
   "execution_count": 4,
   "metadata": {},
   "outputs": [
    {
     "data": {
      "text/plain": [
       "(array([0.        , 0.        , 0.11111111, 0.11111111, 0.22222222,\n",
       "        0.22222222, 0.33333333, 0.33333333, 0.55555556, 0.55555556,\n",
       "        1.        ]),\n",
       " array([0.36363636, 0.54545455, 0.54545455, 0.63636364, 0.63636364,\n",
       "        0.72727273, 0.72727273, 0.90909091, 0.90909091, 1.        ,\n",
       "        1.        ]),\n",
       " array([1.        , 0.77883215, 0.74267852, 0.7352502 , 0.64580211,\n",
       "        0.61770991, 0.53214772, 0.4905242 , 0.286396  , 0.21199526,\n",
       "        0.        ]))"
      ]
     },
     "execution_count": 4,
     "metadata": {},
     "output_type": "execute_result"
    }
   ],
   "source": [
    "# Printing the curve points\n",
    "false_positive_rate, true_positive_rate, thresholds"
   ]
  },
  {
   "cell_type": "markdown",
   "metadata": {},
   "source": [
    "# Interpretation\n",
    "Observe that the thresholds or steps evaluated by the ROC Curve are values from the confidence list.\n",
    "\n",
    "I guess what happens is that the ordered confidence list is split into 10 bins and the bin thresholds are used to evaluate the TP and FP rate.\n",
    "\n",
    "Bellow is another usefull model metric, the classification repot"
   ]
  },
  {
   "cell_type": "code",
   "execution_count": 5,
   "metadata": {},
   "outputs": [
    {
     "name": "stdout",
     "output_type": "stream",
     "text": [
      "Confusion matrix:\n",
      " [[2 7]\n",
      " [7 4]]\n",
      "\n",
      "CLASSIFICATION REPORT: \n",
      "             precision    recall  f1-score   support\n",
      "\n",
      "    Class 0       0.22      0.22      0.22         9\n",
      "    Class 1       0.36      0.36      0.36        11\n",
      "\n",
      "avg / total       0.30      0.30      0.30        20\n",
      "\n"
     ]
    }
   ],
   "source": [
    "# Simulate some prediced data\n",
    "predicted = np.random.randint(0, 2, size=N)\n",
    "\n",
    "confusion_matrix = metrics.confusion_matrix(labels, predicted)\n",
    "print(f'Confusion matrix:\\n {confusion_matrix}\\n')\n",
    "\n",
    "print('CLASSIFICATION REPORT: ')\n",
    "\n",
    "print(metrics.classification_report(labels, predicted, \n",
    "                                    target_names=['Class 0', 'Class 1']))"
   ]
  }
 ],
 "metadata": {
  "kernelspec": {
   "display_name": "Python 3",
   "language": "python",
   "name": "python3"
  },
  "language_info": {
   "codemirror_mode": {
    "name": "ipython",
    "version": 3
   },
   "file_extension": ".py",
   "mimetype": "text/x-python",
   "name": "python",
   "nbconvert_exporter": "python",
   "pygments_lexer": "ipython3",
   "version": "3.6.5"
  }
 },
 "nbformat": 4,
 "nbformat_minor": 2
}
