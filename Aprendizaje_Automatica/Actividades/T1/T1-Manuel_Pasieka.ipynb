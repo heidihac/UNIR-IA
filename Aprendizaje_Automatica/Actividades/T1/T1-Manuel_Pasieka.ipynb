{
 "cells": [
  {
   "cell_type": "code",
   "execution_count": 1,
   "metadata": {},
   "outputs": [],
   "source": [
    "import pandas as pd\n",
    "import numpy as np\n",
    "import sklearn"
   ]
  },
  {
   "cell_type": "markdown",
   "metadata": {},
   "source": [
    "# Loading Data\n",
    "* Load the data\n",
    "* Split features from predictor class\n",
    "* Encode features\n",
    "* Filter outliers"
   ]
  },
  {
   "cell_type": "code",
   "execution_count": 2,
   "metadata": {},
   "outputs": [
    {
     "data": {
      "text/html": [
       "<div>\n",
       "<style scoped>\n",
       "    .dataframe tbody tr th:only-of-type {\n",
       "        vertical-align: middle;\n",
       "    }\n",
       "\n",
       "    .dataframe tbody tr th {\n",
       "        vertical-align: top;\n",
       "    }\n",
       "\n",
       "    .dataframe thead th {\n",
       "        text-align: right;\n",
       "    }\n",
       "</style>\n",
       "<table border=\"1\" class=\"dataframe\">\n",
       "  <thead>\n",
       "    <tr style=\"text-align: right;\">\n",
       "      <th></th>\n",
       "      <th>party</th>\n",
       "      <th>v00</th>\n",
       "      <th>v01</th>\n",
       "      <th>v02</th>\n",
       "      <th>v03</th>\n",
       "      <th>v04</th>\n",
       "      <th>v05</th>\n",
       "      <th>v06</th>\n",
       "      <th>v07</th>\n",
       "      <th>v08</th>\n",
       "      <th>v09</th>\n",
       "      <th>v10</th>\n",
       "      <th>v11</th>\n",
       "      <th>v12</th>\n",
       "      <th>v13</th>\n",
       "      <th>v14</th>\n",
       "      <th>v15</th>\n",
       "    </tr>\n",
       "  </thead>\n",
       "  <tbody>\n",
       "    <tr>\n",
       "      <th>0</th>\n",
       "      <td>republican</td>\n",
       "      <td>n</td>\n",
       "      <td>y</td>\n",
       "      <td>n</td>\n",
       "      <td>y</td>\n",
       "      <td>y</td>\n",
       "      <td>y</td>\n",
       "      <td>n</td>\n",
       "      <td>n</td>\n",
       "      <td>n</td>\n",
       "      <td>y</td>\n",
       "      <td>?</td>\n",
       "      <td>y</td>\n",
       "      <td>y</td>\n",
       "      <td>y</td>\n",
       "      <td>n</td>\n",
       "      <td>y</td>\n",
       "    </tr>\n",
       "    <tr>\n",
       "      <th>1</th>\n",
       "      <td>republican</td>\n",
       "      <td>n</td>\n",
       "      <td>y</td>\n",
       "      <td>n</td>\n",
       "      <td>y</td>\n",
       "      <td>y</td>\n",
       "      <td>y</td>\n",
       "      <td>n</td>\n",
       "      <td>n</td>\n",
       "      <td>n</td>\n",
       "      <td>n</td>\n",
       "      <td>n</td>\n",
       "      <td>y</td>\n",
       "      <td>y</td>\n",
       "      <td>y</td>\n",
       "      <td>n</td>\n",
       "      <td>?</td>\n",
       "    </tr>\n",
       "    <tr>\n",
       "      <th>2</th>\n",
       "      <td>democrat</td>\n",
       "      <td>?</td>\n",
       "      <td>y</td>\n",
       "      <td>y</td>\n",
       "      <td>?</td>\n",
       "      <td>y</td>\n",
       "      <td>y</td>\n",
       "      <td>n</td>\n",
       "      <td>n</td>\n",
       "      <td>n</td>\n",
       "      <td>n</td>\n",
       "      <td>y</td>\n",
       "      <td>n</td>\n",
       "      <td>y</td>\n",
       "      <td>y</td>\n",
       "      <td>n</td>\n",
       "      <td>n</td>\n",
       "    </tr>\n",
       "    <tr>\n",
       "      <th>3</th>\n",
       "      <td>democrat</td>\n",
       "      <td>n</td>\n",
       "      <td>y</td>\n",
       "      <td>y</td>\n",
       "      <td>n</td>\n",
       "      <td>?</td>\n",
       "      <td>y</td>\n",
       "      <td>n</td>\n",
       "      <td>n</td>\n",
       "      <td>n</td>\n",
       "      <td>n</td>\n",
       "      <td>y</td>\n",
       "      <td>n</td>\n",
       "      <td>y</td>\n",
       "      <td>n</td>\n",
       "      <td>n</td>\n",
       "      <td>y</td>\n",
       "    </tr>\n",
       "    <tr>\n",
       "      <th>4</th>\n",
       "      <td>democrat</td>\n",
       "      <td>y</td>\n",
       "      <td>y</td>\n",
       "      <td>y</td>\n",
       "      <td>n</td>\n",
       "      <td>y</td>\n",
       "      <td>y</td>\n",
       "      <td>n</td>\n",
       "      <td>n</td>\n",
       "      <td>n</td>\n",
       "      <td>n</td>\n",
       "      <td>y</td>\n",
       "      <td>?</td>\n",
       "      <td>y</td>\n",
       "      <td>y</td>\n",
       "      <td>y</td>\n",
       "      <td>y</td>\n",
       "    </tr>\n",
       "  </tbody>\n",
       "</table>\n",
       "</div>"
      ],
      "text/plain": [
       "        party v00 v01 v02 v03 v04 v05 v06 v07 v08 v09 v10 v11 v12 v13 v14 v15\n",
       "0  republican   n   y   n   y   y   y   n   n   n   y   ?   y   y   y   n   y\n",
       "1  republican   n   y   n   y   y   y   n   n   n   n   n   y   y   y   n   ?\n",
       "2    democrat   ?   y   y   ?   y   y   n   n   n   n   y   n   y   y   n   n\n",
       "3    democrat   n   y   y   n   ?   y   n   n   n   n   y   n   y   n   n   y\n",
       "4    democrat   y   y   y   n   y   y   n   n   n   n   y   ?   y   y   y   y"
      ]
     },
     "execution_count": 2,
     "metadata": {},
     "output_type": "execute_result"
    }
   ],
   "source": [
    "raw_data = pd.read_csv('data/house-votes-84.data.txt', \\\n",
    "    names=['party'] + ['v%02d'%x for x in range(16)])\n",
    "raw_data.head()"
   ]
  },
  {
   "cell_type": "code",
   "execution_count": 3,
   "metadata": {},
   "outputs": [],
   "source": [
    "# Split the data into party affiliation (output variable) and votes (features)\n",
    "party = raw_data['party']\n",
    "votes = raw_data.drop('party', axis=1)"
   ]
  },
  {
   "cell_type": "code",
   "execution_count": 4,
   "metadata": {},
   "outputs": [
    {
     "name": "stdout",
     "output_type": "stream",
     "text": [
      "# Entries 435, # Features 16\n",
      "\n",
      "Class distribution: \n",
      "democrat      267\n",
      "republican    168\n",
      "Name: party, dtype: int64\n",
      "\n",
      "Feature distribution: \n",
      "y    3421\n",
      "n    3147\n",
      "?     392\n",
      "dtype: int64\n"
     ]
    }
   ],
   "source": [
    "print(f'# Entries {raw_data.shape[0]}, # Features {raw_data.shape[1]-1}')\n",
    "print(f'\\nClass distribution: \\n{party.value_counts()}')\n",
    "print(f'\\nFeature distribution: \\n{pd.Series(votes.values.flatten()).value_counts()}')"
   ]
  },
  {
   "cell_type": "code",
   "execution_count": 5,
   "metadata": {},
   "outputs": [
    {
     "data": {
      "text/html": [
       "<div>\n",
       "<style scoped>\n",
       "    .dataframe tbody tr th:only-of-type {\n",
       "        vertical-align: middle;\n",
       "    }\n",
       "\n",
       "    .dataframe tbody tr th {\n",
       "        vertical-align: top;\n",
       "    }\n",
       "\n",
       "    .dataframe thead th {\n",
       "        text-align: right;\n",
       "    }\n",
       "</style>\n",
       "<table border=\"1\" class=\"dataframe\">\n",
       "  <thead>\n",
       "    <tr style=\"text-align: right;\">\n",
       "      <th></th>\n",
       "      <th>v00</th>\n",
       "      <th>v01</th>\n",
       "      <th>v02</th>\n",
       "      <th>v03</th>\n",
       "      <th>v04</th>\n",
       "      <th>v05</th>\n",
       "      <th>v06</th>\n",
       "      <th>v07</th>\n",
       "      <th>v08</th>\n",
       "      <th>v09</th>\n",
       "      <th>v10</th>\n",
       "      <th>v11</th>\n",
       "      <th>v12</th>\n",
       "      <th>v13</th>\n",
       "      <th>v14</th>\n",
       "      <th>v15</th>\n",
       "    </tr>\n",
       "  </thead>\n",
       "  <tbody>\n",
       "    <tr>\n",
       "      <th>0</th>\n",
       "      <td>0</td>\n",
       "      <td>2</td>\n",
       "      <td>0</td>\n",
       "      <td>2</td>\n",
       "      <td>2</td>\n",
       "      <td>2</td>\n",
       "      <td>0</td>\n",
       "      <td>0</td>\n",
       "      <td>0</td>\n",
       "      <td>2</td>\n",
       "      <td>1</td>\n",
       "      <td>2</td>\n",
       "      <td>2</td>\n",
       "      <td>2</td>\n",
       "      <td>0</td>\n",
       "      <td>2</td>\n",
       "    </tr>\n",
       "    <tr>\n",
       "      <th>1</th>\n",
       "      <td>0</td>\n",
       "      <td>2</td>\n",
       "      <td>0</td>\n",
       "      <td>2</td>\n",
       "      <td>2</td>\n",
       "      <td>2</td>\n",
       "      <td>0</td>\n",
       "      <td>0</td>\n",
       "      <td>0</td>\n",
       "      <td>0</td>\n",
       "      <td>0</td>\n",
       "      <td>2</td>\n",
       "      <td>2</td>\n",
       "      <td>2</td>\n",
       "      <td>0</td>\n",
       "      <td>1</td>\n",
       "    </tr>\n",
       "    <tr>\n",
       "      <th>2</th>\n",
       "      <td>1</td>\n",
       "      <td>2</td>\n",
       "      <td>2</td>\n",
       "      <td>1</td>\n",
       "      <td>2</td>\n",
       "      <td>2</td>\n",
       "      <td>0</td>\n",
       "      <td>0</td>\n",
       "      <td>0</td>\n",
       "      <td>0</td>\n",
       "      <td>2</td>\n",
       "      <td>0</td>\n",
       "      <td>2</td>\n",
       "      <td>2</td>\n",
       "      <td>0</td>\n",
       "      <td>0</td>\n",
       "    </tr>\n",
       "    <tr>\n",
       "      <th>3</th>\n",
       "      <td>0</td>\n",
       "      <td>2</td>\n",
       "      <td>2</td>\n",
       "      <td>0</td>\n",
       "      <td>1</td>\n",
       "      <td>2</td>\n",
       "      <td>0</td>\n",
       "      <td>0</td>\n",
       "      <td>0</td>\n",
       "      <td>0</td>\n",
       "      <td>2</td>\n",
       "      <td>0</td>\n",
       "      <td>2</td>\n",
       "      <td>0</td>\n",
       "      <td>0</td>\n",
       "      <td>2</td>\n",
       "    </tr>\n",
       "    <tr>\n",
       "      <th>4</th>\n",
       "      <td>2</td>\n",
       "      <td>2</td>\n",
       "      <td>2</td>\n",
       "      <td>0</td>\n",
       "      <td>2</td>\n",
       "      <td>2</td>\n",
       "      <td>0</td>\n",
       "      <td>0</td>\n",
       "      <td>0</td>\n",
       "      <td>0</td>\n",
       "      <td>2</td>\n",
       "      <td>1</td>\n",
       "      <td>2</td>\n",
       "      <td>2</td>\n",
       "      <td>2</td>\n",
       "      <td>2</td>\n",
       "    </tr>\n",
       "  </tbody>\n",
       "</table>\n",
       "</div>"
      ],
      "text/plain": [
       "   v00  v01  v02  v03  v04  v05  v06  v07  v08  v09  v10  v11  v12  v13  v14  v15\n",
       "0    0    2    0    2    2    2    0    0    0    2    1    2    2    2    0    2\n",
       "1    0    2    0    2    2    2    0    0    0    0    0    2    2    2    0    1\n",
       "2    1    2    2    1    2    2    0    0    0    0    2    0    2    2    0    0\n",
       "3    0    2    2    0    1    2    0    0    0    0    2    0    2    0    0    2\n",
       "4    2    2    2    0    2    2    0    0    0    0    2    1    2    2    2    2"
      ]
     },
     "execution_count": 5,
     "metadata": {},
     "output_type": "execute_result"
    }
   ],
   "source": [
    "# Map the votes to easy to process feature values\n",
    "features = votes.apply(lambda x: x.map({'n':0, '?':1, 'y':2}), axis=1)\n",
    "features.head()"
   ]
  },
  {
   "cell_type": "code",
   "execution_count": 6,
   "metadata": {},
   "outputs": [
    {
     "name": "stdout",
     "output_type": "stream",
     "text": [
      "Dropping 14 rows because to     more than 4 missing votes!\n"
     ]
    }
   ],
   "source": [
    "voting_treshold = 4\n",
    "\n",
    "# Filter votes, that have than half of missing votes\n",
    "# (keep those that have less than 8 missing votes)\n",
    "nmissing_votes = (features == 1).sum(axis=1)\n",
    "keep = nmissing_votes <= voting_treshold\n",
    "\n",
    "print(f'Dropping {keep.shape[0] - keep.sum()} rows because to \\\n",
    "more than {voting_treshold} missing votes!')\n",
    "\n",
    "party = party[keep]\n",
    "votes = votes[keep]\n",
    "features = features[keep]"
   ]
  },
  {
   "cell_type": "markdown",
   "metadata": {},
   "source": [
    "# Handle missing values\n",
    "Two datasets will be generated, using two different methods to handle the missing data\n",
    "\n",
    "* Process each vote/column seperatly and fill entries based on the most common value of the 5 closest neighbours. Neighbours are calculated has most similar encoding.\n",
    "* Random selection of yes or no votes"
   ]
  },
  {
   "cell_type": "code",
   "execution_count": 18,
   "metadata": {},
   "outputs": [],
   "source": [
    "def nn_fill(table, N=5, missing_value=0):\n",
    "    # Store results here\n",
    "    cleaned = table.copy()\n",
    "\n",
    "    for column_idx in range(table.shape[1]):\n",
    "\n",
    "        has_missing = (table.iloc[:, column_idx] == missing_value)\n",
    "        print(f'Found #{has_missing.sum()} missing valuesin column \\\n",
    "        {column_idx}. Start filling them ...')\n",
    "\n",
    "        missing = table[has_missing].drop(table.columns[column_idx], axis=1)\n",
    "        # Get all neighbours, dropping the column that needs prediction\n",
    "        neighbours = table[~has_missing].drop(table.columns[column_idx], axis=1)\n",
    "\n",
    "        # For each missing, calculate its neighbour distance\n",
    "        for i, s in missing.iterrows():\n",
    "            # Calculate the distance as the absolute numeric difference\n",
    "            distance = neighbours.apply(lambda x: abs(x - s).sum(), axis=1)\n",
    "\n",
    "            # Find the most common value among the N closest neighbours\n",
    "            most_common = table.loc[distance.sort_values()[0:N].index, \\\n",
    "                                    table.columns[column_idx]].mode().values[0]\n",
    "\n",
    "            #print(f'for row {i} we found the most common value to be {most_common}')\n",
    "            cleaned.loc[i, table.columns[column_idx]] = most_common\n",
    "\n",
    "    print('All done!')\n",
    "    \n",
    "    return cleaned\n",
    "\n",
    "def random_fill(table, seed=42, missing_value=0, values=[-1, 1]):\n",
    "    # Initalize random generator\n",
    "    np.random.seed(seed)\n",
    "    \n",
    "    # Which rows and colums need filling\n",
    "    missing_r, missing_col = np.where(features.values == missing_value)\n",
    "    \n",
    "    # Generate some random sequence\n",
    "    rand_idx = np.random.randint(0, len(values), size=missing_r.size)\n",
    "\n",
    "    # Store result here\n",
    "    random_fill = features.copy()\n",
    "    for vote, row, column in zip(rand_idx, missing_r, missing_col):\n",
    "        random_fill.iloc[row, column] = values[vote]\n",
    "        \n",
    "    return random_fill"
   ]
  },
  {
   "cell_type": "code",
   "execution_count": 8,
   "metadata": {},
   "outputs": [
    {
     "name": "stdout",
     "output_type": "stream",
     "text": [
      "Found #5 missing valuesin column             0. Start filling them ...\n",
      "Found #39 missing valuesin column             1. Start filling them ...\n",
      "Found #6 missing valuesin column             2. Start filling them ...\n",
      "Found #6 missing valuesin column             3. Start filling them ...\n",
      "Found #10 missing valuesin column             4. Start filling them ...\n",
      "Found #6 missing valuesin column             5. Start filling them ...\n",
      "Found #8 missing valuesin column             6. Start filling them ...\n",
      "Found #8 missing valuesin column             7. Start filling them ...\n",
      "Found #18 missing valuesin column             8. Start filling them ...\n",
      "Found #3 missing valuesin column             9. Start filling them ...\n",
      "Found #11 missing valuesin column             10. Start filling them ...\n",
      "Found #22 missing valuesin column             11. Start filling them ...\n",
      "Found #18 missing valuesin column             12. Start filling them ...\n",
      "Found #10 missing valuesin column             13. Start filling them ...\n",
      "Found #20 missing valuesin column             14. Start filling them ...\n",
      "Found #92 missing valuesin column             15. Start filling them ...\n",
      "All done!\n"
     ]
    }
   ],
   "source": [
    "# Number of nearest neighbours to use\n",
    "cleaned_features = nn_fill(features, N=5, missing_value=1)\n",
    "random_features = random_fill(features, seed=8888, missing_value=1, values=[0, 2])"
   ]
  },
  {
   "cell_type": "markdown",
   "metadata": {},
   "source": [
    "# Building a classifier\n",
    "* Split data into training and test set\n",
    "* Train a Naive Bayes Classifier with bernoulli distribution"
   ]
  },
  {
   "cell_type": "code",
   "execution_count": 9,
   "metadata": {},
   "outputs": [],
   "source": [
    "from sklearn.model_selection import train_test_split\n",
    "from sklearn.naive_bayes import BernoulliNB\n",
    "from sklearn.naive_bayes import GaussianNB\n",
    "from sklearn.naive_bayes import MultinomialNB\n",
    "\n",
    "# Use 20% for testing\n",
    "training_test_ratio = 0.2\n",
    "\n",
    "train_idx, test_idx = train_test_split(party.index, test_size=training_test_ratio, random_state=1001)"
   ]
  },
  {
   "cell_type": "code",
   "execution_count": 10,
   "metadata": {},
   "outputs": [],
   "source": [
    "# Train classifier\n",
    "data = cleaned_features\n",
    "#data = random_features\n",
    "\n",
    "clf = BernoulliNB().fit(data.loc[train_idx], party.loc[train_idx])"
   ]
  },
  {
   "cell_type": "code",
   "execution_count": 11,
   "metadata": {},
   "outputs": [],
   "source": [
    "# Perform prediction\n",
    "prediction = clf.predict(data.loc[test_idx])\n",
    "truth = party.loc[test_idx].values"
   ]
  },
  {
   "cell_type": "markdown",
   "metadata": {},
   "source": [
    "# Evaluate prediction quality"
   ]
  },
  {
   "cell_type": "code",
   "execution_count": 12,
   "metadata": {},
   "outputs": [
    {
     "name": "stderr",
     "output_type": "stream",
     "text": [
      "/Users/manuel.pasieka/anaconda3/envs/py3/lib/python3.6/site-packages/IPython/html.py:14: ShimWarning: The `IPython.html` package has been deprecated since IPython 4.0. You should import from `notebook` instead. `IPython.html.widgets` has moved to `ipywidgets`.\n",
      "  \"`IPython.html.widgets` has moved to `ipywidgets`.\", ShimWarning)\n"
     ]
    }
   ],
   "source": [
    "from sklearn.metrics import confusion_matrix\n",
    "import seaborn as sns\n",
    "sns.set()"
   ]
  },
  {
   "cell_type": "code",
   "execution_count": 13,
   "metadata": {},
   "outputs": [
    {
     "data": {
      "image/png": "[encoded data removed]",
      "text/plain": [
       "<Figure size 576x396 with 1 Axes>"
      ]
     },
     "metadata": {},
     "output_type": "display_data"
    }
   ],
   "source": [
    "labels = ['democrat', 'republican']\n",
    "mat = confusion_matrix(truth, prediction)\n",
    "sns.heatmap(mat.T, square=True, annot=True, fmt='d', cbar=False,\n",
    "            xticklabels=labels, yticklabels=labels)\n",
    "plt.xlabel('true label')\n",
    "plt.ylabel('predicted label');\n",
    "plt.show()"
   ]
  },
  {
   "cell_type": "code",
   "execution_count": 14,
   "metadata": {},
   "outputs": [
    {
     "name": "stdout",
     "output_type": "stream",
     "text": [
      "Accuracy 91%\n"
     ]
    }
   ],
   "source": [
    "accurracy = (mat[0, 0] + mat[1, 1]) / mat.sum()\n",
    "print(f'Accuracy {accurracy*100.0:2.0f}%')"
   ]
  },
  {
   "cell_type": "markdown",
   "metadata": {},
   "source": [
    "# Cross Validation\n",
    "Use cross validation with a 5 fold to estimate accuracy, comparing the different variations of classifiers, and data sets."
   ]
  },
  {
   "cell_type": "code",
   "execution_count": 15,
   "metadata": {},
   "outputs": [],
   "source": [
    "from sklearn.model_selection import cross_val_score\n",
    "\n",
    "F = 5 \n",
    "\n",
    "nn_scores_b = cross_val_score(BernoulliNB(), cleaned_features, party, cv=F)\n",
    "rand_scores_b = cross_val_score(BernoulliNB(), random_features, party, cv=F)\n",
    "\n",
    "nn_scores_g = cross_val_score(GaussianNB(), cleaned_features, party, cv=F)\n",
    "rand_scores_g = cross_val_score(GaussianNB(), random_features, party, cv=F)\n",
    "\n",
    "nn_scores_m = cross_val_score(MultinomialNB(), cleaned_features, party, cv=F)\n",
    "rand_scores_m = cross_val_score(MultinomialNB(), random_features, party, cv=F)\n",
    "\n",
    "scores = [nn_scores_b, rand_scores_b, nn_scores_g, rand_scores_g, nn_scores_m, rand_scores_m]\n",
    "scores_labels = ['NN - Bernoulli', 'Random - Bernoulli', 'NN - Gausian', \\\n",
    "                 'Random - Gausian', 'NN - MultiN', 'Random - MultiN']"
   ]
  },
  {
   "cell_type": "code",
   "execution_count": 16,
   "metadata": {},
   "outputs": [
    {
     "data": {
      "image/png": "[encoded data removed]",
      "text/plain": [
       "<Figure size 720x504 with 1 Axes>"
      ]
     },
     "metadata": {},
     "output_type": "display_data"
    }
   ],
   "source": [
    "# Plot cross validation result\n",
    "fig, axs = plt.subplots(1, 1, figsize=(10, 7))\n",
    "bp = axs.boxplot(scores, 0, labels=scores_labels, positions=range(len(scores)))\n",
    "for i, sv in enumerate(scores):\n",
    "    axs.scatter([i]*len(sv), sv)\n",
    "axs.set_ylim(0.5, 1.0)\n",
    "axs.set_xlabel('Classifiers')\n",
    "axs.set_ylabel('Accuracy')\n",
    "axs.set_title('Cross validation comparison')\n",
    "plt.show()"
   ]
  },
  {
   "cell_type": "code",
   "execution_count": 17,
   "metadata": {},
   "outputs": [
    {
     "name": "stdout",
     "output_type": "stream",
     "text": [
      "NN - Bernoulli: mean 0.905, var 0.002\n",
      "Random - Bernoulli: mean 0.905, var 0.001\n",
      "NN - Gausian: mean 0.940, var 0.001\n",
      "Random - Gausian: mean 0.943, var 0.001\n",
      "NN - MultiN: mean 0.907, var 0.002\n",
      "Random - MultiN: mean 0.907, var 0.002\n"
     ]
    }
   ],
   "source": [
    "for sn, sv in zip(scores_labels, scores):\n",
    "    print(f'{sn}: mean {sv.mean():2.3f}, var {sv.var():2.3f}')"
   ]
  }
 ],
 "metadata": {
  "kernelspec": {
   "display_name": "Python 3",
   "language": "python",
   "name": "python3"
  },
  "language_info": {
   "codemirror_mode": {
    "name": "ipython",
    "version": 3
   },
   "file_extension": ".py",
   "mimetype": "text/x-python",
   "name": "python",
   "nbconvert_exporter": "python",
   "pygments_lexer": "ipython3",
   "version": "3.6.5"
  }
 },
 "nbformat": 4,
 "nbformat_minor": 2
}
