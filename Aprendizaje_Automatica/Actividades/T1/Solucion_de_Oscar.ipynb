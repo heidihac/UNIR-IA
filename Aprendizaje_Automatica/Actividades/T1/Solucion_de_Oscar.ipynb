{
 "cells": [
  {
   "cell_type": "code",
   "execution_count": 9,
   "metadata": {},
   "outputs": [
    {
     "name": "stdout",
     "output_type": "stream",
     "text": [
      "=========================================\n",
      "CONFUSION MATRIX: \n",
      "[[33  2]\n",
      " [ 7 45]]\n",
      "=========================================\n",
      "=========================================\n",
      "ACCURACY:  0.896551724137931\n",
      "SENSITIVITY:  0.8653846153846154\n",
      "SPECIFICITY:  0.9428571428571428\n",
      "=========================================\n",
      "=========================================\n",
      "CLASSIFICATION REPORT: \n",
      "             precision    recall  f1-score   support\n",
      "\n",
      " Republican       0.82      0.94      0.88        35\n",
      "   Democrat       0.96      0.87      0.91        52\n",
      "\n",
      "avg / total       0.90      0.90      0.90        87\n",
      "\n",
      "=========================================\n"
     ]
    },
    {
     "data": {
      "image/png": "[encoded data removed]",
      "text/plain": [
       "<Figure size 432x288 with 1 Axes>"
      ]
     },
     "metadata": {},
     "output_type": "display_data"
    },
    {
     "name": "stdout",
     "output_type": "stream",
     "text": [
      "Area Under the Curve:  0.9552197802197803\n"
     ]
    }
   ],
   "source": [
    "import pandas as pd\n",
    "import numpy as np\n",
    "\n",
    "from matplotlib import pyplot as plt\n",
    "\n",
    "from sklearn import model_selection\n",
    "from sklearn.naive_bayes import GaussianNB\n",
    "from sklearn import metrics\n",
    "\n",
    "# load the csv file directly into a pandas dataframe\n",
    "election_df = pd.read_csv('data/house-votes-84.data.txt')\n",
    "\n",
    "# rename the columns to the real, descriptive names\n",
    "election_df.columns = ['Class name', 'handicapped-infants', 'water-project-cost-sharing', 'adoption-of-the-budget-resolution', 'physician-fee-freeze', 'el-salvador-aid', 'religious-groups-in-schools', 'anti-satellite-test-ban', 'aid-to-nicaraguan-contras', 'mx-missile', 'immigration', 'synfuels-corporation-cutback', 'education-spending', 'superfund-right-to-sue', 'crime', 'duty-free-exports', 'export-administration-act-south-africa']\n",
    "\n",
    "# perform some basic data preparation for the algorithm\n",
    "# Naive Bayes in scikit-learn needs numeric values, so we map the 'democrat' class to 1, and the 'republican' class to 0\n",
    "election_df['Class name'] = election_df['Class name'].map({'democrat': 1, 'republican': 0})\n",
    "# do the same for the features, mapping 'y' to 1, 'n' to 0, and the missing values to -1\n",
    "for column in election_df:\n",
    "    if column != 'Class name':\n",
    "        election_df[column] = election_df[column].map({'y': 1, 'n': 0, '?':-1})\n",
    "\n",
    "# shuffle data so the samples are equally distributed\n",
    "election_df = election_df.reindex(np.random.permutation(election_df.index))\n",
    "\n",
    "# create the train and test sets\n",
    "features_train, features_test, targets_train, targets_test = model_selection.train_test_split(election_df.drop('Class name', axis=1), election_df['Class name'], test_size=0.2)\n",
    "\n",
    "# leave Laplace as 1.0, which is the default value\n",
    "model = GaussianNB()\n",
    "# train the model with the training data\n",
    "model.fit(features_train, targets_train)\n",
    "\n",
    "# make predictions\n",
    "predicted = model.predict(features_test)\n",
    "# also save the predicted probabilities\n",
    "predicted_probabilities = model.predict_proba(features_test)\n",
    "\n",
    "# save and print the confusion matrix\n",
    "confusion_matrix = metrics.confusion_matrix(targets_test, predicted)\n",
    "print('=========================================')\n",
    "print('CONFUSION MATRIX: ')\n",
    "print(confusion_matrix)\n",
    "print('=========================================')\n",
    "\n",
    "# accuracy, sensitivity and specificity measures\n",
    "print('=========================================')\n",
    "print('ACCURACY: ', metrics.accuracy_score(targets_test, predicted))\n",
    "print('SENSITIVITY: ', confusion_matrix[1, 1] / (confusion_matrix[1, 1] + confusion_matrix[1, 0]))\n",
    "print('SPECIFICITY: ', confusion_matrix[0, 0] / (confusion_matrix[0, 0] + confusion_matrix[0, 1]))\n",
    "print('=========================================')\n",
    "\n",
    "# print the classification report, with precision, recall and F1-score\n",
    "print('=========================================')\n",
    "print('CLASSIFICATION REPORT: ')\n",
    "print(metrics.classification_report(targets_test, predicted, target_names=['Republican', 'Democrat']))\n",
    "print('=========================================')\n",
    "\n",
    "# calculate the ROC curve. Use the probabilities for the 'democrat' class\n",
    "false_positive_rate, true_positive_rate, thresholds = metrics.roc_curve(targets_test, predicted_probabilities[:, 1])\n",
    "# plot and show the ROC curve\n",
    "plt.plot([0, 1], [0, 1], linestyle='--')\n",
    "plt.plot(false_positive_rate, true_positive_rate, marker='.')\n",
    "plt.xlabel('False positive rate')\n",
    "plt.ylabel('True positive rate')\n",
    "plt.show()\n",
    "# also calculate the AUC, area under the curve\n",
    "print ('Area Under the Curve: ', metrics.roc_auc_score(targets_test, predicted_probabilities[:, 1]))"
   ]
  },
  {
   "cell_type": "code",
   "execution_count": 18,
   "metadata": {},
   "outputs": [
    {
     "data": {
      "text/plain": [
       "(array([0.        , 0.02857143, 0.02857143, 0.05714286, 0.05714286,\n",
       "        0.11428571, 0.11428571, 0.14285714, 0.14285714, 0.2       ,\n",
       "        0.2       , 0.25714286, 0.25714286, 0.68571429, 0.8       ,\n",
       "        0.82857143, 0.88571429, 1.        ]),\n",
       " array([0.        , 0.05769231, 0.84615385, 0.84615385, 0.86538462,\n",
       "        0.86538462, 0.94230769, 0.94230769, 0.96153846, 0.96153846,\n",
       "        0.98076923, 0.98076923, 1.        , 1.        , 1.        ,\n",
       "        1.        , 1.        , 1.        ]),\n",
       " array([2.00000000e+00, 1.00000000e+00, 9.29299442e-01, 9.01576036e-01,\n",
       "        7.66074431e-01, 1.81476920e-01, 3.69216867e-03, 2.53862969e-03,\n",
       "        1.49878563e-03, 6.72898484e-05, 4.79679416e-05, 2.41800771e-05,\n",
       "        2.41033263e-05, 1.75901662e-09, 1.49956735e-09, 1.32813145e-09,\n",
       "        1.32138999e-09, 3.42141204e-11]))"
      ]
     },
     "execution_count": 18,
     "metadata": {},
     "output_type": "execute_result"
    }
   ],
   "source": [
    "false_positive_rate, true_positive_rate, thresholds"
   ]
  },
  {
   "cell_type": "code",
   "execution_count": 24,
   "metadata": {},
   "outputs": [
    {
     "data": {
      "text/plain": [
       "array([[9.99999959e-01, 4.05264718e-08],\n",
       "       [1.10831659e-11, 1.00000000e+00],\n",
       "       [7.26396736e-11, 1.00000000e+00],\n",
       "       [3.05555237e-05, 9.99969444e-01],\n",
       "       [9.45927917e-12, 1.00000000e+00],\n",
       "       [6.67950574e-21, 1.00000000e+00],\n",
       "       [2.72905417e-07, 9.99999727e-01],\n",
       "       [8.90979893e-01, 1.09020107e-01],\n",
       "       [9.97461370e-01, 2.53862969e-03],\n",
       "       [1.04174944e-12, 1.00000000e+00],\n",
       "       [3.63234784e-04, 9.99636765e-01],\n",
       "       [2.85443765e-21, 1.00000000e+00],\n",
       "       [9.99999724e-01, 2.75925333e-07],\n",
       "       [1.36310208e-04, 9.99863690e-01],\n",
       "       [9.96307831e-01, 3.69216867e-03],\n",
       "       [9.99999990e-01, 1.02098381e-08],\n",
       "       [1.40753980e-10, 1.00000000e+00],\n",
       "       [9.99960318e-01, 3.96822803e-05],\n",
       "       [6.61435441e-07, 9.99999339e-01],\n",
       "       [4.23252977e-06, 9.99995767e-01],\n",
       "       [4.81195478e-11, 1.00000000e+00],\n",
       "       [9.51525769e-01, 4.84742305e-02],\n",
       "       [2.32169904e-12, 1.00000000e+00],\n",
       "       [9.99999998e-01, 2.12549565e-09],\n",
       "       [9.99999998e-01, 1.55791954e-09],\n",
       "       [6.92979047e-13, 1.00000000e+00],\n",
       "       [9.99999995e-01, 4.51568167e-09],\n",
       "       [9.99999725e-01, 2.75267747e-07],\n",
       "       [1.17902887e-12, 1.00000000e+00],\n",
       "       [1.21194004e-11, 1.00000000e+00],\n",
       "       [9.99999998e-01, 1.55791954e-09],\n",
       "       [9.99999999e-01, 1.49956735e-09],\n",
       "       [8.04917039e-12, 1.00000000e+00],\n",
       "       [9.99999999e-01, 7.48101016e-10],\n",
       "       [6.72751728e-01, 3.27248272e-01],\n",
       "       [9.99999999e-01, 1.32813145e-09],\n",
       "       [9.99952032e-01, 4.79679416e-05],\n",
       "       [2.10958500e-11, 1.00000000e+00],\n",
       "       [1.00944141e-12, 1.00000000e+00],\n",
       "       [9.84239640e-02, 9.01576036e-01],\n",
       "       [8.18523080e-01, 1.81476920e-01],\n",
       "       [9.87387577e-01, 1.26124228e-02],\n",
       "       [2.87675433e-11, 1.00000000e+00],\n",
       "       [9.99999998e-01, 1.75901662e-09],\n",
       "       [1.66262245e-02, 9.83373776e-01],\n",
       "       [3.77404084e-10, 1.00000000e+00],\n",
       "       [1.05436105e-06, 9.99998946e-01],\n",
       "       [1.42041201e-10, 1.00000000e+00],\n",
       "       [1.04356256e-07, 9.99999896e-01],\n",
       "       [7.86420937e-13, 1.00000000e+00],\n",
       "       [8.64441039e-20, 1.00000000e+00],\n",
       "       [9.99999988e-01, 1.19784919e-08],\n",
       "       [9.99999996e-01, 3.57533162e-09],\n",
       "       [9.99997482e-01, 2.51818796e-06],\n",
       "       [5.90057314e-09, 9.99999994e-01],\n",
       "       [9.99999999e-01, 1.32138999e-09],\n",
       "       [2.01981573e-12, 1.00000000e+00],\n",
       "       [1.00000000e+00, 3.42141204e-11],\n",
       "       [9.99992203e-01, 7.79664454e-06],\n",
       "       [2.95713877e-11, 1.00000000e+00],\n",
       "       [2.33925569e-01, 7.66074431e-01],\n",
       "       [9.99932710e-01, 6.72898484e-05],\n",
       "       [9.99999999e-01, 1.49956735e-09],\n",
       "       [9.99999523e-01, 4.76977247e-07],\n",
       "       [9.99490795e-01, 5.09204835e-04],\n",
       "       [1.01969474e-13, 1.00000000e+00],\n",
       "       [9.99999999e-01, 1.32138999e-09],\n",
       "       [1.00000000e+00, 7.85193478e-11],\n",
       "       [4.21621549e-10, 1.00000000e+00],\n",
       "       [7.07005577e-02, 9.29299442e-01],\n",
       "       [6.21152949e-06, 9.99993788e-01],\n",
       "       [9.99999762e-01, 2.37709520e-07],\n",
       "       [1.73169562e-13, 1.00000000e+00],\n",
       "       [9.99999994e-01, 6.45098048e-09],\n",
       "       [9.99975897e-01, 2.41033263e-05],\n",
       "       [7.88268237e-10, 9.99999999e-01],\n",
       "       [9.98501214e-01, 1.49878563e-03],\n",
       "       [9.80415652e-08, 9.99999902e-01],\n",
       "       [6.51814965e-14, 1.00000000e+00],\n",
       "       [2.56161650e-13, 1.00000000e+00],\n",
       "       [7.09277457e-12, 1.00000000e+00],\n",
       "       [7.39097757e-05, 9.99926090e-01],\n",
       "       [9.99975820e-01, 2.41800771e-05],\n",
       "       [9.99999999e-01, 1.17032396e-09],\n",
       "       [9.99999633e-01, 3.67308065e-07],\n",
       "       [1.46221716e-10, 1.00000000e+00],\n",
       "       [3.66499103e-17, 1.00000000e+00]])"
      ]
     },
     "execution_count": 24,
     "metadata": {},
     "output_type": "execute_result"
    }
   ],
   "source": [
    "predicted_probabilities"
   ]
  }
 ],
 "metadata": {
  "kernelspec": {
   "display_name": "Python 3",
   "language": "python",
   "name": "python3"
  },
  "language_info": {
   "codemirror_mode": {
    "name": "ipython",
    "version": 3
   },
   "file_extension": ".py",
   "mimetype": "text/x-python",
   "name": "python",
   "nbconvert_exporter": "python",
   "pygments_lexer": "ipython3",
   "version": "3.6.5"
  }
 },
 "nbformat": 4,
 "nbformat_minor": 2
}
