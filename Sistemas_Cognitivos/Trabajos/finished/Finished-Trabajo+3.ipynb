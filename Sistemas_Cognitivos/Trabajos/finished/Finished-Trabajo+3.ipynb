{
 "cells": [
  {
   "cell_type": "markdown",
   "metadata": {
    "colab_type": "text",
    "id": "Ic4_occAAiAT"
   },
   "source": [
    "# Word Vectors"
   ]
  },
  {
   "cell_type": "markdown",
   "metadata": {
    "colab_type": "text",
    "id": "Eg62Pmz3o83v"
   },
   "source": [
    "En este trabajo, utilizaremos **embeddings** para resolver un problema de clasificación de texto. Los embeddings, representaciones distribuidas y vectoriales de elementos, son un concepto muy común en el mundo del deep learning. Los **word vectors** que hemos visto en clase son una representación en forma de embedding de las palabras.\n",
    "\n",
    "Para realizar este trabajo y sacarle el máximo partido, se recomienda ver los siguientes vídeos de clase:\n",
    "\n",
    "*   Clasificación de texto con Word Vectors.\n",
    "*   Análisis de overfitting con un modelo bag of words.\n",
    "*   Clasificación de texto con RNN\n",
    "\n",
    "Vamos a utilizar el dataset **\"Reuters newswire topics classification\"**, disponible desde Keras de manera similar al dataset de IMDB ([ver documentación](https://keras.io/datasets/#reuters-newswire-topics-classification)).\n",
    "\n",
    "---\n",
    "\n",
    "Se pide:\n",
    "\n",
    "Entrenar un modelo **utilizando embeddings** que consiga un **65% de accuracy en test (55% si usamos RNNs)**, mostrando el entrenamiento y el resultado final.\n",
    " \n",
    "Tenemos varias opciones para entrenar modelos con embeddings. El alumno puede explorar más de una pero es suficiente con conseguir un modelo que alcance la accuracy requerida:\n",
    "\n",
    "*   Utilizar una **media de embeddings** al estilo de lo visto en el vídeo *Clasificación de texto con Word Vectors*\n",
    "*   Utilizar una **CNN** sobre una secuencia de word vectors. Aquí necesitamos cambiar un poco la idea de convolución para actuar sobre sequencias de vectores. Keras incluye una [Convolución en 1D](https://keras.io/layers/convolutional/#conv1d) que puede ser utilizada en este caso, con un ejemplo de uso en la documentación. Una forma de hacer funcionar este esquema sería utilizar la convolución en 1D + max pooling.\n",
    "*  Utilizar una **RNN** sobre una secuencia de word vectors, al estilo de lo visto en el vídeo *Clasificación de texto con RNN*. Para este problema es un poco complicado conseguir un buen modelo con RNNs, y además es más difícil experimentar ya que las redes recurrentes son modelos lentos de entrenar. Por eso, es suficiente con alcanzar un 55% de accuracy si optamos por utilizar un modelo de este estilo. Un buen consejo es emplear una red recurrente bidireccional como se ve en el vídeo *Clasificación de texto con RNN*.\n",
    "\n",
    "\n",
    "\n",
    "---\n",
    "\n",
    "Dos hiperparámetros importantes a elegir en el modelo son la **longitud de las secuencias de texto** y el **tamaño del vocabulario** para los embeddings. Podéis experimentar con ambos, o utilizar los mismos que se usan en los vídeos. Nótese que, al cortar todas las secuencias para que tengan el mismo tamaño, podríamos estar perdiendo mucho texto si elegimos un tamaño de secuencia demasiado pequeño. Igualmente, si las hacemos muy largas necesitaremos más tiempo para entrenar nuestros modelos. Una buena idea consiste en explorar los datos para ver cómo suelen ser de largos los textos y encontrar un buen trade-off para el tamaño de al secuencia.\n",
    "\n",
    "\n",
    "\n",
    "---\n",
    "\n",
    "Los embeddings que hemos visto en los vídeos se entrenan junto al modelo.  Una técnica frecuente es inicializar estos embeddings con word-vectors pre-entrenados en un gran corpus de texto, como hemos visto en clase. Esto puede ayudar ya que nuestro modelo empieza con unos embeddings que ya encapsulan significado. Si bien no es necesario para esta práctica, podéis ver cómo usar esta técnica [en el siguiente tutorial](https://blog.keras.io/using-pre-trained-word-embeddings-in-a-keras-model.html).\n",
    "\n",
    "\n"
   ]
  },
  {
   "cell_type": "markdown",
   "metadata": {},
   "source": [
    "# Results\n",
    "In this exercise 3 Networks where trained.\n",
    "\n",
    "| Network                               | Test-Accuracy | Training-time (s)  |\n",
    "| ------------------------------------- |:-------------:| :-----------------:|\n",
    "CNN Network with pre-trained embeddings | 0.778         |      57.5          |\n",
    "CNN Network                             | 0.699         |      32.7          |\n",
    "RNN Network with pre-trained embeddings | 0.754         |     379            |\n",
    "\n",
    "Based on Test Accuracy and Training time the CNN with pre-trained embeddings would be the prefered solution."
   ]
  },
  {
   "cell_type": "markdown",
   "metadata": {},
   "source": [
    "# Load the dataset\n",
    "* Load the dataset\n",
    "* Calculate the mean text length\n",
    "* Generate a corpus of words in the index"
   ]
  },
  {
   "cell_type": "code",
   "execution_count": 1,
   "metadata": {
    "collapsed": true
   },
   "outputs": [],
   "source": [
    "import numpy as np\n",
    "np.random.seed(4422)\n",
    "\n",
    "from tensorflow import set_random_seed\n",
    "set_random_seed(9090)"
   ]
  },
  {
   "cell_type": "code",
   "execution_count": 2,
   "metadata": {
    "colab": {},
    "colab_type": "code",
    "collapsed": false,
    "id": "2ew7HTbPpCJH"
   },
   "outputs": [
    {
     "name": "stderr",
     "output_type": "stream",
     "text": [
      "Using TensorFlow backend.\n"
     ]
    },
    {
     "name": "stdout",
     "output_type": "stream",
     "text": [
      "Downloading data from https://s3.amazonaws.com/text-datasets/reuters.npz\n",
      "2113536/2110848 [==============================] - 1s 0us/step\n"
     ]
    }
   ],
   "source": [
    "from keras.datasets import reuters\n",
    "\n",
    "(x_train, y_train), (x_test, y_test) = reuters.load_data(path=\"reuters.npz\")"
   ]
  },
  {
   "cell_type": "code",
   "execution_count": 3,
   "metadata": {
    "collapsed": true
   },
   "outputs": [],
   "source": [
    "import keras\n",
    "NUM_CLASSES = len(np.unique(y_train))\n",
    "y_train = keras.utils.to_categorical(y_train, NUM_CLASSES)\n",
    "y_test = keras.utils.to_categorical(y_test, NUM_CLASSES)"
   ]
  },
  {
   "cell_type": "code",
   "execution_count": 4,
   "metadata": {
    "collapsed": true
   },
   "outputs": [],
   "source": [
    "# Extract the length of the different stories\n",
    "lens = [len(x) for x in x_train]"
   ]
  },
  {
   "cell_type": "code",
   "execution_count": 5,
   "metadata": {
    "collapsed": false
   },
   "outputs": [
    {
     "data": {
      "text/plain": [
       "(13, 145.5398574927633, 2376)"
      ]
     },
     "execution_count": 5,
     "metadata": {},
     "output_type": "execute_result"
    }
   ],
   "source": [
    "# Look at the different Story lengths\n",
    "sl_min, sl_mean, sl_max = np.min(lens), np.mean(lens), np.max(lens)\n",
    "sl_min, sl_mean, sl_max"
   ]
  },
  {
   "cell_type": "code",
   "execution_count": 6,
   "metadata": {
    "collapsed": true
   },
   "outputs": [],
   "source": [
    "TEXT_LEN = int(sl_mean)\n",
    "#TEXT_LEN = 200"
   ]
  },
  {
   "cell_type": "code",
   "execution_count": 7,
   "metadata": {
    "collapsed": false
   },
   "outputs": [
    {
     "name": "stdout",
     "output_type": "stream",
     "text": [
      "Downloading data from https://s3.amazonaws.com/text-datasets/reuters_word_index.json\n",
      "557056/550378 [==============================] - 1s 1us/step\n"
     ]
    }
   ],
   "source": [
    "word_index = reuters.get_word_index(path=\"reuters_word_index.json\")"
   ]
  },
  {
   "cell_type": "markdown",
   "metadata": {},
   "source": [
    "# Load pre-trained embedding"
   ]
  },
  {
   "cell_type": "code",
   "execution_count": 8,
   "metadata": {
    "collapsed": true
   },
   "outputs": [],
   "source": [
    "def load_glove_embeddings(glove_file, corpus):\n",
    "    embedding = {}\n",
    "    with open(glove_file) as f:\n",
    "        for line in f:\n",
    "            line = line.split()\n",
    "            word = line[0]\n",
    "            if word in corpus:\n",
    "                embedding[word] = np.asarray(line[1:], dtype='float32')\n",
    "    return embedding"
   ]
  },
  {
   "cell_type": "code",
   "execution_count": 9,
   "metadata": {
    "collapsed": false
   },
   "outputs": [
    {
     "ename": "FileNotFoundError",
     "evalue": "[Errno 2] No such file or directory: 'glove.6B.100d.txt'",
     "output_type": "error",
     "traceback": [
      "\u001b[0;31m---------------------------------------------------------------------------\u001b[0m",
      "\u001b[0;31mFileNotFoundError\u001b[0m                         Traceback (most recent call last)",
      "\u001b[0;32m<ipython-input-9-a091a85b9fa8>\u001b[0m in \u001b[0;36m<module>\u001b[0;34m()\u001b[0m\n\u001b[0;32m----> 1\u001b[0;31m \u001b[0membedding\u001b[0m \u001b[0;34m=\u001b[0m \u001b[0mload_glove_embeddings\u001b[0m\u001b[0;34m(\u001b[0m\u001b[0;34m'glove.6B.100d.txt'\u001b[0m\u001b[0;34m,\u001b[0m \u001b[0mword_index\u001b[0m\u001b[0;34m)\u001b[0m\u001b[0;34m\u001b[0m\u001b[0m\n\u001b[0m\u001b[1;32m      2\u001b[0m \u001b[0mEMBEDDING_DIM\u001b[0m \u001b[0;34m=\u001b[0m \u001b[0membedding\u001b[0m\u001b[0;34m[\u001b[0m\u001b[0;34m'the'\u001b[0m\u001b[0;34m]\u001b[0m\u001b[0;34m.\u001b[0m\u001b[0mshape\u001b[0m\u001b[0;34m[\u001b[0m\u001b[0;36m0\u001b[0m\u001b[0;34m]\u001b[0m\u001b[0;34m\u001b[0m\u001b[0m\n",
      "\u001b[0;32m<ipython-input-8-e777c00ceb16>\u001b[0m in \u001b[0;36mload_glove_embeddings\u001b[0;34m(glove_file, corpus)\u001b[0m\n\u001b[1;32m      1\u001b[0m \u001b[0;32mdef\u001b[0m \u001b[0mload_glove_embeddings\u001b[0m\u001b[0;34m(\u001b[0m\u001b[0mglove_file\u001b[0m\u001b[0;34m,\u001b[0m \u001b[0mcorpus\u001b[0m\u001b[0;34m)\u001b[0m\u001b[0;34m:\u001b[0m\u001b[0;34m\u001b[0m\u001b[0m\n\u001b[1;32m      2\u001b[0m     \u001b[0membedding\u001b[0m \u001b[0;34m=\u001b[0m \u001b[0;34m{\u001b[0m\u001b[0;34m}\u001b[0m\u001b[0;34m\u001b[0m\u001b[0m\n\u001b[0;32m----> 3\u001b[0;31m     \u001b[0;32mwith\u001b[0m \u001b[0mopen\u001b[0m\u001b[0;34m(\u001b[0m\u001b[0mglove_file\u001b[0m\u001b[0;34m)\u001b[0m \u001b[0;32mas\u001b[0m \u001b[0mf\u001b[0m\u001b[0;34m:\u001b[0m\u001b[0;34m\u001b[0m\u001b[0m\n\u001b[0m\u001b[1;32m      4\u001b[0m         \u001b[0;32mfor\u001b[0m \u001b[0mline\u001b[0m \u001b[0;32min\u001b[0m \u001b[0mf\u001b[0m\u001b[0;34m:\u001b[0m\u001b[0;34m\u001b[0m\u001b[0m\n\u001b[1;32m      5\u001b[0m             \u001b[0mline\u001b[0m \u001b[0;34m=\u001b[0m \u001b[0mline\u001b[0m\u001b[0;34m.\u001b[0m\u001b[0msplit\u001b[0m\u001b[0;34m(\u001b[0m\u001b[0;34m)\u001b[0m\u001b[0;34m\u001b[0m\u001b[0m\n",
      "\u001b[0;31mFileNotFoundError\u001b[0m: [Errno 2] No such file or directory: 'glove.6B.100d.txt'"
     ]
    }
   ],
   "source": [
    "embedding = load_glove_embeddings('glove.6B.100d.txt', word_index)\n",
    "EMBEDDING_DIM = embedding['the'].shape[0]"
   ]
  },
  {
   "cell_type": "code",
   "execution_count": 10,
   "metadata": {
    "collapsed": false
   },
   "outputs": [
    {
     "name": "stdout",
     "output_type": "stream",
     "text": [
      "Found 24975 out of 30979 words in the pre-trained embedding ...\n"
     ]
    }
   ],
   "source": [
    "print('Found %d out of %d words in the pre-trained embedding ...' % (len(embedding), len(word_index)))"
   ]
  },
  {
   "cell_type": "code",
   "execution_count": 11,
   "metadata": {
    "collapsed": true
   },
   "outputs": [],
   "source": [
    "# Add special indicators to embedding\n",
    "word_index = {k:v+3 for k, v in word_index.items()}\n",
    "word_index['<PAD>'] = 0\n",
    "word_index['<START>'] = 1\n",
    "word_index['<UNKNOWN>'] = 2\n",
    "word_index['<UNUSED>'] = 3"
   ]
  },
  {
   "cell_type": "markdown",
   "metadata": {},
   "source": [
    "# Prepare text\n",
    "Cut the text fragments to the same length; based on the average text length calculated previously"
   ]
  },
  {
   "cell_type": "code",
   "execution_count": 12,
   "metadata": {
    "collapsed": true
   },
   "outputs": [],
   "source": [
    "rev_word_index = {ix:word for word, ix in word_index.items()}"
   ]
  },
  {
   "cell_type": "code",
   "execution_count": 13,
   "metadata": {
    "collapsed": true
   },
   "outputs": [],
   "source": [
    "def translateText(sequence, rwi):\n",
    "    return [rwi.get(s) for s in sequence]"
   ]
  },
  {
   "cell_type": "code",
   "execution_count": 14,
   "metadata": {
    "collapsed": false
   },
   "outputs": [
    {
     "data": {
      "text/plain": [
       "['<PAD>',\n",
       " '<START>',\n",
       " '<UNKNOWN>',\n",
       " '<UNUSED>',\n",
       " 'the',\n",
       " 'of',\n",
       " 'to',\n",
       " 'in',\n",
       " 'said',\n",
       " 'and']"
      ]
     },
     "execution_count": 14,
     "metadata": {},
     "output_type": "execute_result"
    }
   ],
   "source": [
    "# Look the N most common words\n",
    "translateText(range(10), rev_word_index)"
   ]
  },
  {
   "cell_type": "code",
   "execution_count": 15,
   "metadata": {
    "collapsed": true
   },
   "outputs": [],
   "source": [
    "from keras.preprocessing.sequence import pad_sequences\n",
    "x_train_cut = pad_sequences(x_train, maxlen=TEXT_LEN, value=word_index['<PAD>'], padding='post')\n",
    "x_test_cut = pad_sequences(x_test, maxlen=TEXT_LEN, value=word_index['<PAD>'], padding='post')"
   ]
  },
  {
   "cell_type": "code",
   "execution_count": 16,
   "metadata": {
    "collapsed": false
   },
   "outputs": [
    {
     "data": {
      "text/plain": [
       "'<START> shr 3 28 dlrs vs 22 cts shr diluted 2 99 dlrs vs 22 cts net 46 0 mln vs 3 328 000 avg shrs 14 0 mln vs 15 2 mln year shr 5 41 dlrs vs 1 56 dlrs shr diluted 4 94 dlrs vs 1 50 dlrs net 78 2 mln vs 25 9 mln avg shrs 14 5 mln vs 15 1 mln note earnings per share reflect the two for one split effective january 6 1987 per share amounts are calculated after preferred stock dividends loss continuing operations for the qtr 1986 includes gains of sale of investments in enron corp of 14 mln dlrs and associated companies of 4 189 000 less writedowns of investments in national intergroup inc of 11 8 mln and brae corp of 15 6 mln reuter 3 <PAD> <PAD> <PAD> <PAD> <PAD> <PAD>'"
      ]
     },
     "execution_count": 16,
     "metadata": {},
     "output_type": "execute_result"
    }
   ],
   "source": [
    "# Check some texts \n",
    "' '.join(translateText(x_train_cut[2], rev_word_index))"
   ]
  },
  {
   "cell_type": "code",
   "execution_count": 17,
   "metadata": {
    "collapsed": false
   },
   "outputs": [
    {
     "data": {
      "text/plain": [
       "'<START> period ended december 31 shr profit 11 cts vs loss 24 cts net profit 224 271 vs loss 511 349 revs 7 258 688 vs 7 200 349 reuter 3 <PAD> <PAD> <PAD> <PAD> <PAD> <PAD> <PAD> <PAD> <PAD> <PAD> <PAD> <PAD> <PAD> <PAD> <PAD> <PAD> <PAD> <PAD> <PAD> <PAD> <PAD> <PAD> <PAD> <PAD> <PAD> <PAD> <PAD> <PAD> <PAD> <PAD> <PAD> <PAD> <PAD> <PAD> <PAD> <PAD> <PAD> <PAD> <PAD> <PAD> <PAD> <PAD> <PAD> <PAD> <PAD> <PAD> <PAD> <PAD> <PAD> <PAD> <PAD> <PAD> <PAD> <PAD> <PAD> <PAD> <PAD> <PAD> <PAD> <PAD> <PAD> <PAD> <PAD> <PAD> <PAD> <PAD> <PAD> <PAD> <PAD> <PAD> <PAD> <PAD> <PAD> <PAD> <PAD> <PAD> <PAD> <PAD> <PAD> <PAD> <PAD> <PAD> <PAD> <PAD> <PAD> <PAD> <PAD> <PAD> <PAD> <PAD> <PAD> <PAD> <PAD> <PAD> <PAD> <PAD> <PAD> <PAD> <PAD> <PAD> <PAD> <PAD> <PAD> <PAD> <PAD> <PAD> <PAD> <PAD> <PAD> <PAD> <PAD> <PAD> <PAD> <PAD>'"
      ]
     },
     "execution_count": 17,
     "metadata": {},
     "output_type": "execute_result"
    }
   ],
   "source": [
    "' '.join(translateText(x_train_cut[10], rev_word_index))"
   ]
  },
  {
   "cell_type": "code",
   "execution_count": 18,
   "metadata": {
    "collapsed": false
   },
   "outputs": [
    {
     "data": {
      "text/plain": [
       "\"<START> french operators did not request any export licences at today's european community weekly cereal tender trade sources said reuter 3 <PAD> <PAD> <PAD> <PAD> <PAD> <PAD> <PAD> <PAD> <PAD> <PAD> <PAD> <PAD> <PAD> <PAD> <PAD> <PAD> <PAD> <PAD> <PAD> <PAD> <PAD> <PAD> <PAD> <PAD> <PAD> <PAD> <PAD> <PAD> <PAD> <PAD> <PAD> <PAD> <PAD> <PAD> <PAD> <PAD> <PAD> <PAD> <PAD> <PAD> <PAD> <PAD> <PAD> <PAD> <PAD> <PAD> <PAD> <PAD> <PAD> <PAD> <PAD> <PAD> <PAD> <PAD> <PAD> <PAD> <PAD> <PAD> <PAD> <PAD> <PAD> <PAD> <PAD> <PAD> <PAD> <PAD> <PAD> <PAD> <PAD> <PAD> <PAD> <PAD> <PAD> <PAD> <PAD> <PAD> <PAD> <PAD> <PAD> <PAD> <PAD> <PAD> <PAD> <PAD> <PAD> <PAD> <PAD> <PAD> <PAD> <PAD> <PAD> <PAD> <PAD> <PAD> <PAD> <PAD> <PAD> <PAD> <PAD> <PAD> <PAD> <PAD> <PAD> <PAD> <PAD> <PAD> <PAD> <PAD> <PAD> <PAD> <PAD> <PAD> <PAD> <PAD> <PAD> <PAD> <PAD> <PAD> <PAD> <PAD> <PAD> <PAD> <PAD> <PAD>\""
      ]
     },
     "execution_count": 18,
     "metadata": {},
     "output_type": "execute_result"
    }
   ],
   "source": [
    "' '.join(translateText(x_train_cut[42], rev_word_index))"
   ]
  },
  {
   "cell_type": "markdown",
   "metadata": {},
   "source": [
    "## Possible error\n",
    "The texts above make little sense. Is there an error in the translation or have the text been processed?"
   ]
  },
  {
   "cell_type": "markdown",
   "metadata": {},
   "source": [
    "# Embedding Matrix\n",
    "Build the embedding matrix, in case we dont have a embedding for a word, set the vector to 0.0"
   ]
  },
  {
   "cell_type": "code",
   "execution_count": 19,
   "metadata": {
    "collapsed": false
   },
   "outputs": [
    {
     "data": {
      "text/plain": [
       "array([[ 0.      ,  0.      ,  0.      , ...,  0.      ,  0.      ,\n",
       "         0.      ],\n",
       "       [ 0.      ,  0.      ,  0.      , ...,  0.      ,  0.      ,\n",
       "         0.      ],\n",
       "       [ 0.      ,  0.      ,  0.      , ...,  0.      ,  0.      ,\n",
       "         0.      ],\n",
       "       ...,\n",
       "       [-0.40315 ,  0.16044 ,  0.2531  , ..., -1.1313  ,  0.072203,\n",
       "        -0.19863 ],\n",
       "       [ 0.10101 , -0.069524,  0.42737 , ...,  0.34197 ,  0.49801 ,\n",
       "         0.87623 ],\n",
       "       [ 0.      ,  0.      ,  0.      , ...,  0.      ,  0.      ,\n",
       "         0.      ]], dtype=float32)"
      ]
     },
     "execution_count": 19,
     "metadata": {},
     "output_type": "execute_result"
    }
   ],
   "source": [
    "embedding_matrix = np.zeros((len(word_index) + 1, EMBEDDING_DIM), dtype=embedding['the'].dtype)\n",
    "for w, i in word_index.items():\n",
    "    if w in embedding:\n",
    "        embedding_matrix[i] = embedding[w]\n",
    "embedding_matrix"
   ]
  },
  {
   "cell_type": "code",
   "execution_count": 20,
   "metadata": {
    "collapsed": true
   },
   "outputs": [],
   "source": [
    "from matplotlib import pyplot as plt\n",
    "\n",
    "def plot_acc(history, title=\"Model Accuracy\", ax=None):\n",
    "    \"\"\"Imprime una gráfica mostrando la accuracy por epoch obtenida en un entrenamiento\"\"\"\n",
    "    if ax is None:\n",
    "        fig, ax = plt.subplots(nrows=1, ncols=1)        \n",
    "    ax.plot(history.history['acc'])\n",
    "    ax.plot(history.history['val_acc'])\n",
    "    ax.set_title(title)\n",
    "    ax.set_ylabel('Accuracy')\n",
    "    ax.set_xlabel('Epoch')\n",
    "    ax.legend(['Train', 'Val'], loc='upper left')\n",
    "    \n",
    "def plot_loss(history, title=\"Model Loss\", ax=None):\n",
    "    \"\"\"Imprime una gráfica mostrando la pérdida por epoch obtenida en un entrenamiento\"\"\"\n",
    "    if ax is None:\n",
    "        fig, ax = plt.subplots(nrows=1, ncols=1)  \n",
    "    ax.plot(history.history['loss'])\n",
    "    ax.plot(history.history['val_loss'])\n",
    "    ax.set_title(title)\n",
    "    ax.set_ylabel('Loss')\n",
    "    ax.set_xlabel('Epoch')\n",
    "    ax.legend(['Train', 'Val'], loc='upper right')\n",
    "\n",
    "def plot_training(history):\n",
    "    # Print learning progress\n",
    "    fig, axs = plt.subplots(nrows=1, ncols=2, figsize=(10, 5))  \n",
    "    plot_acc(history=history, ax=axs[0])\n",
    "    plot_loss(history=history, ax=axs[1])\n",
    "    fig.suptitle('Training Progress')"
   ]
  },
  {
   "cell_type": "markdown",
   "metadata": {},
   "source": [
    "# Train a CNN Network"
   ]
  },
  {
   "cell_type": "code",
   "execution_count": 21,
   "metadata": {
    "collapsed": true
   },
   "outputs": [],
   "source": [
    "import keras\n",
    "from keras.datasets import fashion_mnist\n",
    "from keras.models import Sequential\n",
    "from keras.layers import Dense, Dropout, Conv1D, Embedding, MaxPool1D, Flatten, GlobalMaxPooling1D\n",
    "from keras.callbacks import EarlyStopping, ModelCheckpoint"
   ]
  },
  {
   "cell_type": "code",
   "execution_count": 22,
   "metadata": {
    "collapsed": false
   },
   "outputs": [
    {
     "name": "stdout",
     "output_type": "stream",
     "text": [
      "WARNING:tensorflow:From /home/jupyter/.local/lib/python3.5/site-packages/tensorflow/python/framework/op_def_library.py:263: colocate_with (from tensorflow.python.framework.ops) is deprecated and will be removed in a future version.\n",
      "Instructions for updating:\n",
      "Colocations handled automatically by placer.\n",
      "WARNING:tensorflow:From /usr/local/lib/python3.5/dist-packages/keras/backend/tensorflow_backend.py:3445: calling dropout (from tensorflow.python.ops.nn_ops) with keep_prob is deprecated and will be removed in a future version.\n",
      "Instructions for updating:\n",
      "Please use `rate` instead of `keep_prob`. Rate should be set to `rate = 1 - keep_prob`.\n",
      "_________________________________________________________________\n",
      "Layer (type)                 Output Shape              Param #   \n",
      "=================================================================\n",
      "embedding_1 (Embedding)      (None, 145, 100)          3098400   \n",
      "_________________________________________________________________\n",
      "dropout_1 (Dropout)          (None, 145, 100)          0         \n",
      "_________________________________________________________________\n",
      "conv1d_1 (Conv1D)            (None, 143, 128)          38528     \n",
      "_________________________________________________________________\n",
      "global_max_pooling1d_1 (Glob (None, 128)               0         \n",
      "_________________________________________________________________\n",
      "dropout_2 (Dropout)          (None, 128)               0         \n",
      "_________________________________________________________________\n",
      "dense_1 (Dense)              (None, 128)               16512     \n",
      "_________________________________________________________________\n",
      "dense_2 (Dense)              (None, 46)                5934      \n",
      "=================================================================\n",
      "Total params: 3,159,374\n",
      "Trainable params: 60,974\n",
      "Non-trainable params: 3,098,400\n",
      "_________________________________________________________________\n"
     ]
    }
   ],
   "source": [
    "# Add early stopping and only storing the best model\n",
    "callbacks = [EarlyStopping(monitor='val_loss', patience=4, min_delta=0.02),\n",
    "             ModelCheckpoint('weights-best.hdf5', monitor='val_acc', verbose=1, save_best_only=True, mode='auto'),\n",
    "            ]\n",
    "\n",
    "from keras import regularizers\n",
    "regularizer=regularizers.l2(0.01)\n",
    "\n",
    "model_cnn = Sequential()\n",
    "model_cnn.add(Embedding(len(word_index)+1, 100, weights=[embedding_matrix], input_length=145, trainable=False))\n",
    "model_cnn.add(Dropout(0.2))\n",
    "model_cnn.add(Conv1D(128, 3))\n",
    "model_cnn.add(GlobalMaxPooling1D())\n",
    "model_cnn.add(Dropout(0.5))\n",
    "model_cnn.add(Dense(128, activation='relu', kernel_regularizer=regularizer))\n",
    "model_cnn.add(Dense(NUM_CLASSES, activation='softmax'))\n",
    "\n",
    "model_cnn.summary()"
   ]
  },
  {
   "cell_type": "code",
   "execution_count": 23,
   "metadata": {
    "collapsed": false
   },
   "outputs": [
    {
     "name": "stdout",
     "output_type": "stream",
     "text": [
      "WARNING:tensorflow:From /home/jupyter/.local/lib/python3.5/site-packages/tensorflow/python/ops/math_ops.py:3066: to_int32 (from tensorflow.python.ops.math_ops) is deprecated and will be removed in a future version.\n",
      "Instructions for updating:\n",
      "Use tf.cast instead.\n",
      "WARNING:tensorflow:From /home/jupyter/.local/lib/python3.5/site-packages/tensorflow/python/ops/math_grad.py:102: div (from tensorflow.python.ops.math_ops) is deprecated and will be removed in a future version.\n",
      "Instructions for updating:\n",
      "Deprecated in favor of operator or tf.math.divide.\n",
      "Train on 7185 samples, validate on 1797 samples\n",
      "Epoch 1/30\n",
      "7185/7185 [==============================] - 3s 381us/step - loss: 3.0651 - acc: 0.4767 - val_loss: 2.3250 - val_acc: 0.6038\n",
      "\n",
      "Epoch 00001: val_acc improved from -inf to 0.60378, saving model to weights-best.hdf5\n",
      "Epoch 2/30\n",
      "7185/7185 [==============================] - 2s 330us/step - loss: 2.0970 - acc: 0.6008 - val_loss: 1.7240 - val_acc: 0.6628\n",
      "\n",
      "Epoch 00002: val_acc improved from 0.60378 to 0.66277, saving model to weights-best.hdf5\n",
      "Epoch 3/30\n",
      "7185/7185 [==============================] - 2s 331us/step - loss: 1.6695 - acc: 0.6465 - val_loss: 1.4494 - val_acc: 0.6923\n",
      "\n",
      "Epoch 00003: val_acc improved from 0.66277 to 0.69226, saving model to weights-best.hdf5\n",
      "Epoch 4/30\n",
      "7185/7185 [==============================] - 2s 333us/step - loss: 1.4665 - acc: 0.6759 - val_loss: 1.3133 - val_acc: 0.7184\n",
      "\n",
      "Epoch 00004: val_acc improved from 0.69226 to 0.71842, saving model to weights-best.hdf5\n",
      "Epoch 5/30\n",
      "7185/7185 [==============================] - 2s 333us/step - loss: 1.3550 - acc: 0.6920 - val_loss: 1.2169 - val_acc: 0.7401\n",
      "\n",
      "Epoch 00005: val_acc improved from 0.71842 to 0.74012, saving model to weights-best.hdf5\n",
      "Epoch 6/30\n",
      "7185/7185 [==============================] - 3s 366us/step - loss: 1.2559 - acc: 0.7090 - val_loss: 1.1617 - val_acc: 0.7379\n",
      "\n",
      "Epoch 00006: val_acc did not improve from 0.74012\n",
      "Epoch 7/30\n",
      "7185/7185 [==============================] - 3s 409us/step - loss: 1.1922 - acc: 0.7289 - val_loss: 1.1126 - val_acc: 0.7496\n",
      "\n",
      "Epoch 00007: val_acc improved from 0.74012 to 0.74958, saving model to weights-best.hdf5\n",
      "Epoch 8/30\n",
      "7185/7185 [==============================] - 3s 409us/step - loss: 1.1320 - acc: 0.7358 - val_loss: 1.0996 - val_acc: 0.7613\n",
      "\n",
      "Epoch 00008: val_acc improved from 0.74958 to 0.76127, saving model to weights-best.hdf5\n",
      "Epoch 9/30\n",
      "7185/7185 [==============================] - 3s 401us/step - loss: 1.1097 - acc: 0.7428 - val_loss: 1.0644 - val_acc: 0.7568\n",
      "\n",
      "Epoch 00009: val_acc did not improve from 0.76127\n",
      "Epoch 10/30\n",
      "7185/7185 [==============================] - 2s 328us/step - loss: 1.0783 - acc: 0.7466 - val_loss: 1.0490 - val_acc: 0.7641\n",
      "\n",
      "Epoch 00010: val_acc improved from 0.76127 to 0.76405, saving model to weights-best.hdf5\n",
      "Epoch 11/30\n",
      "7185/7185 [==============================] - 2s 326us/step - loss: 1.0443 - acc: 0.7596 - val_loss: 1.0137 - val_acc: 0.7746\n",
      "\n",
      "Epoch 00011: val_acc improved from 0.76405 to 0.77462, saving model to weights-best.hdf5\n",
      "Epoch 12/30\n",
      "7185/7185 [==============================] - 2s 328us/step - loss: 1.0250 - acc: 0.7602 - val_loss: 1.0211 - val_acc: 0.7652\n",
      "\n",
      "Epoch 00012: val_acc did not improve from 0.77462\n",
      "Epoch 13/30\n",
      "7185/7185 [==============================] - 2s 326us/step - loss: 0.9896 - acc: 0.7673 - val_loss: 0.9984 - val_acc: 0.7679\n",
      "\n",
      "Epoch 00013: val_acc did not improve from 0.77462\n",
      "Epoch 14/30\n",
      "7185/7185 [==============================] - 2s 326us/step - loss: 0.9723 - acc: 0.7698 - val_loss: 0.9915 - val_acc: 0.7796\n",
      "\n",
      "Epoch 00014: val_acc improved from 0.77462 to 0.77963, saving model to weights-best.hdf5\n",
      "Epoch 15/30\n",
      "7185/7185 [==============================] - 2s 331us/step - loss: 0.9484 - acc: 0.7770 - val_loss: 0.9698 - val_acc: 0.7780\n",
      "\n",
      "Epoch 00015: val_acc did not improve from 0.77963\n",
      "Epoch 16/30\n",
      "7185/7185 [==============================] - 2s 325us/step - loss: 0.9202 - acc: 0.7830 - val_loss: 0.9569 - val_acc: 0.7780\n",
      "\n",
      "Epoch 00016: val_acc did not improve from 0.77963\n",
      "Epoch 17/30\n",
      "7185/7185 [==============================] - 2s 327us/step - loss: 0.9096 - acc: 0.7854 - val_loss: 0.9647 - val_acc: 0.7807\n",
      "\n",
      "Epoch 00017: val_acc improved from 0.77963 to 0.78075, saving model to weights-best.hdf5\n",
      "Epoch 18/30\n",
      "7185/7185 [==============================] - 2s 327us/step - loss: 0.9113 - acc: 0.7836 - val_loss: 0.9556 - val_acc: 0.7858\n",
      "\n",
      "Epoch 00018: val_acc improved from 0.78075 to 0.78575, saving model to weights-best.hdf5\n",
      "Epoch 19/30\n",
      "7185/7185 [==============================] - 2s 331us/step - loss: 0.8953 - acc: 0.7891 - val_loss: 0.9400 - val_acc: 0.7874\n",
      "\n",
      "Epoch 00019: val_acc improved from 0.78575 to 0.78742, saving model to weights-best.hdf5\n",
      "Epoch 20/30\n",
      "7185/7185 [==============================] - 2s 326us/step - loss: 0.8708 - acc: 0.7968 - val_loss: 0.9364 - val_acc: 0.7919\n",
      "\n",
      "Epoch 00020: val_acc improved from 0.78742 to 0.79188, saving model to weights-best.hdf5\n",
      "Epoch 21/30\n",
      "7185/7185 [==============================] - 2s 328us/step - loss: 0.8582 - acc: 0.7967 - val_loss: 0.9547 - val_acc: 0.7846\n",
      "\n",
      "Epoch 00021: val_acc did not improve from 0.79188\n",
      "Epoch 22/30\n",
      "7185/7185 [==============================] - 2s 327us/step - loss: 0.8478 - acc: 0.7976 - val_loss: 0.9344 - val_acc: 0.7869\n",
      "\n",
      "Epoch 00022: val_acc did not improve from 0.79188\n",
      "Epoch 23/30\n",
      "7185/7185 [==============================] - 2s 326us/step - loss: 0.8387 - acc: 0.8015 - val_loss: 0.9492 - val_acc: 0.7896\n",
      "\n",
      "Epoch 00023: val_acc did not improve from 0.79188\n",
      "CPU times: user 5min 45s, sys: 12.5 s, total: 5min 58s\n",
      "Wall time: 57.5 s\n",
      "2246/2246 [==============================] - 0s 113us/step\n",
      "Test acc: 0.778\n"
     ]
    },
    {
     "data": {
      "image/png": "[encoded data removed]",
      "text/plain": [
       "<Figure size 720x360 with 2 Axes>"
      ]
     },
     "metadata": {},
     "output_type": "display_data"
    }
   ],
   "source": [
    "model_cnn.compile(loss=keras.losses.categorical_crossentropy,\n",
    "              optimizer=keras.optimizers.Adam(),\n",
    "              metrics=['accuracy'])\n",
    "\n",
    "%time history_cnn = model_cnn.fit(x_train_cut, y_train, batch_size=32, epochs=30, verbose=1, validation_split=0.2, callbacks=callbacks)\n",
    "\n",
    "test_loss, test_acc = model_cnn.evaluate(x_test_cut, y_test)\n",
    "print('Test acc: %0.3f' % test_acc)\n",
    "\n",
    "plot_training(history_cnn)"
   ]
  },
  {
   "cell_type": "markdown",
   "metadata": {},
   "source": [
    "# Without pre-trained embeddings"
   ]
  },
  {
   "cell_type": "code",
   "execution_count": 24,
   "metadata": {
    "collapsed": false
   },
   "outputs": [
    {
     "name": "stdout",
     "output_type": "stream",
     "text": [
      "_________________________________________________________________\n",
      "Layer (type)                 Output Shape              Param #   \n",
      "=================================================================\n",
      "embedding_2 (Embedding)      (None, 145, 100)          3098400   \n",
      "_________________________________________________________________\n",
      "dropout_3 (Dropout)          (None, 145, 100)          0         \n",
      "_________________________________________________________________\n",
      "conv1d_2 (Conv1D)            (None, 143, 32)           9632      \n",
      "_________________________________________________________________\n",
      "global_max_pooling1d_2 (Glob (None, 32)                0         \n",
      "_________________________________________________________________\n",
      "dense_3 (Dense)              (None, 32)                1056      \n",
      "_________________________________________________________________\n",
      "dense_4 (Dense)              (None, 46)                1518      \n",
      "=================================================================\n",
      "Total params: 3,110,606\n",
      "Trainable params: 3,110,606\n",
      "Non-trainable params: 0\n",
      "_________________________________________________________________\n"
     ]
    }
   ],
   "source": [
    "# Add early stopping and only storing the best model\n",
    "callbacks = [EarlyStopping(monitor='val_loss', patience=4, min_delta=0.02),\n",
    "             ModelCheckpoint('weights-best.hdf5', monitor='val_acc', verbose=1, save_best_only=True, mode='auto'),\n",
    "            ]\n",
    "\n",
    "\n",
    "from keras import regularizers\n",
    "regularizer=regularizers.l2(0.01)\n",
    "\n",
    "model = Sequential()\n",
    "model.add(Embedding(len(word_index)+1, EMBEDDING_DIM, input_length=TEXT_LEN))\n",
    "model.add(Dropout(0.2))\n",
    "model.add(Conv1D(32, 3))\n",
    "model.add(GlobalMaxPooling1D())\n",
    "model.add(Dense(32, activation='relu', kernel_regularizer=regularizer))\n",
    "model.add(Dense(NUM_CLASSES, activation='softmax'))\n",
    "\n",
    "\n",
    "model.summary()"
   ]
  },
  {
   "cell_type": "code",
   "execution_count": 25,
   "metadata": {
    "collapsed": false
   },
   "outputs": [
    {
     "name": "stdout",
     "output_type": "stream",
     "text": [
      "Train on 7185 samples, validate on 1797 samples\n",
      "Epoch 1/30\n",
      "7185/7185 [==============================] - 3s 457us/step - loss: 2.9598 - acc: 0.3994 - val_loss: 2.1553 - val_acc: 0.4908\n",
      "\n",
      "Epoch 00001: val_acc improved from -inf to 0.49082, saving model to weights-best.hdf5\n",
      "Epoch 2/30\n",
      "7185/7185 [==============================] - 3s 391us/step - loss: 1.9651 - acc: 0.5390 - val_loss: 1.8116 - val_acc: 0.5838\n",
      "\n",
      "Epoch 00002: val_acc improved from 0.49082 to 0.58375, saving model to weights-best.hdf5\n",
      "Epoch 3/30\n",
      "7185/7185 [==============================] - 3s 395us/step - loss: 1.6658 - acc: 0.6328 - val_loss: 1.6284 - val_acc: 0.6444\n",
      "\n",
      "Epoch 00003: val_acc improved from 0.58375 to 0.64441, saving model to weights-best.hdf5\n",
      "Epoch 4/30\n",
      "7185/7185 [==============================] - 3s 391us/step - loss: 1.4428 - acc: 0.6841 - val_loss: 1.4890 - val_acc: 0.6789\n",
      "\n",
      "Epoch 00004: val_acc improved from 0.64441 to 0.67891, saving model to weights-best.hdf5\n",
      "Epoch 5/30\n",
      "7185/7185 [==============================] - 3s 393us/step - loss: 1.2647 - acc: 0.7235 - val_loss: 1.4190 - val_acc: 0.6889\n",
      "\n",
      "Epoch 00005: val_acc improved from 0.67891 to 0.68893, saving model to weights-best.hdf5\n",
      "Epoch 6/30\n",
      "7185/7185 [==============================] - 3s 397us/step - loss: 1.1208 - acc: 0.7538 - val_loss: 1.3732 - val_acc: 0.7084\n",
      "\n",
      "Epoch 00006: val_acc improved from 0.68893 to 0.70840, saving model to weights-best.hdf5\n",
      "Epoch 7/30\n",
      "7185/7185 [==============================] - 3s 396us/step - loss: 0.9822 - acc: 0.7900 - val_loss: 1.3322 - val_acc: 0.7140\n",
      "\n",
      "Epoch 00007: val_acc improved from 0.70840 to 0.71397, saving model to weights-best.hdf5\n",
      "Epoch 8/30\n",
      "7185/7185 [==============================] - 3s 394us/step - loss: 0.8648 - acc: 0.8116 - val_loss: 1.3352 - val_acc: 0.7195\n",
      "\n",
      "Epoch 00008: val_acc improved from 0.71397 to 0.71953, saving model to weights-best.hdf5\n",
      "Epoch 9/30\n",
      "7185/7185 [==============================] - 3s 394us/step - loss: 0.7576 - acc: 0.8319 - val_loss: 1.3365 - val_acc: 0.7206\n",
      "\n",
      "Epoch 00009: val_acc improved from 0.71953 to 0.72065, saving model to weights-best.hdf5\n",
      "Epoch 10/30\n",
      "7185/7185 [==============================] - 3s 392us/step - loss: 0.6693 - acc: 0.8561 - val_loss: 1.3583 - val_acc: 0.7212\n",
      "\n",
      "Epoch 00010: val_acc improved from 0.72065 to 0.72120, saving model to weights-best.hdf5\n",
      "Epoch 11/30\n",
      "7185/7185 [==============================] - 3s 396us/step - loss: 0.5948 - acc: 0.8795 - val_loss: 1.3888 - val_acc: 0.7173\n",
      "\n",
      "Epoch 00011: val_acc did not improve from 0.72120\n",
      "CPU times: user 2min 53s, sys: 7.19 s, total: 3min 1s\n",
      "Wall time: 32.7 s\n",
      "2246/2246 [==============================] - 0s 65us/step\n",
      "Test acc: 0.699\n"
     ]
    },
    {
     "data": {
      "image/png": "[encoded data removed]",
      "text/plain": [
       "<Figure size 720x360 with 2 Axes>"
      ]
     },
     "metadata": {},
     "output_type": "display_data"
    }
   ],
   "source": [
    "model_cnn_own = model\n",
    "model_cnn_own.compile(loss=keras.losses.categorical_crossentropy,\n",
    "              optimizer=keras.optimizers.Adam(),\n",
    "              metrics=['accuracy'])\n",
    "\n",
    "%time history = model_cnn_own.fit(x_train_cut, y_train, batch_size=64, epochs=30, verbose=1, validation_split=0.2, callbacks=callbacks)\n",
    "\n",
    "test_loss, test_acc = model_cnn_own.evaluate(x_test_cut, y_test)\n",
    "print('Test acc: %0.3f' % test_acc)\n",
    "\n",
    "plot_training(history)"
   ]
  },
  {
   "cell_type": "markdown",
   "metadata": {},
   "source": [
    "# RNN Network"
   ]
  },
  {
   "cell_type": "code",
   "execution_count": 26,
   "metadata": {
    "collapsed": false
   },
   "outputs": [
    {
     "name": "stdout",
     "output_type": "stream",
     "text": [
      "_________________________________________________________________\n",
      "Layer (type)                 Output Shape              Param #   \n",
      "=================================================================\n",
      "embedding_3 (Embedding)      (None, 145, 100)          3098400   \n",
      "_________________________________________________________________\n",
      "lstm_1 (LSTM)                (None, 128)               117248    \n",
      "_________________________________________________________________\n",
      "dense_5 (Dense)              (None, 46)                5934      \n",
      "=================================================================\n",
      "Total params: 3,221,582\n",
      "Trainable params: 123,182\n",
      "Non-trainable params: 3,098,400\n",
      "_________________________________________________________________\n"
     ]
    }
   ],
   "source": [
    "from keras.layers import LSTM\n",
    "\n",
    "# Add early stopping and only storing the best model\n",
    "callbacks = [EarlyStopping(monitor='val_loss', patience=4, min_delta=0.02),\n",
    "             ModelCheckpoint('weights-best.hdf5', monitor='val_acc', verbose=1, save_best_only=True, mode='auto'),\n",
    "            ]\n",
    "\n",
    "from keras import regularizers\n",
    "regularizer=regularizers.l2(0.01)\n",
    "\n",
    "model = Sequential()\n",
    "model.add(Embedding(len(word_index)+1, 100, weights=[embedding_matrix], input_length=145, trainable=False))\n",
    "model.add(LSTM(128))\n",
    "model.add(Dense(NUM_CLASSES, activation='softmax'))\n",
    "\n",
    "model.summary()"
   ]
  },
  {
   "cell_type": "code",
   "execution_count": 27,
   "metadata": {
    "collapsed": false
   },
   "outputs": [
    {
     "name": "stdout",
     "output_type": "stream",
     "text": [
      "Train on 7185 samples, validate on 1797 samples\n",
      "Epoch 1/30\n",
      "7185/7185 [==============================] - 15s 2ms/step - loss: 2.4699 - acc: 0.3900 - val_loss: 2.0866 - val_acc: 0.4680\n",
      "\n",
      "Epoch 00001: val_acc improved from -inf to 0.46800, saving model to weights-best.hdf5\n",
      "Epoch 2/30\n",
      "7185/7185 [==============================] - 13s 2ms/step - loss: 2.0630 - acc: 0.4608 - val_loss: 1.9153 - val_acc: 0.4942\n",
      "\n",
      "Epoch 00002: val_acc improved from 0.46800 to 0.49416, saving model to weights-best.hdf5\n",
      "Epoch 3/30\n",
      "7185/7185 [==============================] - 13s 2ms/step - loss: 1.8821 - acc: 0.5048 - val_loss: 1.7679 - val_acc: 0.5648\n",
      "\n",
      "Epoch 00003: val_acc improved from 0.49416 to 0.56483, saving model to weights-best.hdf5\n",
      "Epoch 4/30\n",
      "7185/7185 [==============================] - 13s 2ms/step - loss: 1.6871 - acc: 0.5797 - val_loss: 1.6453 - val_acc: 0.5810\n",
      "\n",
      "Epoch 00004: val_acc improved from 0.56483 to 0.58097, saving model to weights-best.hdf5\n",
      "Epoch 5/30\n",
      "7185/7185 [==============================] - 13s 2ms/step - loss: 1.5391 - acc: 0.6084 - val_loss: 1.5257 - val_acc: 0.6171\n",
      "\n",
      "Epoch 00005: val_acc improved from 0.58097 to 0.61714, saving model to weights-best.hdf5\n",
      "Epoch 6/30\n",
      "7185/7185 [==============================] - 13s 2ms/step - loss: 1.4581 - acc: 0.6223 - val_loss: 1.4234 - val_acc: 0.6377\n",
      "\n",
      "Epoch 00006: val_acc improved from 0.61714 to 0.63773, saving model to weights-best.hdf5\n",
      "Epoch 7/30\n",
      "7185/7185 [==============================] - 14s 2ms/step - loss: 1.3871 - acc: 0.6398 - val_loss: 1.3689 - val_acc: 0.6583\n",
      "\n",
      "Epoch 00007: val_acc improved from 0.63773 to 0.65832, saving model to weights-best.hdf5\n",
      "Epoch 8/30\n",
      "7185/7185 [==============================] - 13s 2ms/step - loss: 1.3545 - acc: 0.6527 - val_loss: 1.3207 - val_acc: 0.6772\n",
      "\n",
      "Epoch 00008: val_acc improved from 0.65832 to 0.67724, saving model to weights-best.hdf5\n",
      "Epoch 9/30\n",
      "7185/7185 [==============================] - 13s 2ms/step - loss: 1.2611 - acc: 0.6814 - val_loss: 1.2920 - val_acc: 0.6789\n",
      "\n",
      "Epoch 00009: val_acc improved from 0.67724 to 0.67891, saving model to weights-best.hdf5\n",
      "Epoch 10/30\n",
      "7185/7185 [==============================] - 14s 2ms/step - loss: 1.2371 - acc: 0.6845 - val_loss: 1.2515 - val_acc: 0.6945\n",
      "\n",
      "Epoch 00010: val_acc improved from 0.67891 to 0.69449, saving model to weights-best.hdf5\n",
      "Epoch 11/30\n",
      "7185/7185 [==============================] - 13s 2ms/step - loss: 1.1689 - acc: 0.7042 - val_loss: 1.1898 - val_acc: 0.7051\n",
      "\n",
      "Epoch 00011: val_acc improved from 0.69449 to 0.70506, saving model to weights-best.hdf5\n",
      "Epoch 12/30\n",
      "7185/7185 [==============================] - 13s 2ms/step - loss: 1.1290 - acc: 0.7118 - val_loss: 1.1721 - val_acc: 0.7140\n",
      "\n",
      "Epoch 00012: val_acc improved from 0.70506 to 0.71397, saving model to weights-best.hdf5\n",
      "Epoch 13/30\n",
      "7185/7185 [==============================] - 14s 2ms/step - loss: 1.0813 - acc: 0.7219 - val_loss: 1.1359 - val_acc: 0.7279\n",
      "\n",
      "Epoch 00013: val_acc improved from 0.71397 to 0.72788, saving model to weights-best.hdf5\n",
      "Epoch 14/30\n",
      "7185/7185 [==============================] - 15s 2ms/step - loss: 1.0177 - acc: 0.7421 - val_loss: 1.0707 - val_acc: 0.7390\n",
      "\n",
      "Epoch 00014: val_acc improved from 0.72788 to 0.73901, saving model to weights-best.hdf5\n",
      "Epoch 15/30\n",
      "7185/7185 [==============================] - 13s 2ms/step - loss: 0.9639 - acc: 0.7525 - val_loss: 1.0810 - val_acc: 0.7234\n",
      "\n",
      "Epoch 00015: val_acc did not improve from 0.73901\n",
      "Epoch 16/30\n",
      "7185/7185 [==============================] - 13s 2ms/step - loss: 0.9487 - acc: 0.7564 - val_loss: 1.0383 - val_acc: 0.7429\n",
      "\n",
      "Epoch 00016: val_acc improved from 0.73901 to 0.74290, saving model to weights-best.hdf5\n",
      "Epoch 17/30\n",
      "7185/7185 [==============================] - 13s 2ms/step - loss: 0.9076 - acc: 0.7659 - val_loss: 0.9991 - val_acc: 0.7546\n",
      "\n",
      "Epoch 00017: val_acc improved from 0.74290 to 0.75459, saving model to weights-best.hdf5\n",
      "Epoch 18/30\n",
      "7185/7185 [==============================] - 13s 2ms/step - loss: 0.8679 - acc: 0.7770 - val_loss: 0.9930 - val_acc: 0.7496\n",
      "\n",
      "Epoch 00018: val_acc did not improve from 0.75459\n",
      "Epoch 19/30\n",
      "7185/7185 [==============================] - 14s 2ms/step - loss: 0.8291 - acc: 0.7884 - val_loss: 0.9944 - val_acc: 0.7529\n",
      "\n",
      "Epoch 00019: val_acc did not improve from 0.75459\n",
      "Epoch 20/30\n",
      "7185/7185 [==============================] - 13s 2ms/step - loss: 0.8642 - acc: 0.7775 - val_loss: 0.9757 - val_acc: 0.7646\n",
      "\n",
      "Epoch 00020: val_acc improved from 0.75459 to 0.76461, saving model to weights-best.hdf5\n",
      "Epoch 21/30\n",
      "7185/7185 [==============================] - 13s 2ms/step - loss: 0.7823 - acc: 0.8024 - val_loss: 0.9465 - val_acc: 0.7663\n",
      "\n",
      "Epoch 00021: val_acc improved from 0.76461 to 0.76628, saving model to weights-best.hdf5\n",
      "Epoch 22/30\n",
      "7185/7185 [==============================] - 13s 2ms/step - loss: 0.7512 - acc: 0.8088 - val_loss: 0.9398 - val_acc: 0.7730\n",
      "\n",
      "Epoch 00022: val_acc improved from 0.76628 to 0.77295, saving model to weights-best.hdf5\n",
      "Epoch 23/30\n",
      "7185/7185 [==============================] - 13s 2ms/step - loss: 0.7182 - acc: 0.8198 - val_loss: 0.9279 - val_acc: 0.7735\n",
      "\n",
      "Epoch 00023: val_acc improved from 0.77295 to 0.77351, saving model to weights-best.hdf5\n",
      "Epoch 24/30\n",
      "7185/7185 [==============================] - 13s 2ms/step - loss: 0.6884 - acc: 0.8234 - val_loss: 0.9389 - val_acc: 0.7629\n",
      "\n",
      "Epoch 00024: val_acc did not improve from 0.77351\n",
      "Epoch 25/30\n",
      "7185/7185 [==============================] - 13s 2ms/step - loss: 0.6976 - acc: 0.8234 - val_loss: 0.9239 - val_acc: 0.7685\n",
      "\n",
      "Epoch 00025: val_acc did not improve from 0.77351\n",
      "Epoch 26/30\n",
      "7185/7185 [==============================] - 14s 2ms/step - loss: 0.6521 - acc: 0.8352 - val_loss: 0.9190 - val_acc: 0.7752\n",
      "\n",
      "Epoch 00026: val_acc improved from 0.77351 to 0.77518, saving model to weights-best.hdf5\n",
      "Epoch 27/30\n",
      "7185/7185 [==============================] - 13s 2ms/step - loss: 0.6429 - acc: 0.8315 - val_loss: 0.9067 - val_acc: 0.7774\n",
      "\n",
      "Epoch 00027: val_acc improved from 0.77518 to 0.77741, saving model to weights-best.hdf5\n",
      "Epoch 28/30\n",
      "7185/7185 [==============================] - 13s 2ms/step - loss: 0.6346 - acc: 0.8370 - val_loss: 0.9647 - val_acc: 0.7685\n",
      "\n",
      "Epoch 00028: val_acc did not improve from 0.77741\n",
      "Epoch 29/30\n",
      "7185/7185 [==============================] - 13s 2ms/step - loss: 0.6455 - acc: 0.8342 - val_loss: 0.9175 - val_acc: 0.7691\n",
      "\n",
      "Epoch 00029: val_acc did not improve from 0.77741\n",
      "CPU times: user 32min 7s, sys: 3min 45s, total: 35min 52s\n",
      "Wall time: 6min 19s\n",
      "2246/2246 [==============================] - 1s 649us/step\n",
      "Test acc: 0.754\n"
     ]
    },
    {
     "data": {
      "image/png": "[encoded data removed]",
      "text/plain": [
       "<Figure size 720x360 with 2 Axes>"
      ]
     },
     "metadata": {},
     "output_type": "display_data"
    }
   ],
   "source": [
    "model = model\n",
    "model.compile(loss=keras.losses.categorical_crossentropy,\n",
    "              optimizer=keras.optimizers.Adam(),\n",
    "              metrics=['accuracy'])\n",
    "\n",
    "%time history = model.fit(x_train_cut, y_train, batch_size=64, epochs=30, verbose=1, validation_split=0.2, callbacks=callbacks)\n",
    "\n",
    "test_loss, test_acc = model.evaluate(x_test_cut, y_test)\n",
    "print('Test acc: %0.3f' % test_acc)\n",
    "\n",
    "plot_training(history)"
   ]
  }
 ],
 "metadata": {
  "accelerator": "GPU",
  "anaconda-cloud": {},
  "colab": {
   "collapsed_sections": [],
   "name": "Trabajo 3",
   "provenance": [],
   "version": "0.3.2"
  },
  "kernelspec": {
   "display_name": "Python [conda env:py3]",
   "language": "python",
   "name": "conda-env-py3-py"
  },
  "language_info": {
   "codemirror_mode": {
    "name": "ipython",
    "version": 3
   },
   "file_extension": ".py",
   "mimetype": "text/x-python",
   "name": "python",
   "nbconvert_exporter": "python",
   "pygments_lexer": "ipython3",
   "version": "3.6.5"
  }
 },
 "nbformat": 4,
 "nbformat_minor": 2
}
