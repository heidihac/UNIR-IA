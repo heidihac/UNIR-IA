{
 "cells": [
  {
   "cell_type": "markdown",
   "metadata": {
    "colab_type": "text",
    "id": "DvIlmt9yqM38"
   },
   "source": [
    "# Word based prediction"
   ]
  },
  {
   "cell_type": "code",
   "execution_count": 1,
   "metadata": {
    "colab": {
     "base_uri": "https://localhost:8080/",
     "height": 34
    },
    "colab_type": "code",
    "collapsed": false,
    "executionInfo": {
     "elapsed": 6796,
     "status": "ok",
     "timestamp": 1560546375540,
     "user": {
      "displayName": "Inés H",
      "photoUrl": "",
      "userId": "05276791495497480697"
     },
     "user_tz": -120
    },
    "id": "DIlZGPDrsraJ",
    "outputId": "8509fcec-8fea-4273-e1c0-422bdcdd2e2e"
   },
   "outputs": [
    {
     "name": "stderr",
     "output_type": "stream",
     "text": [
      "Using TensorFlow backend.\n"
     ]
    }
   ],
   "source": [
    "import keras\n",
    "import numpy as np \n",
    "from keras.models import Sequential\n",
    "from keras.layers import Dense, Dropout\n",
    "from keras.callbacks import EarlyStopping, ModelCheckpoint\n",
    "from keras.layers import LSTM, Bidirectional, Embedding\n",
    "from keras import regularizers\n",
    "from keras.callbacks import LambdaCallback\n",
    "import random\n",
    "\n",
    "path = keras.utils.get_file(\n",
    "    fname=\"don_quijote.txt\", \n",
    "    origin=\"https://onedrive.live.com/download?cid=C506CF0A4F373B0F&resid=C506CF0A4F373B0F%219424&authkey=AH0gb-qSo5Xd7Io\"\n",
    ")\n",
    "text = open(path,encoding='UTF-8').read().lower()"
   ]
  },
  {
   "cell_type": "markdown",
   "metadata": {
    "colab_type": "text",
    "id": "O0CKPsDJqXkc"
   },
   "source": [
    "Preprocesamiento de los datos, para eliminar signos de puntuación y extraer solo las palabras más frecuentes"
   ]
  },
  {
   "cell_type": "code",
   "execution_count": 2,
   "metadata": {
    "colab": {
     "base_uri": "https://localhost:8080/",
     "height": 51
    },
    "colab_type": "code",
    "collapsed": false,
    "executionInfo": {
     "elapsed": 6777,
     "status": "ok",
     "timestamp": 1560546375543,
     "user": {
      "displayName": "Inés H",
      "photoUrl": "",
      "userId": "05276791495497480697"
     },
     "user_tz": -120
    },
    "id": "XdQno_UrqUJp",
    "outputId": "63a29cc3-a952-44a5-d7fd-fe4b41757a39"
   },
   "outputs": [
    {
     "name": "stdout",
     "output_type": "stream",
     "text": [
      "453966 words in total\n",
      "24135 unique words\n"
     ]
    }
   ],
   "source": [
    "def multi_replace(text, mapping):\n",
    "    \"\"\"\n",
    "    Replace occurences in text basedon mapping\n",
    "    \"\"\"\n",
    "    import re\n",
    "    \n",
    "    # Generate something like: r'\\.|\\,|\\¿|\\?|\\!|\\;|\\-'\n",
    "    regexp = re.compile('|'.join(map(re.escape, mapping)))\n",
    "    \n",
    "    # Replace each occurence of a match string with its value\n",
    "    sub_sentences = regexp.sub(lambda match: mapping[match.group(0)], text)\n",
    "    \n",
    "    return sub_sentences\n",
    "\n",
    "# Generate a word index\n",
    "sentences = text.replace('\\n', ' ')\n",
    "\n",
    "special_chars = {'.':' <END>',\n",
    "           ',':' <COM>',\n",
    "           '¿':' <QUEST1>',\n",
    "           '?':' <QUEST2>',\n",
    "           '!':' <INDIC>',\n",
    "           ';': ' <SEMI>',\n",
    "           '-': ' <BAR> ',\n",
    "          }\n",
    "\n",
    "cleaned = multi_replace(sentences, special_chars)\n",
    "word_sequence = cleaned.split(' ')\n",
    "unique_words = set(word_sequence)\n",
    "print('%d words in total\\n%d unique words' % (len(word_sequence), len(unique_words)))"
   ]
  },
  {
   "cell_type": "code",
   "execution_count": 3,
   "metadata": {
    "colab": {
     "base_uri": "https://localhost:8080/",
     "height": 34
    },
    "colab_type": "code",
    "collapsed": false,
    "executionInfo": {
     "elapsed": 7323,
     "status": "ok",
     "timestamp": 1560546376111,
     "user": {
      "displayName": "Inés H",
      "photoUrl": "",
      "userId": "05276791495497480697"
     },
     "user_tz": -120
    },
    "id": "aWYSdDDwqcp7",
    "outputId": "ddcd7fda-2d1a-4c6d-d228-e73d8fb44b6e"
   },
   "outputs": [
    {
     "name": "stdout",
     "output_type": "stream",
     "text": [
      "Keeping 17661 words from the 24135 unique words\n"
     ]
    }
   ],
   "source": [
    "# Get most common words\n",
    "word_freq_dict = {}\n",
    "for word in word_sequence:\n",
    "    cnt = word_freq_dict.get(word, 0)\n",
    "    word_freq_dict[word] = cnt+1\n",
    "\n",
    "# Remove '' spaces spaces?\n",
    "word_freq_dict.pop('')\n",
    "\n",
    "word_freq = [(v, k) for k, v in word_freq_dict.items()]\n",
    "word_freq = sorted(word_freq, reverse=True)\n",
    "\n",
    "# Get 95% coverage of all word occurences in the text\n",
    "acc_threshold = len(word_sequence)*0.95\n",
    "\n",
    "N = 0\n",
    "word_list = []\n",
    "for n, w in word_freq:\n",
    "    N+=n\n",
    "    if N > acc_threshold:\n",
    "        break\n",
    "    word_list.append(w)\n",
    "\n",
    "word_list.insert(0, '<UNKNOWN>')\n",
    "word_index = {w:i for i, w in enumerate(word_list)}\n",
    "\n",
    "print('Keeping %d words from the %d unique words' % (len(word_list), len(unique_words)) )"
   ]
  },
  {
   "cell_type": "markdown",
   "metadata": {
    "colab_type": "text",
    "id": "DbMItQF9sX-5"
   },
   "source": [
    "Se crean los embeddings"
   ]
  },
  {
   "cell_type": "code",
   "execution_count": 4,
   "metadata": {
    "colab": {
     "base_uri": "https://localhost:8080/",
     "height": 221
    },
    "colab_type": "code",
    "collapsed": false,
    "executionInfo": {
     "elapsed": 7501,
     "status": "ok",
     "timestamp": 1560546376318,
     "user": {
      "displayName": "Inés H",
      "photoUrl": "",
      "userId": "05276791495497480697"
     },
     "user_tz": -120
    },
    "id": "rH3u_zIusWDL",
    "outputId": "ae26bcb7-9bfc-415a-f293-551781875327"
   },
   "outputs": [
    {
     "data": {
      "text/plain": [
       "array([  263,   222,     9,     2,   948,     4,     5,   565,     3,\n",
       "         717,    22,   459,   613,    21,    25,     4,     5,   250,\n",
       "           0,     0,     7,    31,   124,     4,     5,   250,     1,\n",
       "           4,   639,   230,    11,   165,  8203,     1,    11,    45,\n",
       "         147,   135,     2,  1914,    31,   613,     4,    13,     4,\n",
       "         601,     7, 11544,     1,  1734,  1904,     1,  1930,  2677,\n",
       "           3,  7430,  7800,     9,    38,  3090,     4,   324,    29,\n",
       "        3281,     2,  7918,     1,  8870,    17,    29,  2061,     1,\n",
       "        5043,     3, 14707,    13, 13241,     1, 17086,    13,  2772,\n",
       "           1,   153, 15630,     4,  2250,    13, 10689,     1,     0,\n",
       "          17,   185,   399,     4,    20,   730,     9,     8,  5526,\n",
       "         395])"
      ]
     },
     "execution_count": 4,
     "metadata": {
      "tags": []
     },
     "output_type": "execute_result"
    }
   ],
   "source": [
    "\n",
    "def text_embedded(text, word_index, default=0):\n",
    "    \"\"\"\n",
    "    Helper function that encodes given text using encoding (like embedding)\n",
    "    \"\"\"\n",
    "    enc = []\n",
    "    for w in text:\n",
    "        enc.append(word_index.get(w, default))\n",
    "    return np.array(enc)\n",
    "\n",
    "emtext = text_embedded(word_sequence, word_index)\n",
    "emtext[0:100]"
   ]
  },
  {
   "cell_type": "markdown",
   "metadata": {
    "colab_type": "text",
    "id": "X4xacaAQserZ"
   },
   "source": [
    "Se crean las secuencias, esta vez a partir de los embeddings correspondientes a las palabras, en lugar de los caracteres"
   ]
  },
  {
   "cell_type": "code",
   "execution_count": 5,
   "metadata": {
    "colab": {
     "base_uri": "https://localhost:8080/",
     "height": 34
    },
    "colab_type": "code",
    "collapsed": false,
    "executionInfo": {
     "elapsed": 8065,
     "status": "ok",
     "timestamp": 1560546376903,
     "user": {
      "displayName": "Inés H",
      "photoUrl": "",
      "userId": "05276791495497480697"
     },
     "user_tz": -120
    },
    "id": "5vY1Kzc7se13",
    "outputId": "99eb36b9-4fba-4486-b6e8-fe17e416f2c8"
   },
   "outputs": [
    {
     "name": "stdout",
     "output_type": "stream",
     "text": [
      "Generated 453951 Sequences\n"
     ]
    }
   ],
   "source": [
    "# Definimos el tamaño de las secuencias. Puedes dejar este valor por defecto.\n",
    "SEQ_LENGTH = 15\n",
    "DICT_SIZE = len(word_index)\n",
    "\n",
    "sequences = []\n",
    "next_word = []\n",
    "\n",
    "# NOTE: is this a bug? But full_sequence has to be 31 of length, not 30!\n",
    "full_sequence = [emtext[i:i+j+1] for i in range(len(emtext)-SEQ_LENGTH) for j in range(SEQ_LENGTH,SEQ_LENGTH+1)]\n",
    "\n",
    "for sequence in full_sequence:\n",
    "    sequences.append(sequence[:-1])\n",
    "    next_word.append(sequence[-1])\n",
    "\n",
    "print('Generated %d Sequences' % (len(sequences)))"
   ]
  },
  {
   "cell_type": "code",
   "execution_count": 0,
   "metadata": {
    "colab": {},
    "colab_type": "code",
    "collapsed": true,
    "id": "CmBJoIfYsniH"
   },
   "outputs": [],
   "source": [
    "MAX_SEQUENCES = len(sequences)\n",
    "#MAX_SEQUENCES = 100000 #En este caso hemos utilizado un número de secuencias mayor\n",
    "#MAX_SEQUENCES = 50000\n",
    "MAX_SEQUENCES = 10000\n",
    "#MAX_SEQUENCES = 500\n",
    "\n",
    "perm = np.random.permutation(len(sequences))\n",
    "sequences_short, next_word_short = np.array(sequences), np.array(next_word)\n",
    "sequences_short, next_word_short = sequences_short[perm], next_word_short[perm]\n",
    "sequences_short, next_word_short = list(sequences_short[:MAX_SEQUENCES]), list(next_word_short[:MAX_SEQUENCES])\n",
    "\n",
    "# Generate training data\n",
    "x_train = np.array(sequences_short)\n",
    "\n",
    "# One hot encode next_word\n",
    "y_train = np.zeros((MAX_SEQUENCES, DICT_SIZE))\n",
    "for i, w in enumerate(next_word_short):\n",
    "    y_train[i][w] = 1"
   ]
  },
  {
   "cell_type": "markdown",
   "metadata": {
    "colab_type": "text",
    "id": "OtgRSoNK3J6Q"
   },
   "source": [
    "Funciones auxiliares para mostrar gráficas en el entrenamiento"
   ]
  },
  {
   "cell_type": "code",
   "execution_count": 0,
   "metadata": {
    "colab": {},
    "colab_type": "code",
    "collapsed": true,
    "id": "HuIPzPmk3I6r"
   },
   "outputs": [],
   "source": [
    "from matplotlib import pyplot as plt\n",
    "\n",
    "def plot_acc(history, title=\"Model Accuracy\", ax=None):\n",
    "    \"\"\"Imprime una gráfica mostrando la accuracy por epoch obtenida en un entrenamiento\"\"\"\n",
    "    if ax is None:\n",
    "        fig, ax = plt.subplots(nrows=1, ncols=1)        \n",
    "    ax.plot(history.history['acc'])\n",
    "    ax.plot(history.history['val_acc'])\n",
    "    ax.set_title(title)\n",
    "    ax.set_ylabel('Accuracy')\n",
    "    ax.set_xlabel('Epoch')\n",
    "    ax.legend(['Train', 'Val'], loc='upper left')\n",
    "    \n",
    "def plot_loss(history, title=\"Model Loss\", ax=None):\n",
    "    \"\"\"Imprime una gráfica mostrando la pérdida por epoch obtenida en un entrenamiento\"\"\"\n",
    "    if ax is None:\n",
    "        fig, ax = plt.subplots(nrows=1, ncols=1)  \n",
    "    ax.plot(history.history['loss'])\n",
    "    ax.plot(history.history['val_loss'])\n",
    "    ax.set_title(title)\n",
    "    ax.set_ylabel('Loss')\n",
    "    ax.set_xlabel('Epoch')\n",
    "    ax.legend(['Train', 'Val'], loc='upper right')\n",
    "\n",
    "def plot_training(history):\n",
    "    # Print learning progress\n",
    "    fig, axs = plt.subplots(nrows=1, ncols=2, figsize=(10, 5))  \n",
    "    plot_acc(history=history, ax=axs[0])\n",
    "    plot_loss(history=history, ax=axs[1])\n",
    "    fig.suptitle('Training Progress')"
   ]
  },
  {
   "cell_type": "code",
   "execution_count": 0,
   "metadata": {
    "colab": {},
    "colab_type": "code",
    "collapsed": true,
    "id": "IU0P-BrO2PjN"
   },
   "outputs": [],
   "source": [
    "def sample(probs, temperature=1.0):\n",
    "    \"\"\"Nos da el índice del elemento a elegir según la distribución\n",
    "    de probabilidad dada por probs.\n",
    "    \n",
    "    Args:\n",
    "      probs es la salida dada por una capa softmax:\n",
    "        probs = model.predict(x_to_predict)[0]\n",
    "      \n",
    "      temperature es un parámetro que nos permite obtener mayor\n",
    "        \"diversidad\" a la hora de obtener resultados. \n",
    "        \n",
    "        temperature = 1 nos da la distribución normal de softmax\n",
    "        0 < temperature < 1 hace que el sampling sea más conservador,\n",
    "          de modo que sampleamos cosas de las que estamos más seguros\n",
    "        temperature > 1 hace que los samplings sean más atrevidos,\n",
    "          eligiendo en más ocasiones clases con baja probabilidad.\n",
    "          Con esto, tenemos mayor diversidad pero se cometen más\n",
    "          errores.\n",
    "    \"\"\"\n",
    "    # Cast a float64 por motivos numéricos\n",
    "    probs = np.asarray(probs).astype('float64')\n",
    "    \n",
    "    # Hacemos logaritmo de probabilidades y aplicamos reducción\n",
    "    # por temperatura.\n",
    "    probs = np.log(probs) / temperature\n",
    "    \n",
    "    # Volvemos a aplicar exponencial y normalizamos de nuevo\n",
    "    exp_probs = np.exp(probs)\n",
    "    probs = exp_probs / np.sum(exp_probs)\n",
    "    \n",
    "    # Hacemos el sampling dadas las nuevas probabilidades\n",
    "    # de salida (ver doc. de np.random.multinomial)\n",
    "    samples = np.random.multinomial(1, probs, 1)\n",
    "    maxidx = np.argmax(samples)\n",
    "    #return min(max(maxidx, 0), len(probs)-1)\n",
    "    return maxidx\n"
   ]
  },
  {
   "cell_type": "markdown",
   "metadata": {
    "colab_type": "text",
    "id": "PRkAr4l5s4ic"
   },
   "source": [
    "Se vuelven a crear las funciones generate_text y predict_text, adaptándola al caso de predicción en base a palabras."
   ]
  },
  {
   "cell_type": "code",
   "execution_count": 0,
   "metadata": {
    "colab": {},
    "colab_type": "code",
    "collapsed": true,
    "id": "OiHcZEQns3jY"
   },
   "outputs": [],
   "source": [
    "TEMPERATURES_TO_TRY = [0.2, 0.5, 1.0, 1.2]\n",
    "GENERATED_TEXT_LENGTH = 20\n",
    "\n",
    "def generate_text_byword(seed_text, model, length, temperature=1):\n",
    "    \"\"\"Genera una secuencia de texto a partir de seed_text utilizando model.\n",
    "    \n",
    "    La secuencia tiene longitud length y el sampling se hace con la temperature\n",
    "    definida.\n",
    "    \"\"\"\n",
    "    \n",
    "    # Aquí guardaremos nuestro texto generado, que incluirá el\n",
    "    # texto origen\n",
    " \n",
    "    ### TU CÓDIGO AQUÍ\n",
    "    generated = predict_text_byword(seed_text, model, GENERATED_TEXT_LENGTH)\n",
    "\n",
    "    ### FIN DE TU CÓDIGO\n",
    "    decoded_text = ' '.join([word_list[i] for i in generated])\n",
    "    return decoded_text\n",
    "\n",
    "\n",
    "\n",
    "def predict_text_byword(seed_text, model, length):\n",
    "    generated = list(seed_text)\n",
    "    N = len(seed_text)\n",
    "    for i in range(length):\n",
    "        text = np.array(generated[-N:])\n",
    "        # Reshape encoded text, because model expects (X, SEQ_LENGTH, NUM_CARS)\n",
    "        text = np.reshape(text, (1,) + text.shape)\n",
    "        #print('Enter %s' % text)\n",
    "        prediction = model.predict(text)\n",
    "        predicted = sample(prediction[0])\n",
    "        #predicted = np.argmax(prediction[0])\n",
    "        #print('Predicted %d' % predicted)\n",
    "        generated.append(predicted)\n",
    "    return generated\n",
    "\n",
    "\n",
    "def on_epoch_end(epoch, logs):\n",
    "  print(\"\\n\\n\\n\")\n",
    "  \n",
    "  # Primero, seleccionamos una secuencia al azar para empezar a predecir\n",
    "  # a partir de ella\n",
    "  start_pos = random.randint(0, len(emtext) - SEQ_LENGTH - 1)\n",
    "  seed_text = list(emtext[start_pos:start_pos + SEQ_LENGTH])\n",
    "  for temperature in TEMPERATURES_TO_TRY:\n",
    "    print(\"------> Epoch: {} - Generando texto con temperature {}\".format(\n",
    "        epoch + 1, temperature))\n",
    "    \n",
    "    generated_text = generate_text_byword(seed_text, model, \n",
    "                                   GENERATED_TEXT_LENGTH, temperature)\n",
    "    print(\"Seed: {}\".format(' '.join([word_list[i] for i in seed_text])))\n",
    "    print(\"Texto generado: {}\".format(generated_text))\n",
    "    print()\n",
    "generation_callback = LambdaCallback(on_epoch_end=on_epoch_end)  \n"
   ]
  },
  {
   "cell_type": "markdown",
   "metadata": {
    "colab_type": "text",
    "id": "__gXLgSts_Qr"
   },
   "source": [
    "Se crea el modelo, utilizando una red LSTM bidireccional"
   ]
  },
  {
   "cell_type": "code",
   "execution_count": 12,
   "metadata": {
    "colab": {
     "base_uri": "https://localhost:8080/",
     "height": 377
    },
    "colab_type": "code",
    "collapsed": false,
    "executionInfo": {
     "elapsed": 1206,
     "status": "ok",
     "timestamp": 1560546488559,
     "user": {
      "displayName": "Inés H",
      "photoUrl": "",
      "userId": "05276791495497480697"
     },
     "user_tz": -120
    },
    "id": "CPnRMJcNs-Md",
    "outputId": "f4d3791c-7d80-4b82-e621-2bb8bf831b85"
   },
   "outputs": [
    {
     "name": "stderr",
     "output_type": "stream",
     "text": [
      "WARNING: Logging before flag parsing goes to stderr.\n",
      "W0614 21:08:09.101253 140266812942208 deprecation_wrapper.py:119] From /usr/local/lib/python3.6/dist-packages/keras/backend/tensorflow_backend.py:74: The name tf.get_default_graph is deprecated. Please use tf.compat.v1.get_default_graph instead.\n",
      "\n",
      "W0614 21:08:09.158629 140266812942208 deprecation_wrapper.py:119] From /usr/local/lib/python3.6/dist-packages/keras/backend/tensorflow_backend.py:517: The name tf.placeholder is deprecated. Please use tf.compat.v1.placeholder instead.\n",
      "\n",
      "W0614 21:08:09.172867 140266812942208 deprecation_wrapper.py:119] From /usr/local/lib/python3.6/dist-packages/keras/backend/tensorflow_backend.py:4138: The name tf.random_uniform is deprecated. Please use tf.random.uniform instead.\n",
      "\n"
     ]
    },
    {
     "name": "stdout",
     "output_type": "stream",
     "text": [
      "_________________________________________________________________\n",
      "Layer (type)                 Output Shape              Param #   \n",
      "=================================================================\n",
      "embedding_1 (Embedding)      (None, 15, 100)           1766200   \n",
      "_________________________________________________________________\n",
      "bidirectional_1 (Bidirection (None, 256)               234496    \n",
      "_________________________________________________________________\n",
      "dense_1 (Dense)              (None, 17661)             4538877   \n",
      "=================================================================\n",
      "Total params: 6,539,573\n",
      "Trainable params: 6,539,573\n",
      "Non-trainable params: 0\n",
      "_________________________________________________________________\n"
     ]
    }
   ],
   "source": [
    "# Add early stopping and only storing the best model\n",
    "callbacks = [EarlyStopping(monitor='val_loss', patience=4, min_delta=0.02),\n",
    "             ModelCheckpoint('weights-best.hdf5', monitor='val_acc', verbose=1, save_best_only=True, mode='auto'),\n",
    "             generation_callback,\n",
    "            ]\n",
    "\n",
    "EMBEDDING_DIM = 100\n",
    "\n",
    "\n",
    "model = Sequential()\n",
    "model.add(Embedding(len(word_index)+1, EMBEDDING_DIM, input_length=SEQ_LENGTH))\n",
    "model.add(Bidirectional(LSTM(128)))\n",
    "model.add(Dense(len(word_index), activation='softmax'))\n",
    "\n",
    "\n",
    "\"\"\"\n",
    "model = Sequential()\n",
    "model.add(Embedding(len(word_index)+1, EMBEDDING_DIM, input_length=SEQ_LENGTH))\n",
    "model.add(LSTM(256, return_sequences=True))\n",
    "model.add(Dropout(0.2))\n",
    "model.add(LSTM(256))\n",
    "model.add(Dropout(0.2))\n",
    "model.add(Dense(len(word_index), activation='softmax'))\n",
    "\"\"\"\n",
    "\n",
    "model.summary()"
   ]
  },
  {
   "cell_type": "code",
   "execution_count": 18,
   "metadata": {
    "colab": {
     "base_uri": "https://localhost:8080/",
     "height": 2481
    },
    "colab_type": "code",
    "collapsed": false,
    "executionInfo": {
     "elapsed": 192110,
     "status": "ok",
     "timestamp": 1560547420795,
     "user": {
      "displayName": "Inés H",
      "photoUrl": "",
      "userId": "05276791495497480697"
     },
     "user_tz": -120
    },
    "id": "6JFY7ilxtdDQ",
    "outputId": "6e3bdd4e-4f5a-429f-cecf-15668dc43493"
   },
   "outputs": [
    {
     "name": "stdout",
     "output_type": "stream",
     "text": [
      "Train on 8000 samples, validate on 2000 samples\n",
      "Epoch 1/10\n",
      "8000/8000 [==============================] - 40s 5ms/step - loss: 4.5336 - acc: 0.1661 - val_loss: 6.7916 - val_acc: 0.0815\n",
      "\n",
      "Epoch 00001: val_acc did not improve from 0.10400\n",
      "\n",
      "\n",
      "\n",
      "\n",
      "------> Epoch: 1 - Generando texto con temperature 0.2\n",
      "Seed: <COM> desde aquel día en adelante <COM> vargas y machuca <END> <UNKNOWN> dicho esto <COM>\n",
      "Texto generado: <COM> desde aquel día en adelante <COM> vargas y machuca <END> <UNKNOWN> dicho esto <COM> yo pues y esta quisiéredes dulcinea a servido dicho <QUEST2> <UNKNOWN> <UNKNOWN> no yo que ha tengo el estaba merced\n",
      "\n",
      "------> Epoch: 1 - Generando texto con temperature 0.5\n",
      "Seed: <COM> desde aquel día en adelante <COM> vargas y machuca <END> <UNKNOWN> dicho esto <COM>\n",
      "Texto generado: <COM> desde aquel día en adelante <COM> vargas y machuca <END> <UNKNOWN> dicho esto <COM> quiero otra invención he tocino <INDIC> yo <BAR> lo leonela <SEMI> la mal iba me trabacuentas gritos <END> <END> <BAR>\n",
      "\n",
      "------> Epoch: 1 - Generando texto con temperature 1.0\n",
      "Seed: <COM> desde aquel día en adelante <COM> vargas y machuca <END> <UNKNOWN> dicho esto <COM>\n",
      "Texto generado: <COM> desde aquel día en adelante <COM> vargas y machuca <END> <UNKNOWN> dicho esto <COM> de de dulcinea las capítulo justicias <END> porque alto y capítulo redundase a quedé muerto reinaldos <END> lacayuna <QUEST1>quién hablamos\n",
      "\n",
      "------> Epoch: 1 - Generando texto con temperature 1.2\n",
      "Seed: <COM> desde aquel día en adelante <COM> vargas y machuca <END> <UNKNOWN> dicho esto <COM>\n",
      "Texto generado: <COM> desde aquel día en adelante <COM> vargas y machuca <END> <UNKNOWN> dicho esto <COM> quisiéredes he tal niña he tan batalla <COM> en el que y si la la mancha que me me rondón\n",
      "\n",
      "Epoch 2/10\n",
      "8000/8000 [==============================] - 36s 5ms/step - loss: 4.1542 - acc: 0.1883 - val_loss: 7.2297 - val_acc: 0.0785\n",
      "\n",
      "Epoch 00002: val_acc did not improve from 0.10400\n",
      "\n",
      "\n",
      "\n",
      "\n",
      "------> Epoch: 2 - Generando texto con temperature 0.2\n",
      "Seed: mucho <COM> por ser de su mano <COM> y <UNKNOWN> largo <COM> <UNKNOWN> de su\n",
      "Texto generado: mucho <COM> por ser de su mano <COM> y <UNKNOWN> largo <COM> <UNKNOWN> de su maten lo que qué sancho aquí esperaban con veces poner según hasta diligencia <COM> diligencia en lo que que que\n",
      "\n",
      "------> Epoch: 2 - Generando texto con temperature 0.5\n",
      "Seed: mucho <COM> por ser de su mano <COM> y <UNKNOWN> largo <COM> <UNKNOWN> de su\n",
      "Texto generado: mucho <COM> por ser de su mano <COM> y <UNKNOWN> largo <COM> <UNKNOWN> de su mala se le pretendientes <SEMI> don buena alma o le bultos <COM> <COM> a tiempo a me dar una burlas\n",
      "\n",
      "------> Epoch: 2 - Generando texto con temperature 1.0\n",
      "Seed: mucho <COM> por ser de su mano <COM> y <UNKNOWN> largo <COM> <UNKNOWN> de su\n",
      "Texto generado: mucho <COM> por ser de su mano <COM> y <UNKNOWN> largo <COM> <UNKNOWN> de su ojos <COM> que don poco tener dulcinea un cielo te entender <COM> y ya <COM> se dos repararon y san\n",
      "\n",
      "------> Epoch: 2 - Generando texto con temperature 1.2\n",
      "Seed: mucho <COM> por ser de su mano <COM> y <UNKNOWN> largo <COM> <UNKNOWN> de su\n",
      "Texto generado: mucho <COM> por ser de su mano <COM> y <UNKNOWN> largo <COM> <UNKNOWN> de su los encarecimiento de mal muchas aquí poner de bacía de suplico tenía son le antonio y él había gran toboso\n",
      "\n",
      "Epoch 3/10\n",
      "8000/8000 [==============================] - 37s 5ms/step - loss: 3.8203 - acc: 0.2193 - val_loss: 7.4069 - val_acc: 0.0800\n",
      "\n",
      "Epoch 00003: val_acc did not improve from 0.10400\n",
      "\n",
      "\n",
      "\n",
      "\n",
      "------> Epoch: 3 - Generando texto con temperature 0.2\n",
      "Seed: coces y le dejaron tendido en el suelo sin aliento ni sentido <END> y <COM>\n",
      "Texto generado: coces y le dejaron tendido en el suelo sin aliento ni sentido <END> y <COM> de las que responde las basa para tarfe <END> al huyan al duque <SEMI> en otra diciendo fortuna que él\n",
      "\n",
      "------> Epoch: 3 - Generando texto con temperature 0.5\n",
      "Seed: coces y le dejaron tendido en el suelo sin aliento ni sentido <END> y <COM>\n",
      "Texto generado: coces y le dejaron tendido en el suelo sin aliento ni sentido <END> y <COM> con la casa <COM> qué este asno las tasa en aquel hacen ha que con menos como pienso tal doncella\n",
      "\n",
      "------> Epoch: 3 - Generando texto con temperature 1.0\n",
      "Seed: coces y le dejaron tendido en el suelo sin aliento ni sentido <END> y <COM>\n",
      "Texto generado: coces y le dejaron tendido en el suelo sin aliento ni sentido <END> y <COM> a esta entre del su infanta de estando <COM> estaba se espada <COM> humo <COM> debes llegó con preguntó voy\n",
      "\n",
      "------> Epoch: 3 - Generando texto con temperature 1.2\n",
      "Seed: coces y le dejaron tendido en el suelo sin aliento ni sentido <END> y <COM>\n",
      "Texto generado: coces y le dejaron tendido en el suelo sin aliento ni sentido <END> y <COM> donde la cual me su remedio <COM> que le encrucijadas dicho <COM> tanto el valeroso <COM> <COM> y el merced\n",
      "\n",
      "Epoch 4/10\n",
      "8000/8000 [==============================] - 36s 5ms/step - loss: 3.4778 - acc: 0.2659 - val_loss: 7.7280 - val_acc: 0.0780\n",
      "\n",
      "Epoch 00004: val_acc did not improve from 0.10400\n",
      "\n",
      "\n",
      "\n",
      "\n",
      "------> Epoch: 4 - Generando texto con temperature 0.2\n",
      "Seed: toscano idioma <INDIC> yo apostaré una buena apuesta que adonde diga en el toscano piache\n",
      "Texto generado: toscano idioma <INDIC> yo apostaré una buena apuesta que adonde diga en el toscano piache <QUEST2> <SEMI> real lanza con príncipes a viene de hacer sancho y duda <UNKNOWN> <COM> <UNKNOWN> <UNKNOWN> <UNKNOWN> don desdichas\n",
      "\n",
      "------> Epoch: 4 - Generando texto con temperature 0.5\n",
      "Seed: toscano idioma <INDIC> yo apostaré una buena apuesta que adonde diga en el toscano piache\n",
      "Texto generado: toscano idioma <INDIC> yo apostaré una buena apuesta que adonde diga en el toscano piache <SEMI> mas descubrió bien hecho juicio a sin esta quijote <END> <BAR> don quijote <BAR> <UNKNOWN> <COM> sus medianamente dicho\n",
      "\n",
      "------> Epoch: 4 - Generando texto con temperature 1.0\n",
      "Seed: toscano idioma <INDIC> yo apostaré una buena apuesta que adonde diga en el toscano piache\n",
      "Texto generado: toscano idioma <INDIC> yo apostaré una buena apuesta que adonde diga en el toscano piache sabía contigo <SEMI> mallorca fácil despedido sin vez sino otra manos que está si le ojos <COM> que la ser\n",
      "\n",
      "------> Epoch: 4 - Generando texto con temperature 1.2\n",
      "Seed: toscano idioma <INDIC> yo apostaré una buena apuesta que adonde diga en el toscano piache\n",
      "Texto generado: toscano idioma <INDIC> yo apostaré una buena apuesta que adonde diga en el toscano piache <SEMI> mas vuelvo <SEMI> viste pido golpe a ser estos que holgáredes de monarca de era y el el vocablos\n",
      "\n",
      "Epoch 5/10\n",
      "8000/8000 [==============================] - 36s 5ms/step - loss: 3.1301 - acc: 0.3141 - val_loss: 7.9354 - val_acc: 0.0725\n",
      "\n",
      "Epoch 00005: val_acc did not improve from 0.10400\n",
      "\n",
      "\n",
      "\n",
      "\n",
      "------> Epoch: 5 - Generando texto con temperature 0.2\n",
      "Seed: término de mi partida <COM> hablé una noche a luscinda <COM> díjele todo lo que\n",
      "Texto generado: término de mi partida <COM> hablé una noche a luscinda <COM> díjele todo lo que quiere es su esto <COM> y en primero que lo más los echó y les manos de otro don merced\n",
      "\n",
      "------> Epoch: 5 - Generando texto con temperature 0.5\n",
      "Seed: término de mi partida <COM> hablé una noche a luscinda <COM> díjele todo lo que\n",
      "Texto generado: término de mi partida <COM> hablé una noche a luscinda <COM> díjele todo lo que el mitad y los su talante a ha un nació que con las sus pueblo de dos luego para y\n",
      "\n",
      "------> Epoch: 5 - Generando texto con temperature 1.0\n",
      "Seed: término de mi partida <COM> hablé una noche a luscinda <COM> díjele todo lo que\n",
      "Texto generado: término de mi partida <COM> hablé una noche a luscinda <COM> díjele todo lo que los entre que una otro aquel enemigo que los buena las estar <QUEST2> y por cielos <COM> las asno le\n",
      "\n",
      "------> Epoch: 5 - Generando texto con temperature 1.2\n",
      "Seed: término de mi partida <COM> hablé una noche a luscinda <COM> díjele todo lo que\n",
      "Texto generado: término de mi partida <COM> hablé una noche a luscinda <COM> díjele todo lo que por suyo los gusto en otra como menos y como sobre por cosa de otra sabía alguna quiero mostrándonos estaba\n",
      "\n",
      "CPU times: user 5min 6s, sys: 32.6 s, total: 5min 39s\n",
      "Wall time: 3min 10s\n"
     ]
    },
    {
     "data": {
      "image/png": "[encoded data removed]",
      "text/plain": [
       "<Figure size 720x360 with 2 Axes>"
      ]
     },
     "metadata": {
      "tags": []
     },
     "output_type": "display_data"
    }
   ],
   "source": [
    "\n",
    "model.compile(loss=keras.losses.categorical_crossentropy,\n",
    "              optimizer=keras.optimizers.Adam(),\n",
    "              metrics=['accuracy'])\n",
    "\n",
    "%time history = model.fit(x_train, y_train, batch_size=64, epochs=10, verbose=1, validation_split=0.2, callbacks=callbacks)\n",
    "\n",
    "#test_loss, test_acc = model.evaluate(x_test_cut, y_test)\n",
    "#print('Test acc: %0.3f' % test_acc)\n",
    "\n",
    "plot_training(history)"
   ]
  },
  {
   "cell_type": "code",
   "execution_count": 0,
   "metadata": {
    "colab": {},
    "colab_type": "code",
    "collapsed": true,
    "id": "BLNMC9Wt1Sg4"
   },
   "outputs": [],
   "source": []
  }
 ],
 "metadata": {
  "anaconda-cloud": {},
  "colab": {
   "name": "Untitled0.ipynb",
   "provenance": [],
   "version": "0.3.2"
  },
  "kernelspec": {
   "display_name": "Python [default]",
   "language": "python",
   "name": "python3"
  },
  "language_info": {
   "codemirror_mode": {
    "name": "ipython",
    "version": 3
   },
   "file_extension": ".py",
   "mimetype": "text/x-python",
   "name": "python",
   "nbconvert_exporter": "python",
   "pygments_lexer": "ipython3",
   "version": "3.5.2"
  }
 },
 "nbformat": 4,
 "nbformat_minor": 0
}
