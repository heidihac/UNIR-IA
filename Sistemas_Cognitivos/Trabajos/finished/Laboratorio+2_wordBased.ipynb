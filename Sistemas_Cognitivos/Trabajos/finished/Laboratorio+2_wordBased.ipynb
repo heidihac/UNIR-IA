{
 "cells": [
  {
   "cell_type": "markdown",
   "metadata": {
    "colab_type": "text",
    "id": "mX8gZlVyCCbz"
   },
   "source": [
    "# Laboratorio: Modelos del lenguaje con RNNs\n",
    "\n",
    "En este laboratorio, vamos a entrenar un modelo del lenguaje basado en caracteres con Recurrent Neural Networks. Asimismo, utilizaremos el modelo para generar texto. En particular, alimentaremos nuestro modelo con obras de la literatura clásica en castellano para obtener una red neuronal que sea capaz de \"escribir\" fragmentos literarios.\n",
    "\n",
    "Los entrenamientos en esta laboratorio para obtener un modelo de calidad podrían tomar cierto tiempo (5-10 minutos por epoch), por lo que se aconseja empezar a trabajar pronto. El uso de GPUs no ayuda tanto con LSTMs como con CNNs, por lo que si tenéis máquinas potentes en casa es posible que podáis entrenar más rápido o a la misma velocidad que en Colab. En todo caso, la potencia de Colab es más que suficiente para completar este laboratorio con éxito.\n",
    "\n",
    "<center><img src=\"https://upload.wikimedia.org/wikipedia/commons/d/d8/El_ingenioso_hidalgo_don_Quijote_de_la_Mancha.jpg\" style=\"text-align: center\" height=\"300px\"></center>\n",
    "\n",
    "El dataset a utilizar consistirá en un archivo de texto con el contenido íntegro en castellano antiguo de El Ingenioso Hidalgo Don Quijote de la Mancha, disponible de manera libre en la página de [Project Gutenberg](https://www.gutenberg.org). Asimismo, como apartado optativo en este laboratorio se pueden utilizar otras fuentes de texto. Aquí podéis descargar los datos a utilizar de El Quijote y un par de obras adicionales:\n",
    "\n",
    "[El ingenioso hidalgo Don Quijote de la Mancha (Miguel de Cervantes)](https://onedrive.live.com/download?cid=C506CF0A4F373B0F&resid=C506CF0A4F373B0F%219424&authkey=AH0gb-qSo5Xd7Io)\n",
    "\n",
    "[Compilación de obras teatrales (Calderón de la Barca)](https://onedrive.live.com/download?cid=C506CF0A4F373B0F&resid=C506CF0A4F373B0F%219433&authkey=AKvGD6DC3IRBqmc)\n",
    "\n",
    "[Trafalgar (Benito Pérez Galdós)](https://onedrive.live.com/download?cid=C506CF0A4F373B0F&resid=C506CF0A4F373B0F%219434&authkey=AErPCAtMKOI5tYQ)\n",
    "\n",
    "Como ya deberíamos de estar acostumbrados en problemas de Machine Learning, es importante echar un vistazo a los datos antes de empezar."
   ]
  },
  {
   "cell_type": "markdown",
   "metadata": {
    "colab_type": "text",
    "id": "QI274F8LQC59"
   },
   "source": [
    "## 1. Carga y procesado del texto"
   ]
  },
  {
   "cell_type": "markdown",
   "metadata": {
    "colab_type": "text",
    "id": "MZNnzvXuqVVm"
   },
   "source": [
    "Primero, vamos a descargar el libro e inspeccionar los datos. El fichero a descargar es una versión en .txt del libro de Don Quijote, a la cual se le han borrado introducciones, licencias y otras secciones para dejarlo con el contenido real de la novela."
   ]
  },
  {
   "cell_type": "code",
   "execution_count": 1,
   "metadata": {
    "colab": {},
    "colab_type": "code",
    "collapsed": false,
    "id": "D7tKOZ9BFfki"
   },
   "outputs": [
    {
     "name": "stderr",
     "output_type": "stream",
     "text": [
      "Using TensorFlow backend.\n"
     ]
    }
   ],
   "source": [
    "import numpy as np \n",
    "import keras\n",
    "from keras.utils import to_categorical\n",
    "import matplotlib.pyplot as plt\n",
    "from keras.callbacks import LambdaCallback\n",
    "from keras.models import Sequential\n",
    "from keras.layers import Dense\n",
    "from keras.layers import LSTM\n",
    "import random\n",
    "import io\n",
    "\n",
    "path = keras.utils.get_file(\n",
    "    fname=\"don_quijote.txt\", \n",
    "    origin=\"https://onedrive.live.com/download?cid=C506CF0A4F373B0F&resid=C506CF0A4F373B0F%219424&authkey=AH0gb-qSo5Xd7Io\"\n",
    ")"
   ]
  },
  {
   "cell_type": "markdown",
   "metadata": {
    "colab_type": "text",
    "id": "VYGLvjLXrUUd"
   },
   "source": [
    "Una vez descargado, vamos a leer el contenido del fichero en una variable. Adicionalmente, convertiremos el contenido del texto a minúsculas para ponérselo un poco más fácil a nuestro modelo (de modo que todas las letras sean minúsculas y el modelo no necesite diferenciar entre minúsculas y mayúsculas).\n",
    "\n",
    "**1.1.** Leer todo el contenido del fichero en una única variable ***text*** y convertir el string a minúsculas"
   ]
  },
  {
   "cell_type": "code",
   "execution_count": 2,
   "metadata": {
    "colab": {},
    "colab_type": "code",
    "collapsed": true,
    "id": "8WB6FejrrTu9"
   },
   "outputs": [],
   "source": [
    "text = open(path,encoding='UTF-8').read().lower()\n"
   ]
  },
  {
   "cell_type": "markdown",
   "metadata": {
    "colab_type": "text",
    "id": "dkgGl8GWtUk8"
   },
   "source": [
    "Podemos comprobar ahora que efectivamente nuestra variable contiene el resultado deseado, con el comienzo tan característico del Quijote."
   ]
  },
  {
   "cell_type": "code",
   "execution_count": 3,
   "metadata": {
    "colab": {},
    "colab_type": "code",
    "collapsed": false,
    "id": "hMFhe3COFwSD"
   },
   "outputs": [
    {
     "name": "stdout",
     "output_type": "stream",
     "text": [
      "Longitud del texto: 2071198\n",
      "capítulo primero. que trata de la condición y ejercicio del famoso hidalgo\n",
      "don quijote de la mancha\n",
      "\n",
      "\n",
      "en un lugar de la mancha, de cuyo nombre no quiero acordarme, no ha mucho\n",
      "tiempo que vivía un hidalgo de los de lanza en astillero, adarga antigua,\n",
      "rocín flaco y galgo corredor. una olla de algo más\n"
     ]
    }
   ],
   "source": [
    "print(\"Longitud del texto: {}\".format(len(text)))\n",
    "print(text[0:300])"
   ]
  },
  {
   "cell_type": "code",
   "execution_count": 4,
   "metadata": {
    "collapsed": true
   },
   "outputs": [],
   "source": [
    "test = text[0:300]\n",
    "text = text[300:]"
   ]
  },
  {
   "cell_type": "markdown",
   "metadata": {
    "colab_type": "text",
    "id": "bZ7TUXWiyvOj"
   },
   "source": [
    "## 2. Procesado de los datos"
   ]
  },
  {
   "cell_type": "markdown",
   "metadata": {
    "colab_type": "text",
    "id": "x66_Vi_Gyxns"
   },
   "source": [
    "Una de las grandes ventajas de trabajar con modelos que utilizan caracteres en vez de palabras es que no necesitamos tokenizar el texto (partirlo palabra a palabra). Nuestro modelo funcionará directamente con los caracteres en el texto, incluyendo espacios, saltos de línea, etc.\n",
    "\n",
    "Antes de hacer nada, necesitamos procesar el texto en entradas y salidas compatibles con nuestro modelo. Como sabemos, un modelo del lenguaje con RNNs acepta una serie de caracteres y predice el siguiente carácter en la secuencia.\n",
    "\n",
    "* \"*El ingenioso don Qui*\" -> predicción: **j**\n",
    "* \"*El ingenioso don Quij*\" -> predicción: **o**\n",
    "\n",
    "De modo que la entrada y la salida de nuestro modelo necesita ser algo parecido a este esquema. En este punto, podríamos usar dos formas de preparar los datos para nuestro modelo.\n",
    "\n",
    "1. **Secuencia a secuencia**. La entrada de nuestro modelo sería una secuencia y la salida sería esa secuencia trasladada un caracter a la derecha, de modo que en cada instante de tiempo la RNN tiene que predecir el carácter siguiente. Por ejemplo:\n",
    "\n",
    ">* *Input*:   El ingenioso don Quijot \n",
    ">* *Output*: l ingenioso don Quijote\n",
    "\n",
    "2. **Secuencia a carácter**. En este variante, pasaríamos una secuencia de caracteres por nuestra RNN y, al llegar al final de la secuencia, predeciríamos el siguiente carácter.\n",
    "\n",
    ">* *Input*:   El ingenioso don Quijot \n",
    ">* *Output*: e\n",
    "\n",
    "En este laboratorio, por simplicidad, vamos a utilizar la segunda variante.\n",
    "\n",
    "De este modo, a partir del texto, hemos de generar nuestro propio training data que consista en secuencias de caracteres con el siguiente carácter a predecir. Para estandarizar las cosas, utilizaremos secuencias de tamaño *SEQ_LENGTH* caracteres (un hiperparámetro que podemos elegir nosotros).\n",
    "\n"
   ]
  },
  {
   "cell_type": "markdown",
   "metadata": {
    "colab_type": "text",
    "id": "mkfJUIxW5m5C"
   },
   "source": [
    "#### 2.1. Obtención de los caracteres y mapas de caracteres\n",
    "\n",
    "Antes que nada, necesitamos saber qué caracteres aparecen en el texto, ya que tendremos que diferenciarlos mediante un índice de 0 a *num_chars* - 1 en el modelo. Obtener:\n",
    " \n",
    "\n",
    "1.   Número de caracteres únicos que aparecen en el texto.\n",
    "2.   Diccionario que asocia char a índice único entre 0 y *num_chars* - 1. Por ejemplo, {'a': 0, 'b': 1, ...}\n",
    "3.   Diccionario reverso de índices a caracteres: {0: 'a', 1: 'b', ...}\n"
   ]
  },
  {
   "cell_type": "code",
   "execution_count": 5,
   "metadata": {
    "colab": {},
    "colab_type": "code",
    "collapsed": true,
    "id": "5bJ0NsbCbupF"
   },
   "outputs": [],
   "source": [
    "unique_characters = set()\n",
    "for sequence in text:\n",
    "    for character in sequence:\n",
    "        unique_characters.add(character)\n",
    "        \n",
    "\n",
    "ids = range(len(unique_characters))\n",
    "char_index_dict = dict(zip(unique_characters, list(ids)))\n",
    "index_char_dict = dict(zip(list(ids),unique_characters))\n"
   ]
  },
  {
   "cell_type": "markdown",
   "metadata": {
    "colab_type": "text",
    "id": "Y_B4AWo0ElwA"
   },
   "source": [
    "#### 2.2. Obtención de secuencias de entrada y carácter a predecir\n",
    "\n",
    "Ahora, vamos a obtener las secuencias de entrada en formato texto y los correspondientes caracteres a predecir. Para ello, recorrer el texto completo leído anteriormente, obteniendo una secuencia de SEQ_LENGTH caracteres y el siguiente caracter a predecir. Una vez hecho, desplazarse un carácter a la izquierda y hacer lo mismo para obtener una nueva secuencia y predicción. Guardar las secuencias en una variable ***sequences*** y los caracteres a predecir en una variable ***next_chars***.\n",
    "\n",
    "Por ejemplo, si el texto fuera \"Don Quijote\" y SEQ_LENGTH fuese 5, tendríamos\n",
    "\n",
    "* *sequences* = [\"Don Q\", \"on Qu\", \"n Qui\", \" Quij\", \"Quijo\", \"uijot\"]\n",
    "* *next_chars* = ['u', 'i', 'j', 'o', 't', 'e']"
   ]
  },
  {
   "cell_type": "code",
   "execution_count": 6,
   "metadata": {
    "colab": {},
    "colab_type": "code",
    "collapsed": true,
    "id": "NslxhnnDK6uA"
   },
   "outputs": [],
   "source": [
    "# Definimos el tamaño de las secuencias. Puedes dejar este valor por defecto.\n",
    "SEQ_LENGTH = 30\n",
    "\n",
    "sequences = []\n",
    "next_chars = []\n",
    "\n",
    "# NOTE: is this a bug? But full_sequence has to be 31 of length, not 30!\n",
    "full_sequence = [text[i:i+j+1] for i in range(len(text)-SEQ_LENGTH) for j in range(SEQ_LENGTH,SEQ_LENGTH+1)]\n",
    "\n",
    "for sequence in full_sequence:\n",
    "    sequences.append(sequence[:-1])\n",
    "    next_chars.append(sequence[-1])\n"
   ]
  },
  {
   "cell_type": "markdown",
   "metadata": {
    "colab_type": "text",
    "id": "1Y3AmjYtHdLJ"
   },
   "source": [
    "Indicar el tamaño del training set que acabamos de generar."
   ]
  },
  {
   "cell_type": "code",
   "execution_count": 7,
   "metadata": {
    "colab": {},
    "colab_type": "code",
    "collapsed": false,
    "id": "WVWqKxFcbwTu"
   },
   "outputs": [
    {
     "data": {
      "text/plain": [
       "2070868"
      ]
     },
     "execution_count": 7,
     "metadata": {},
     "output_type": "execute_result"
    }
   ],
   "source": [
    "len(sequences)"
   ]
  },
  {
   "cell_type": "markdown",
   "metadata": {
    "colab_type": "text",
    "id": "goGQkKcwpLRJ"
   },
   "source": [
    "Como el Quijote es muy largo y tenemos muchas secuencias, podríamos encontrar problemas de memoria. Por ello, vamos a elegir un número máximo de ellas. Si estás corriendo esto localmente y tienes problemas de memoria, puedes reducir el tamaño aún más, pero ten cuidado porque, a menos datos, peor calidad del modelo."
   ]
  },
  {
   "cell_type": "code",
   "execution_count": 8,
   "metadata": {
    "colab": {},
    "colab_type": "code",
    "collapsed": false,
    "id": "2pm1Q19ppw8F"
   },
   "outputs": [
    {
     "name": "stdout",
     "output_type": "stream",
     "text": [
      "100000\n"
     ]
    }
   ],
   "source": [
    "MAX_SEQUENCES = len(sequences)\n",
    "MAX_SEQUENCES = 500000\n",
    "MAX_SEQUENCES = 100000\n",
    "#MAX_SEQUENCES = 500\n",
    "\n",
    "perm = np.random.permutation(len(sequences))\n",
    "sequences_short, next_chars_short = np.array(sequences), np.array(next_chars)\n",
    "sequences_short, next_chars_short = sequences_short[perm], next_chars_short[perm]\n",
    "sequences_short, next_chars_short = list(sequences_short[:MAX_SEQUENCES]), list(next_chars_short[:MAX_SEQUENCES])\n",
    "\n",
    "print(len(sequences_short))"
   ]
  },
  {
   "cell_type": "markdown",
   "metadata": {
    "colab_type": "text",
    "id": "4FzgtAbPIs6f"
   },
   "source": [
    "#### 2.3. Obtención de input X y output y para el modelo\n",
    "\n",
    "Finalmente, a partir de los datos de entrenamiento que hemos generado vamos a crear los arrays de datos X e y que pasaremos a nuestro modelo.\n",
    "\n",
    "Para ello, vamos a utilizar *one-hot encoding* para nuestros caracteres. Por ejemplo, si sólo tuviéramos 4 caracteres (a, b, c, d), las representaciones serían: (1, 0, 0, 0), (0, 1, 0, 0), (0, 0, 1, 0) y (0, 0, 0, 1).\n",
    "\n",
    "De este modo, **X** tendrá shape *(num_sequences, seq_length, num_chars)* e  **y**  tendrá shape _(num_sequences, num_chars)_. \n",
    "\n"
   ]
  },
  {
   "cell_type": "code",
   "execution_count": 9,
   "metadata": {
    "colab": {},
    "colab_type": "code",
    "collapsed": false,
    "id": "zMBwZ9obNGNg"
   },
   "outputs": [],
   "source": [
    "NUM_CHARS = len(unique_characters)  # Tu número de caracteres distintos aquí\n",
    "NUM_SEQUENCES = len(sequences_short)\n",
    "X = np.zeros((NUM_SEQUENCES, SEQ_LENGTH, NUM_CHARS))\n",
    "y = np.zeros((NUM_SEQUENCES, NUM_CHARS))\n",
    "\n",
    "\n",
    "## Tu código para rellenar X e y aquí. Pista: utilizar el diccionario de\n",
    "## chars a índices obtenido anteriormente junto con numpy. Por ejemplo,\n",
    "## si hacemos \n",
    "##     X[0, 1, char_to_indices['a']] = 1\n",
    "## estamos diciendo que para la segunda posición de la primera secuencia se\n",
    "## tiene una 'a'\n",
    "\n",
    "# Map each unique character to a one hot encoded array\n",
    "one_hot = to_categorical(ids)\n",
    "char_one_hot_dict = dict(zip(unique_characters, list(one_hot)))\n",
    "\n",
    "for i, character in enumerate(next_chars_short):\n",
    "    y[i] = char_one_hot_dict[character]\n",
    "    \n",
    "for i, sequence in enumerate(sequences_short):\n",
    "    for j, character in enumerate(sequence):\n",
    "        X[i][j] = char_one_hot_dict[character]"
   ]
  },
  {
   "cell_type": "code",
   "execution_count": 10,
   "metadata": {
    "collapsed": true
   },
   "outputs": [],
   "source": [
    "def encode_text(text, encoding):\n",
    "    \"\"\"\n",
    "    Helper function that encodes given text using encoding (like embedding)\n",
    "    \"\"\"\n",
    "    enc = []\n",
    "    for i, char in enumerate(text):\n",
    "        enc.append(encoding[char])\n",
    "    return np.array(enc)"
   ]
  },
  {
   "cell_type": "code",
   "execution_count": 11,
   "metadata": {
    "collapsed": false
   },
   "outputs": [
    {
     "data": {
      "text/plain": [
       "array([[0., 0., 0., ..., 0., 0., 0.],\n",
       "       [0., 0., 0., ..., 0., 0., 0.],\n",
       "       [0., 0., 0., ..., 0., 0., 0.],\n",
       "       ...,\n",
       "       [0., 0., 0., ..., 0., 0., 0.],\n",
       "       [0., 0., 0., ..., 0., 0., 0.],\n",
       "       [0., 0., 0., ..., 0., 0., 0.]])"
      ]
     },
     "execution_count": 11,
     "metadata": {},
     "output_type": "execute_result"
    }
   ],
   "source": [
    "encode_text(sequences_short[0], char_one_hot_dict)"
   ]
  },
  {
   "cell_type": "markdown",
   "metadata": {
    "colab_type": "text",
    "id": "IxeUxz3HPm3l"
   },
   "source": [
    "## 3. Definición del modelo y entrenamiento\n",
    "\n",
    "Una vez tenemos ya todo preparado, es hora de definir el modelo. Define un modelo que utilice una **LSTM** con **128 unidades internas**. Si bien el modelo puede definirse de una manera más compleja, para empezar debería bastar con una LSTM más una capa Dense con el *softmax* que predice el siguiente caracter a producir. Adam puede ser una buena elección de optimizador.\n",
    "\n",
    "Una vez el modelo esté definido, entrénalo un poco para asegurarte de que la loss es decreciente. No es necesario guardar la salida de este entrenamiento en el entregable final, ya que vamos a hacer el entrenamiento más informativo en el siguiente punto."
   ]
  },
  {
   "cell_type": "code",
   "execution_count": 22,
   "metadata": {
    "colab": {},
    "colab_type": "code",
    "collapsed": true,
    "id": "MSw2j0btYWZs"
   },
   "outputs": [],
   "source": [
    "from matplotlib import pyplot as plt\n",
    "\n",
    "def plot_acc(history, title=\"Model Accuracy\", ax=None):\n",
    "    \"\"\"Imprime una gráfica mostrando la accuracy por epoch obtenida en un entrenamiento\"\"\"\n",
    "    if ax is None:\n",
    "        fig, ax = plt.subplots(nrows=1, ncols=1)        \n",
    "    ax.plot(history.history['acc'])\n",
    "    ax.plot(history.history['val_acc'])\n",
    "    ax.set_title(title)\n",
    "    ax.set_ylabel('Accuracy')\n",
    "    ax.set_xlabel('Epoch')\n",
    "    ax.legend(['Train', 'Val'], loc='upper left')\n",
    "    \n",
    "def plot_loss(history, title=\"Model Loss\", ax=None):\n",
    "    \"\"\"Imprime una gráfica mostrando la pérdida por epoch obtenida en un entrenamiento\"\"\"\n",
    "    if ax is None:\n",
    "        fig, ax = plt.subplots(nrows=1, ncols=1)  \n",
    "    ax.plot(history.history['loss'])\n",
    "    ax.plot(history.history['val_loss'])\n",
    "    ax.set_title(title)\n",
    "    ax.set_ylabel('Loss')\n",
    "    ax.set_xlabel('Epoch')\n",
    "    ax.legend(['Train', 'Val'], loc='upper right')\n",
    "\n",
    "def plot_training(history):\n",
    "    # Print learning progress\n",
    "    fig, axs = plt.subplots(nrows=1, ncols=2, figsize=(10, 5))  \n",
    "    plot_acc(history=history, ax=axs[0])\n",
    "    plot_loss(history=history, ax=axs[1])\n",
    "    fig.suptitle('Training Progress')"
   ]
  },
  {
   "cell_type": "code",
   "execution_count": 13,
   "metadata": {
    "collapsed": false
   },
   "outputs": [],
   "source": [
    "import keras\n",
    "from keras.models import Sequential\n",
    "from keras.layers import Dense, Dropout\n",
    "from keras.callbacks import EarlyStopping, ModelCheckpoint\n",
    "from keras.layers import LSTM, Bidirectional\n",
    "from keras import regularizers\n",
    "\n",
    "NUM_CLASSES = NUM_CHARS\n",
    "INPUT_SHAPE = X[0].shape"
   ]
  },
  {
   "cell_type": "code",
   "execution_count": 14,
   "metadata": {
    "collapsed": false
   },
   "outputs": [
    {
     "name": "stdout",
     "output_type": "stream",
     "text": [
      "_________________________________________________________________\n",
      "Layer (type)                 Output Shape              Param #   \n",
      "=================================================================\n",
      "bidirectional_1 (Bidirection (None, 128)               64512     \n",
      "_________________________________________________________________\n",
      "dense_1 (Dense)              (None, 61)                7869      \n",
      "=================================================================\n",
      "Total params: 72,381\n",
      "Trainable params: 72,381\n",
      "Non-trainable params: 0\n",
      "_________________________________________________________________\n"
     ]
    }
   ],
   "source": [
    "# Add early stopping and only storing the best model\n",
    "callbacks = [EarlyStopping(monitor='val_loss', patience=4, min_delta=0.02),\n",
    "             ModelCheckpoint('weights-best.hdf5', monitor='val_acc', verbose=1, save_best_only=True, mode='auto'),\n",
    "            ]\n",
    "\n",
    "\n",
    "#regularizer=regularizers.l2(0.01)\n",
    "\n",
    "model = Sequential()\n",
    "#model.add(Embedding(len(word_index)+1, EMBEDDING_DIM, weights=[embedding_matrix], input_length=TEXT_LEN, trainable=False))\n",
    "#model.add(Dropout(0.2))\n",
    "model.add(Bidirectional(LSTM(64), input_shape=INPUT_SHAPE))\n",
    "#model.add(Dense(64, activation='relu', kernel_regularizer=regularizer))\n",
    "model.add(Dense(NUM_CLASSES, activation='softmax'))\n",
    "\n",
    "model.summary()"
   ]
  },
  {
   "cell_type": "code",
   "execution_count": 15,
   "metadata": {
    "collapsed": false
   },
   "outputs": [
    {
     "name": "stdout",
     "output_type": "stream",
     "text": [
      "Train on 80000 samples, validate on 20000 samples\n",
      "Epoch 1/3\n",
      "80000/80000 [==============================] - 40s 494us/step - loss: 2.5650 - acc: 0.2711 - val_loss: 2.2446 - val_acc: 0.3281\n",
      "\n",
      "Epoch 00001: val_acc improved from -inf to 0.32805, saving model to weights-best.hdf5\n",
      "Epoch 2/3\n",
      "80000/80000 [==============================] - 39s 492us/step - loss: 2.1631 - acc: 0.3480 - val_loss: 2.0972 - val_acc: 0.3543\n",
      "\n",
      "Epoch 00002: val_acc improved from 0.32805 to 0.35430, saving model to weights-best.hdf5\n",
      "Epoch 3/3\n",
      "80000/80000 [==============================] - 39s 491us/step - loss: 2.0561 - acc: 0.3751 - val_loss: 2.0239 - val_acc: 0.3782\n",
      "\n",
      "Epoch 00003: val_acc improved from 0.35430 to 0.37820, saving model to weights-best.hdf5\n",
      "CPU times: user 8min 49s, sys: 1min 55s, total: 10min 44s\n",
      "Wall time: 1min 59s\n"
     ]
    },
    {
     "data": {
      "image/png": "[encoded data removed]",
      "text/plain": [
       "<Figure size 720x360 with 2 Axes>"
      ]
     },
     "metadata": {},
     "output_type": "display_data"
    }
   ],
   "source": [
    "model = model\n",
    "model.compile(loss=keras.losses.categorical_crossentropy,\n",
    "              optimizer=keras.optimizers.Adam(),\n",
    "              metrics=['accuracy'])\n",
    "\n",
    "%time history = model.fit(X, y, batch_size=64, epochs=3, verbose=1, validation_split=0.2, callbacks=callbacks)\n",
    "plot_training(history)\n",
    "plt.show()"
   ]
  },
  {
   "cell_type": "markdown",
   "metadata": {
    "colab_type": "text",
    "id": "3yUFHS4kHkyY"
   },
   "source": [
    "Para ver cómo evoluciona nuestro modelo del lenguaje, vamos a generar texto según va entrenando. Para ello, vamos a programar una función que, utilizando el modelo en su estado actual, genere texto, con la idea de ver cómo se va generando texto al entrenar cada epoch.\n",
    "\n",
    "En el código de abajo podemos ver una función auxiliar para obtener valores de una distribución multinomial. Esta función se usará para muestrear el siguiente carácter a utilizar según las probabilidades de la salida de softmax (en vez de tomar directamente el valor con la máxima probabilidad, obtenemos un valor aleatorio según la distribución de probabilidad dada por softmax, de modo que nuestros resultados serán más diversos, pero seguirán teniendo \"sentido\" ya que el modelo tenderá a seleccionar valores con más probabilidad).\n",
    "\n"
   ]
  },
  {
   "cell_type": "code",
   "execution_count": 20,
   "metadata": {
    "colab": {},
    "colab_type": "code",
    "collapsed": true,
    "id": "LoGYpWOHd7Lr"
   },
   "outputs": [],
   "source": [
    "def sample(probs, temperature=1.0):\n",
    "    \"\"\"Nos da el índice del elemento a elegir según la distribución\n",
    "    de probabilidad dada por probs.\n",
    "    \n",
    "    Args:\n",
    "      probs es la salida dada por una capa softmax:\n",
    "        probs = model.predict(x_to_predict)[0]\n",
    "      \n",
    "      temperature es un parámetro que nos permite obtener mayor\n",
    "        \"diversidad\" a la hora de obtener resultados. \n",
    "        \n",
    "        temperature = 1 nos da la distribución normal de softmax\n",
    "        0 < temperature < 1 hace que el sampling sea más conservador,\n",
    "          de modo que sampleamos cosas de las que estamos más seguros\n",
    "        temperature > 1 hace que los samplings sean más atrevidos,\n",
    "          eligiendo en más ocasiones clases con baja probabilidad.\n",
    "          Con esto, tenemos mayor diversidad pero se cometen más\n",
    "          errores.\n",
    "    \"\"\"\n",
    "    # Cast a float64 por motivos numéricos\n",
    "    probs = np.asarray(probs).astype('float64')\n",
    "    \n",
    "    # Hacemos logaritmo de probabilidades y aplicamos reducción\n",
    "    # por temperatura.\n",
    "    probs = np.log(probs) / temperature\n",
    "    \n",
    "    # Volvemos a aplicar exponencial y normalizamos de nuevo\n",
    "    exp_probs = np.exp(probs)\n",
    "    probs = exp_probs / np.sum(exp_probs)\n",
    "    \n",
    "    # Hacemos el sampling dadas las nuevas probabilidades\n",
    "    # de salida (ver doc. de np.random.multinomial)\n",
    "    samples = np.random.multinomial(1, probs, 1)\n",
    "    maxidx = np.argmax(samples)\n",
    "    #return min(max(maxidx, 0), len(probs)-1)\n",
    "    return maxidx\n"
   ]
  },
  {
   "cell_type": "markdown",
   "metadata": {
    "colab_type": "text",
    "id": "3fejfZldd4ou"
   },
   "source": [
    "Utilizando la función anterior y el modelo entrenado, vamos a añadir un callback a nuestro modelo para que, según vaya entrenando, veamos los valores que resultan de generar textos con distintas temperaturas al acabar cada epoch.\n",
    "\n",
    "Para ello, abajo tenéis disponible el callback *on_epoch_end*. Esta función elige una secuencia de texto al azar en el texto disponible en la variable\n",
    "text y genera textos de longitud *GENERATED_TEXT_LENGTH* según las temperaturas en *TEMPERATURES_TO_TRY*, utilizando para ello la función *generate_text*.\n",
    "\n",
    "Completa la función *generate_text* de modo que utilicemos el modelo y la función sample para generar texto.\n",
    "\n",
    "NOTA: Cuando hagas model.predict, es aconsejable usar verbose=0 como argumento para evitar que la función imprima valores de salida."
   ]
  },
  {
   "cell_type": "code",
   "execution_count": 18,
   "metadata": {
    "colab": {},
    "colab_type": "code",
    "collapsed": false,
    "id": "xOEZvnBXkODd"
   },
   "outputs": [],
   "source": [
    "TEMPERATURES_TO_TRY = [0.2, 0.5, 1.0, 1.2]\n",
    "GENERATED_TEXT_LENGTH = 300\n",
    "\n",
    "def generate_text(seed_text, model, length, temperature=1):\n",
    "    \"\"\"Genera una secuencia de texto a partir de seed_text utilizando model.\n",
    "    \n",
    "    La secuencia tiene longitud length y el sampling se hace con la temperature\n",
    "    definida.\n",
    "    \"\"\"\n",
    "    \n",
    "    # Aquí guardaremos nuestro texto generado, que incluirá el\n",
    "    # texto origen\n",
    "    generated = seed_text\n",
    "    \n",
    "    # Utilizar el modelo en un bucle de manera que generemos\n",
    "    # carácter a carácter. Habrá que construir los valores de\n",
    "    # X_pred de manera similar a como hemos hecho arriba, salvo que\n",
    "    # aquí sólo se necesita una oración\n",
    "    # Nótese que el x que utilicemos tiene que irse actualizando con\n",
    "    # los caracteres que se van generando. La secuencia de entrada al\n",
    "    # modelo tiene que ser una secuencia de tamaño SEQ_LENGTH que\n",
    "    # incluya el último caracter predicho.\n",
    " \n",
    "    ### TU CÓDIGO AQUÍ\n",
    "    generated = predict_text_bychar(generated, model, GENERATED_TEXT_LENGTH, char_one_hot_dict, index_char_dict)\n",
    "\n",
    "    ### FIN DE TU CÓDIGO\n",
    "    return generated\n",
    "\n",
    "\n",
    "\n",
    "def predict_text_bychar(seed_text, model, length, encoding, decoding):\n",
    "    generated = seed_text\n",
    "    N = len(seed_text)\n",
    "    for i in range(length):\n",
    "        text = generated[-N:]\n",
    "        enc_text = encode_text(text, encoding)\n",
    "        # Reshape encoded text, because model expects (X, SEQ_LENGTH, NUM_CARS)\n",
    "        enc_text = np.reshape(enc_text, (1,) + enc_text.shape)\n",
    "        prediction = model.predict(enc_text)\n",
    "        predicted_char = decoding[sample(prediction[0])]\n",
    "        generated += predicted_char\n",
    "    return generated\n",
    "\n",
    "\n",
    "def on_epoch_end(epoch, logs):\n",
    "  print(\"\\n\\n\\n\")\n",
    "  \n",
    "  # Primero, seleccionamos una secuencia al azar para empezar a predecir\n",
    "  # a partir de ella\n",
    "  start_pos = random.randint(0, len(text) - SEQ_LENGTH - 1)\n",
    "  seed_text = text[start_pos:start_pos + SEQ_LENGTH]\n",
    "  for temperature in TEMPERATURES_TO_TRY:\n",
    "    print(\"------> Epoch: {} - Generando texto con temperature {}\".format(\n",
    "        epoch + 1, temperature))\n",
    "    \n",
    "    generated_text = generate_text(seed_text, model, \n",
    "                                   GENERATED_TEXT_LENGTH, temperature)\n",
    "    print(\"Seed: {}\".format(seed_text))\n",
    "    print(\"Texto generado: {}\".format(generated_text))\n",
    "    print()\n",
    "\n",
    "\n",
    "generation_callback = LambdaCallback(on_epoch_end=on_epoch_end)  "
   ]
  },
  {
   "cell_type": "markdown",
   "metadata": {
    "colab_type": "text",
    "id": "BSMYZ2JdrSJg"
   },
   "source": [
    "Entrena ahora tu modelo. No te olvides de añadir *generation_callback* a la lista de callbacks utilizados en fit(). Ya que las métricas de clasificación no son tan críticas aquí (no nos importa tanto acertar el carácter exacto, sino obtener una distribución de probabilidad adecuada), no es necesario monitorizar la accuracy ni usar validation data, si bien puedes añadirlos para asegurarte de que todo está en orden.\n"
   ]
  },
  {
   "cell_type": "code",
   "execution_count": 20,
   "metadata": {
    "collapsed": false
   },
   "outputs": [
    {
     "name": "stdout",
     "output_type": "stream",
     "text": [
      "Train on 80000 samples, validate on 20000 samples\n",
      "Epoch 1/10\n",
      "80000/80000 [==============================] - 39s 485us/step - loss: 1.8960 - acc: 0.4157 - val_loss: 1.8917 - val_acc: 0.4132\n",
      "\n",
      "Epoch 00001: val_acc improved from -inf to 0.41320, saving model to weights-best.hdf5\n",
      "\n",
      "\n",
      "\n",
      "\n",
      "------> Epoch: 1 - Generando texto con temperature 0.2\n"
     ]
    },
    {
     "ename": "KeyError",
     "evalue": "20",
     "output_type": "error",
     "traceback": [
      "\u001b[0;31m---------------------------------------------------------------------------\u001b[0m",
      "\u001b[0;31mKeyError\u001b[0m                                  Traceback (most recent call last)",
      "\u001b[0;32m<ipython-input-20-31da6e016c64>\u001b[0m in \u001b[0;36m<module>\u001b[0;34m()\u001b[0m\n\u001b[1;32m     10\u001b[0m               metrics=['accuracy'])\n\u001b[1;32m     11\u001b[0m \u001b[0;34m\u001b[0m\u001b[0m\n\u001b[0;32m---> 12\u001b[0;31m \u001b[0mget_ipython\u001b[0m\u001b[0;34m(\u001b[0m\u001b[0;34m)\u001b[0m\u001b[0;34m.\u001b[0m\u001b[0mmagic\u001b[0m\u001b[0;34m(\u001b[0m\u001b[0;34m'time history = model.fit(X, y, batch_size=64, epochs=10, verbose=1, validation_split=0.2, callbacks=callbacks)'\u001b[0m\u001b[0;34m)\u001b[0m\u001b[0;34m\u001b[0m\u001b[0m\n\u001b[0m\u001b[1;32m     13\u001b[0m \u001b[0;34m\u001b[0m\u001b[0m\n\u001b[1;32m     14\u001b[0m \u001b[0mplot_training\u001b[0m\u001b[0;34m(\u001b[0m\u001b[0mhistory\u001b[0m\u001b[0;34m)\u001b[0m\u001b[0;34m\u001b[0m\u001b[0m\n",
      "\u001b[0;32m/Users/manuel.pasieka/anaconda3/envs/py3/lib/python3.6/site-packages/IPython/core/interactiveshell.py\u001b[0m in \u001b[0;36mmagic\u001b[0;34m(self, arg_s)\u001b[0m\n\u001b[1;32m   2158\u001b[0m         \u001b[0mmagic_name\u001b[0m\u001b[0;34m,\u001b[0m \u001b[0m_\u001b[0m\u001b[0;34m,\u001b[0m \u001b[0mmagic_arg_s\u001b[0m \u001b[0;34m=\u001b[0m \u001b[0marg_s\u001b[0m\u001b[0;34m.\u001b[0m\u001b[0mpartition\u001b[0m\u001b[0;34m(\u001b[0m\u001b[0;34m' '\u001b[0m\u001b[0;34m)\u001b[0m\u001b[0;34m\u001b[0m\u001b[0m\n\u001b[1;32m   2159\u001b[0m         \u001b[0mmagic_name\u001b[0m \u001b[0;34m=\u001b[0m \u001b[0mmagic_name\u001b[0m\u001b[0;34m.\u001b[0m\u001b[0mlstrip\u001b[0m\u001b[0;34m(\u001b[0m\u001b[0mprefilter\u001b[0m\u001b[0;34m.\u001b[0m\u001b[0mESC_MAGIC\u001b[0m\u001b[0;34m)\u001b[0m\u001b[0;34m\u001b[0m\u001b[0m\n\u001b[0;32m-> 2160\u001b[0;31m         \u001b[0;32mreturn\u001b[0m \u001b[0mself\u001b[0m\u001b[0;34m.\u001b[0m\u001b[0mrun_line_magic\u001b[0m\u001b[0;34m(\u001b[0m\u001b[0mmagic_name\u001b[0m\u001b[0;34m,\u001b[0m \u001b[0mmagic_arg_s\u001b[0m\u001b[0;34m)\u001b[0m\u001b[0;34m\u001b[0m\u001b[0m\n\u001b[0m\u001b[1;32m   2161\u001b[0m \u001b[0;34m\u001b[0m\u001b[0m\n\u001b[1;32m   2162\u001b[0m     \u001b[0;31m#-------------------------------------------------------------------------\u001b[0m\u001b[0;34m\u001b[0m\u001b[0;34m\u001b[0m\u001b[0m\n",
      "\u001b[0;32m/Users/manuel.pasieka/anaconda3/envs/py3/lib/python3.6/site-packages/IPython/core/interactiveshell.py\u001b[0m in \u001b[0;36mrun_line_magic\u001b[0;34m(self, magic_name, line)\u001b[0m\n\u001b[1;32m   2079\u001b[0m                 \u001b[0mkwargs\u001b[0m\u001b[0;34m[\u001b[0m\u001b[0;34m'local_ns'\u001b[0m\u001b[0;34m]\u001b[0m \u001b[0;34m=\u001b[0m \u001b[0msys\u001b[0m\u001b[0;34m.\u001b[0m\u001b[0m_getframe\u001b[0m\u001b[0;34m(\u001b[0m\u001b[0mstack_depth\u001b[0m\u001b[0;34m)\u001b[0m\u001b[0;34m.\u001b[0m\u001b[0mf_locals\u001b[0m\u001b[0;34m\u001b[0m\u001b[0m\n\u001b[1;32m   2080\u001b[0m             \u001b[0;32mwith\u001b[0m \u001b[0mself\u001b[0m\u001b[0;34m.\u001b[0m\u001b[0mbuiltin_trap\u001b[0m\u001b[0;34m:\u001b[0m\u001b[0;34m\u001b[0m\u001b[0m\n\u001b[0;32m-> 2081\u001b[0;31m                 \u001b[0mresult\u001b[0m \u001b[0;34m=\u001b[0m \u001b[0mfn\u001b[0m\u001b[0;34m(\u001b[0m\u001b[0;34m*\u001b[0m\u001b[0margs\u001b[0m\u001b[0;34m,\u001b[0m\u001b[0;34m**\u001b[0m\u001b[0mkwargs\u001b[0m\u001b[0;34m)\u001b[0m\u001b[0;34m\u001b[0m\u001b[0m\n\u001b[0m\u001b[1;32m   2082\u001b[0m             \u001b[0;32mreturn\u001b[0m \u001b[0mresult\u001b[0m\u001b[0;34m\u001b[0m\u001b[0m\n\u001b[1;32m   2083\u001b[0m \u001b[0;34m\u001b[0m\u001b[0m\n",
      "\u001b[0;32m<decorator-gen-60>\u001b[0m in \u001b[0;36mtime\u001b[0;34m(self, line, cell, local_ns)\u001b[0m\n",
      "\u001b[0;32m/Users/manuel.pasieka/anaconda3/envs/py3/lib/python3.6/site-packages/IPython/core/magic.py\u001b[0m in \u001b[0;36m<lambda>\u001b[0;34m(f, *a, **k)\u001b[0m\n\u001b[1;32m    186\u001b[0m     \u001b[0;31m# but it's overkill for just that one bit of state.\u001b[0m\u001b[0;34m\u001b[0m\u001b[0;34m\u001b[0m\u001b[0m\n\u001b[1;32m    187\u001b[0m     \u001b[0;32mdef\u001b[0m \u001b[0mmagic_deco\u001b[0m\u001b[0;34m(\u001b[0m\u001b[0marg\u001b[0m\u001b[0;34m)\u001b[0m\u001b[0;34m:\u001b[0m\u001b[0;34m\u001b[0m\u001b[0m\n\u001b[0;32m--> 188\u001b[0;31m         \u001b[0mcall\u001b[0m \u001b[0;34m=\u001b[0m \u001b[0;32mlambda\u001b[0m \u001b[0mf\u001b[0m\u001b[0;34m,\u001b[0m \u001b[0;34m*\u001b[0m\u001b[0ma\u001b[0m\u001b[0;34m,\u001b[0m \u001b[0;34m**\u001b[0m\u001b[0mk\u001b[0m\u001b[0;34m:\u001b[0m \u001b[0mf\u001b[0m\u001b[0;34m(\u001b[0m\u001b[0;34m*\u001b[0m\u001b[0ma\u001b[0m\u001b[0;34m,\u001b[0m \u001b[0;34m**\u001b[0m\u001b[0mk\u001b[0m\u001b[0;34m)\u001b[0m\u001b[0;34m\u001b[0m\u001b[0m\n\u001b[0m\u001b[1;32m    189\u001b[0m \u001b[0;34m\u001b[0m\u001b[0m\n\u001b[1;32m    190\u001b[0m         \u001b[0;32mif\u001b[0m \u001b[0mcallable\u001b[0m\u001b[0;34m(\u001b[0m\u001b[0marg\u001b[0m\u001b[0;34m)\u001b[0m\u001b[0;34m:\u001b[0m\u001b[0;34m\u001b[0m\u001b[0m\n",
      "\u001b[0;32m/Users/manuel.pasieka/anaconda3/envs/py3/lib/python3.6/site-packages/IPython/core/magics/execution.py\u001b[0m in \u001b[0;36mtime\u001b[0;34m(self, line, cell, local_ns)\u001b[0m\n\u001b[1;32m   1191\u001b[0m         \u001b[0;32melse\u001b[0m\u001b[0;34m:\u001b[0m\u001b[0;34m\u001b[0m\u001b[0m\n\u001b[1;32m   1192\u001b[0m             \u001b[0mst\u001b[0m \u001b[0;34m=\u001b[0m \u001b[0mclock2\u001b[0m\u001b[0;34m(\u001b[0m\u001b[0;34m)\u001b[0m\u001b[0;34m\u001b[0m\u001b[0m\n\u001b[0;32m-> 1193\u001b[0;31m             \u001b[0mexec\u001b[0m\u001b[0;34m(\u001b[0m\u001b[0mcode\u001b[0m\u001b[0;34m,\u001b[0m \u001b[0mglob\u001b[0m\u001b[0;34m,\u001b[0m \u001b[0mlocal_ns\u001b[0m\u001b[0;34m)\u001b[0m\u001b[0;34m\u001b[0m\u001b[0m\n\u001b[0m\u001b[1;32m   1194\u001b[0m             \u001b[0mend\u001b[0m \u001b[0;34m=\u001b[0m \u001b[0mclock2\u001b[0m\u001b[0;34m(\u001b[0m\u001b[0;34m)\u001b[0m\u001b[0;34m\u001b[0m\u001b[0m\n\u001b[1;32m   1195\u001b[0m             \u001b[0mout\u001b[0m \u001b[0;34m=\u001b[0m \u001b[0;32mNone\u001b[0m\u001b[0;34m\u001b[0m\u001b[0m\n",
      "\u001b[0;32m<timed exec>\u001b[0m in \u001b[0;36m<module>\u001b[0;34m()\u001b[0m\n",
      "\u001b[0;32m/Users/manuel.pasieka/anaconda3/envs/py3/lib/python3.6/site-packages/keras/models.py\u001b[0m in \u001b[0;36mfit\u001b[0;34m(self, x, y, batch_size, epochs, verbose, callbacks, validation_split, validation_data, shuffle, class_weight, sample_weight, initial_epoch, steps_per_epoch, validation_steps, **kwargs)\u001b[0m\n\u001b[1;32m    961\u001b[0m                               \u001b[0minitial_epoch\u001b[0m\u001b[0;34m=\u001b[0m\u001b[0minitial_epoch\u001b[0m\u001b[0;34m,\u001b[0m\u001b[0;34m\u001b[0m\u001b[0m\n\u001b[1;32m    962\u001b[0m                               \u001b[0msteps_per_epoch\u001b[0m\u001b[0;34m=\u001b[0m\u001b[0msteps_per_epoch\u001b[0m\u001b[0;34m,\u001b[0m\u001b[0;34m\u001b[0m\u001b[0m\n\u001b[0;32m--> 963\u001b[0;31m                               validation_steps=validation_steps)\n\u001b[0m\u001b[1;32m    964\u001b[0m \u001b[0;34m\u001b[0m\u001b[0m\n\u001b[1;32m    965\u001b[0m     def evaluate(self, x=None, y=None,\n",
      "\u001b[0;32m/Users/manuel.pasieka/anaconda3/envs/py3/lib/python3.6/site-packages/keras/engine/training.py\u001b[0m in \u001b[0;36mfit\u001b[0;34m(self, x, y, batch_size, epochs, verbose, callbacks, validation_split, validation_data, shuffle, class_weight, sample_weight, initial_epoch, steps_per_epoch, validation_steps, **kwargs)\u001b[0m\n\u001b[1;32m   1703\u001b[0m                               \u001b[0minitial_epoch\u001b[0m\u001b[0;34m=\u001b[0m\u001b[0minitial_epoch\u001b[0m\u001b[0;34m,\u001b[0m\u001b[0;34m\u001b[0m\u001b[0m\n\u001b[1;32m   1704\u001b[0m                               \u001b[0msteps_per_epoch\u001b[0m\u001b[0;34m=\u001b[0m\u001b[0msteps_per_epoch\u001b[0m\u001b[0;34m,\u001b[0m\u001b[0;34m\u001b[0m\u001b[0m\n\u001b[0;32m-> 1705\u001b[0;31m                               validation_steps=validation_steps)\n\u001b[0m\u001b[1;32m   1706\u001b[0m \u001b[0;34m\u001b[0m\u001b[0m\n\u001b[1;32m   1707\u001b[0m     def evaluate(self, x=None, y=None,\n",
      "\u001b[0;32m/Users/manuel.pasieka/anaconda3/envs/py3/lib/python3.6/site-packages/keras/engine/training.py\u001b[0m in \u001b[0;36m_fit_loop\u001b[0;34m(self, f, ins, out_labels, batch_size, epochs, verbose, callbacks, val_f, val_ins, shuffle, callback_metrics, initial_epoch, steps_per_epoch, validation_steps)\u001b[0m\n\u001b[1;32m   1253\u001b[0m                             \u001b[0;32mfor\u001b[0m \u001b[0ml\u001b[0m\u001b[0;34m,\u001b[0m \u001b[0mo\u001b[0m \u001b[0;32min\u001b[0m \u001b[0mzip\u001b[0m\u001b[0;34m(\u001b[0m\u001b[0mout_labels\u001b[0m\u001b[0;34m,\u001b[0m \u001b[0mval_outs\u001b[0m\u001b[0;34m)\u001b[0m\u001b[0;34m:\u001b[0m\u001b[0;34m\u001b[0m\u001b[0m\n\u001b[1;32m   1254\u001b[0m                                 \u001b[0mepoch_logs\u001b[0m\u001b[0;34m[\u001b[0m\u001b[0;34m'val_'\u001b[0m \u001b[0;34m+\u001b[0m \u001b[0ml\u001b[0m\u001b[0;34m]\u001b[0m \u001b[0;34m=\u001b[0m \u001b[0mo\u001b[0m\u001b[0;34m\u001b[0m\u001b[0m\n\u001b[0;32m-> 1255\u001b[0;31m             \u001b[0mcallbacks\u001b[0m\u001b[0;34m.\u001b[0m\u001b[0mon_epoch_end\u001b[0m\u001b[0;34m(\u001b[0m\u001b[0mepoch\u001b[0m\u001b[0;34m,\u001b[0m \u001b[0mepoch_logs\u001b[0m\u001b[0;34m)\u001b[0m\u001b[0;34m\u001b[0m\u001b[0m\n\u001b[0m\u001b[1;32m   1256\u001b[0m             \u001b[0;32mif\u001b[0m \u001b[0mcallback_model\u001b[0m\u001b[0;34m.\u001b[0m\u001b[0mstop_training\u001b[0m\u001b[0;34m:\u001b[0m\u001b[0;34m\u001b[0m\u001b[0m\n\u001b[1;32m   1257\u001b[0m                 \u001b[0;32mbreak\u001b[0m\u001b[0;34m\u001b[0m\u001b[0m\n",
      "\u001b[0;32m/Users/manuel.pasieka/anaconda3/envs/py3/lib/python3.6/site-packages/keras/callbacks.py\u001b[0m in \u001b[0;36mon_epoch_end\u001b[0;34m(self, epoch, logs)\u001b[0m\n\u001b[1;32m     75\u001b[0m         \u001b[0mlogs\u001b[0m \u001b[0;34m=\u001b[0m \u001b[0mlogs\u001b[0m \u001b[0;32mor\u001b[0m \u001b[0;34m{\u001b[0m\u001b[0;34m}\u001b[0m\u001b[0;34m\u001b[0m\u001b[0m\n\u001b[1;32m     76\u001b[0m         \u001b[0;32mfor\u001b[0m \u001b[0mcallback\u001b[0m \u001b[0;32min\u001b[0m \u001b[0mself\u001b[0m\u001b[0;34m.\u001b[0m\u001b[0mcallbacks\u001b[0m\u001b[0;34m:\u001b[0m\u001b[0;34m\u001b[0m\u001b[0m\n\u001b[0;32m---> 77\u001b[0;31m             \u001b[0mcallback\u001b[0m\u001b[0;34m.\u001b[0m\u001b[0mon_epoch_end\u001b[0m\u001b[0;34m(\u001b[0m\u001b[0mepoch\u001b[0m\u001b[0;34m,\u001b[0m \u001b[0mlogs\u001b[0m\u001b[0;34m)\u001b[0m\u001b[0;34m\u001b[0m\u001b[0m\n\u001b[0m\u001b[1;32m     78\u001b[0m \u001b[0;34m\u001b[0m\u001b[0m\n\u001b[1;32m     79\u001b[0m     \u001b[0;32mdef\u001b[0m \u001b[0mon_batch_begin\u001b[0m\u001b[0;34m(\u001b[0m\u001b[0mself\u001b[0m\u001b[0;34m,\u001b[0m \u001b[0mbatch\u001b[0m\u001b[0;34m,\u001b[0m \u001b[0mlogs\u001b[0m\u001b[0;34m=\u001b[0m\u001b[0;32mNone\u001b[0m\u001b[0;34m)\u001b[0m\u001b[0;34m:\u001b[0m\u001b[0;34m\u001b[0m\u001b[0m\n",
      "\u001b[0;32m<ipython-input-18-924588374ea7>\u001b[0m in \u001b[0;36mon_epoch_end\u001b[0;34m(epoch, logs)\u001b[0m\n\u001b[1;32m     56\u001b[0m \u001b[0;34m\u001b[0m\u001b[0m\n\u001b[1;32m     57\u001b[0m     generated_text = generate_text(seed_text, model, \n\u001b[0;32m---> 58\u001b[0;31m                                    GENERATED_TEXT_LENGTH, temperature)\n\u001b[0m\u001b[1;32m     59\u001b[0m     \u001b[0mprint\u001b[0m\u001b[0;34m(\u001b[0m\u001b[0;34m\"Seed: {}\"\u001b[0m\u001b[0;34m.\u001b[0m\u001b[0mformat\u001b[0m\u001b[0;34m(\u001b[0m\u001b[0mseed_text\u001b[0m\u001b[0;34m)\u001b[0m\u001b[0;34m)\u001b[0m\u001b[0;34m\u001b[0m\u001b[0m\n\u001b[1;32m     60\u001b[0m     \u001b[0mprint\u001b[0m\u001b[0;34m(\u001b[0m\u001b[0;34m\"Texto generado: {}\"\u001b[0m\u001b[0;34m.\u001b[0m\u001b[0mformat\u001b[0m\u001b[0;34m(\u001b[0m\u001b[0mgenerated_text\u001b[0m\u001b[0;34m)\u001b[0m\u001b[0;34m)\u001b[0m\u001b[0;34m\u001b[0m\u001b[0m\n",
      "\u001b[0;32m<ipython-input-18-924588374ea7>\u001b[0m in \u001b[0;36mgenerate_text\u001b[0;34m(seed_text, model, length, temperature)\u001b[0m\n\u001b[1;32m     23\u001b[0m \u001b[0;34m\u001b[0m\u001b[0m\n\u001b[1;32m     24\u001b[0m     \u001b[0;31m### TU CÓDIGO AQUÍ\u001b[0m\u001b[0;34m\u001b[0m\u001b[0;34m\u001b[0m\u001b[0m\n\u001b[0;32m---> 25\u001b[0;31m     \u001b[0mgenerated\u001b[0m \u001b[0;34m=\u001b[0m \u001b[0mpredict_text_bychar\u001b[0m\u001b[0;34m(\u001b[0m\u001b[0mgenerated\u001b[0m\u001b[0;34m,\u001b[0m \u001b[0mmodel\u001b[0m\u001b[0;34m,\u001b[0m \u001b[0mGENERATED_TEXT_LENGTH\u001b[0m\u001b[0;34m,\u001b[0m \u001b[0mchar_one_hot_dict\u001b[0m\u001b[0;34m)\u001b[0m\u001b[0;34m\u001b[0m\u001b[0m\n\u001b[0m\u001b[1;32m     26\u001b[0m \u001b[0;34m\u001b[0m\u001b[0m\n\u001b[1;32m     27\u001b[0m     \u001b[0;31m### FIN DE TU CÓDIGO\u001b[0m\u001b[0;34m\u001b[0m\u001b[0;34m\u001b[0m\u001b[0m\n",
      "\u001b[0;32m<ipython-input-18-924588374ea7>\u001b[0m in \u001b[0;36mpredict_text_bychar\u001b[0;34m(seed_text, model, length, encoding)\u001b[0m\n\u001b[1;32m     39\u001b[0m         \u001b[0menc_text\u001b[0m \u001b[0;34m=\u001b[0m \u001b[0mnp\u001b[0m\u001b[0;34m.\u001b[0m\u001b[0mreshape\u001b[0m\u001b[0;34m(\u001b[0m\u001b[0menc_text\u001b[0m\u001b[0;34m,\u001b[0m \u001b[0;34m(\u001b[0m\u001b[0;36m1\u001b[0m\u001b[0;34m,\u001b[0m\u001b[0;34m)\u001b[0m \u001b[0;34m+\u001b[0m \u001b[0menc_text\u001b[0m\u001b[0;34m.\u001b[0m\u001b[0mshape\u001b[0m\u001b[0;34m)\u001b[0m\u001b[0;34m\u001b[0m\u001b[0m\n\u001b[1;32m     40\u001b[0m         \u001b[0mprediction\u001b[0m \u001b[0;34m=\u001b[0m \u001b[0mmodel\u001b[0m\u001b[0;34m.\u001b[0m\u001b[0mpredict\u001b[0m\u001b[0;34m(\u001b[0m\u001b[0menc_text\u001b[0m\u001b[0;34m)\u001b[0m\u001b[0;34m\u001b[0m\u001b[0m\n\u001b[0;32m---> 41\u001b[0;31m         \u001b[0mpredicted_char\u001b[0m \u001b[0;34m=\u001b[0m \u001b[0mencoding\u001b[0m\u001b[0;34m[\u001b[0m\u001b[0msample\u001b[0m\u001b[0;34m(\u001b[0m\u001b[0mprediction\u001b[0m\u001b[0;34m[\u001b[0m\u001b[0;36m0\u001b[0m\u001b[0;34m]\u001b[0m\u001b[0;34m)\u001b[0m\u001b[0;34m]\u001b[0m\u001b[0;34m\u001b[0m\u001b[0m\n\u001b[0m\u001b[1;32m     42\u001b[0m         \u001b[0mgenerated\u001b[0m \u001b[0;34m+=\u001b[0m \u001b[0mpredicted_char\u001b[0m\u001b[0;34m\u001b[0m\u001b[0m\n\u001b[1;32m     43\u001b[0m     \u001b[0;32mreturn\u001b[0m \u001b[0mgenerated\u001b[0m\u001b[0;34m\u001b[0m\u001b[0m\n",
      "\u001b[0;31mKeyError\u001b[0m: 20"
     ]
    }
   ],
   "source": [
    "# Add early stopping and only storing the best model\n",
    "callbacks = [EarlyStopping(monitor='val_loss', patience=4, min_delta=0.02),\n",
    "             ModelCheckpoint('weights-best.hdf5', monitor='val_acc', verbose=1, save_best_only=True, mode='auto'),\n",
    "             generation_callback,\n",
    "            ]\n",
    "\n",
    "model = model\n",
    "model.compile(loss=keras.losses.categorical_crossentropy,\n",
    "              optimizer=keras.optimizers.Adam(),\n",
    "              metrics=['accuracy'])\n",
    "\n",
    "%time history = model.fit(X, y, batch_size=64, epochs=10, verbose=1, validation_split=0.2, callbacks=callbacks)\n",
    "\n",
    "plot_training(history)\n",
    "plt.show()"
   ]
  },
  {
   "cell_type": "code",
   "execution_count": 84,
   "metadata": {
    "collapsed": false
   },
   "outputs": [
    {
     "data": {
      "text/plain": [
       "'en un lugar de la mancha, de chehoueaeoaeaovouoaooeurooaheeaoooueauhhuauoauiáeaeuouiamoieiiauauoeuehluoiaiouaooueuáuuuaaaeoetooeoa'"
      ]
     },
     "execution_count": 84,
     "metadata": {},
     "output_type": "execute_result"
    }
   ],
   "source": [
    "# Test\n",
    "predict_text(test[102:102+SEQ_LENGTH], model, 100, char_one_hot_dict)"
   ]
  },
  {
   "cell_type": "markdown",
   "metadata": {
    "colab_type": "text",
    "id": "pBbmz9DMhVhc"
   },
   "source": [
    "## Entregable\n",
    "\n",
    "Completa los apartados anteriores para entrenar modelos del lenguaje que sean capaces de generar texto con cierto sentido. Comentar los resultados obtenidos y cómo el modelo va mejorando época a época. Comentar las diferencias apreciadas al utilizar diferentes valores de temperatura. Entregar al menos la salida de un entrenamiento completo con los textos generados época a época.\n",
    "\n",
    "El objetivo no es conseguir generar pasajes literarios con coherencia, sino obtener lenguaje que se asemeje en cierta manera a lo visto en el texto original y donde las palabras sean reconocibles como construcciones en castellano. Como ejemplo de lo que se puede conseguir, este es el resultado de generar texto después de 10 epochs y con temperature 0.2:\n",
    "\n",
    "\n",
    "```\n",
    "-----> Epoch: 10 - Generando texto con temperature 0.2\n",
    "Seed: o le cautivaron y rindieron el\n",
    "Texto generado: o le cautivaron y rindieron el caballero de la caballería de la mano de la caballería del cual se le dijo:\n",
    "\n",
    "-¿quién es el verdad de la caballería de la caballería de la caballería de la caballería de la caballería, y me ha de habían de la mano que el caballero de la mano de la caballería. y que no se le habían de la mano de la c\n",
    "\n",
    "```\n",
    "\n",
    "Asimismo, se proponen los siguientes aspectos opcionales para conseguir nota extra:\n",
    "\n",
    "*   Experimentar con los textos de teatro en verso de Calderón de la Barca (¿es capaz el modelo de aprender las estructuras del teatro en verso?) o con alguno de los otros textos disponibles. También se puede probar con textos de vuestra elección.\n",
    "*   Experimentar con distintos valores de SEQ_LENGTH.\n",
    "*   Experimentar con los hiperparámetros del modelo o probar otro tipo de modelos como GRUs o *stacked* RNNs (RNNs apiladas).\n",
    "*   Experimentar utilizando embeddings en vez de representaciones one-hot.\n",
    "*   (Difícil) Entrenar un modelo secuencia a secuencia en vez de secuencia a carácter.\n",
    "\n",
    "\n"
   ]
  },
  {
   "cell_type": "markdown",
   "metadata": {},
   "source": [
    "# Word based prediction"
   ]
  },
  {
   "cell_type": "code",
   "execution_count": 5,
   "metadata": {
    "collapsed": false
   },
   "outputs": [
    {
     "name": "stdout",
     "output_type": "stream",
     "text": [
      "453904 words in total\n",
      "24135 unique words\n"
     ]
    }
   ],
   "source": [
    "def multi_replace(text, mapping):\n",
    "    \"\"\"\n",
    "    Replace occurences in text basedon mapping\n",
    "    \"\"\"\n",
    "    import re\n",
    "    \n",
    "    # Generate something like: r'\\.|\\,|\\¿|\\?|\\!|\\;|\\-'\n",
    "    regexp = re.compile('|'.join(map(re.escape, mapping)))\n",
    "    \n",
    "    # Replace each occurence of a match string with its value\n",
    "    sub_sentences = regexp.sub(lambda match: mapping[match.group(0)], text)\n",
    "    \n",
    "    return sub_sentences\n",
    "\n",
    "# Generate a word index\n",
    "sentences = text.replace('\\n', ' ')\n",
    "\n",
    "special_chars = {'.':' <END>',\n",
    "           ',':' <COM>',\n",
    "           '¿':' <QUEST1>',\n",
    "           '?':' <QUEST2>',\n",
    "           '!':' <INDIC>',\n",
    "           ';': ' <SEMI>',\n",
    "           '-': ' <BAR> ',\n",
    "          }\n",
    "\n",
    "cleaned = multi_replace(sentences, special_chars)\n",
    "word_sequence = cleaned.split(' ')\n",
    "unique_words = set(word_sequence)\n",
    "print('%d words in total\\n%d unique words' % (len(word_sequence), len(unique_words)))"
   ]
  },
  {
   "cell_type": "code",
   "execution_count": 6,
   "metadata": {
    "collapsed": true
   },
   "outputs": [],
   "source": [
    "# Get most common words\n",
    "word_freq_dict = {}\n",
    "for word in word_sequence:\n",
    "    cnt = word_freq_dict.get(word, 0)\n",
    "    word_freq_dict[word] = cnt+1\n",
    "\n",
    "# Remove '' spaces spaces?\n",
    "word_freq_dict.pop('')\n",
    "\n",
    "word_freq = [(v, k) for k, v in word_freq_dict.items()]\n",
    "word_freq = sorted(word_freq, reverse=True)"
   ]
  },
  {
   "cell_type": "code",
   "execution_count": 7,
   "metadata": {
    "collapsed": false
   },
   "outputs": [],
   "source": [
    "# Get 95% coverage of all word occurences in the text\n",
    "acc_threshold = len(word_sequence)*0.95\n",
    "\n",
    "N = 0\n",
    "word_list = []\n",
    "for n, w in word_freq:\n",
    "    N+=n\n",
    "    if N > acc_threshold:\n",
    "        break\n",
    "    word_list.append(w)"
   ]
  },
  {
   "cell_type": "code",
   "execution_count": 8,
   "metadata": {
    "collapsed": false
   },
   "outputs": [
    {
     "name": "stdout",
     "output_type": "stream",
     "text": [
      "Keeping 17662 words from the 24135 unique words\n"
     ]
    }
   ],
   "source": [
    "print('Keeping %d words from the %d unique words' % (len(word_list), len(unique_words)) )"
   ]
  },
  {
   "cell_type": "code",
   "execution_count": 9,
   "metadata": {
    "collapsed": false
   },
   "outputs": [],
   "source": [
    "word_list.insert(0, '<UNKNOWN>')\n",
    "word_index = {w:i for i, w in enumerate(word_list)}"
   ]
  },
  {
   "cell_type": "code",
   "execution_count": 10,
   "metadata": {
    "collapsed": true
   },
   "outputs": [],
   "source": [
    "def text_embedded(text, word_index, default=0):\n",
    "    \"\"\"\n",
    "    Helper function that encodes given text using encoding (like embedding)\n",
    "    \"\"\"\n",
    "    enc = []\n",
    "    for w in text:\n",
    "        enc.append(word_index.get(w, default))\n",
    "    return np.array(enc)"
   ]
  },
  {
   "cell_type": "code",
   "execution_count": 11,
   "metadata": {
    "collapsed": true
   },
   "outputs": [],
   "source": [
    "emtext = text_embedded(word_sequence, word_index)"
   ]
  },
  {
   "cell_type": "code",
   "execution_count": 12,
   "metadata": {
    "collapsed": false
   },
   "outputs": [
    {
     "data": {
      "text/plain": [
       "array([    0,  3280,     2,  7916,     1,  8867,    17,    29,  2061,\n",
       "           1,  5043,     3, 14706,    13, 13240,     1, 17085,    13,\n",
       "        2771,     1,   153, 15629,     4,  2250,    13, 10687,     1,\n",
       "           0,    17,   185,   399,     4,    20,   729,     9,     8,\n",
       "        5526,   395,     0,  2429,     4, 12532,     1,  3234,     4,\n",
       "        8469,    34,    17,  2220,     1,    15,    48, 15615,     4,\n",
       "          18,   191,     1,     3,    13,   178,     4,     0,    14,\n",
       "        7344,    15,    20, 12525,     4,    18,    29,  3455,     9,\n",
       "         120,     7,    20,   130,    38,   574,     2,   675,     4,\n",
       "          13,  3522,     1,     3,    38,   644,     2,    11,  1119,\n",
       "           6,    13,   712,     1,     3,    31,   461,     4,   474,\n",
       "           3])"
      ]
     },
     "execution_count": 12,
     "metadata": {},
     "output_type": "execute_result"
    }
   ],
   "source": [
    "emtext[0:100]"
   ]
  },
  {
   "cell_type": "markdown",
   "metadata": {},
   "source": [
    "## Build Training data"
   ]
  },
  {
   "cell_type": "code",
   "execution_count": 13,
   "metadata": {
    "collapsed": false
   },
   "outputs": [
    {
     "name": "stdout",
     "output_type": "stream",
     "text": [
      "Generated 453894 Sequences\n"
     ]
    }
   ],
   "source": [
    "# Definimos el tamaño de las secuencias. Puedes dejar este valor por defecto.\n",
    "SEQ_LENGTH = 10\n",
    "DICT_SIZE = len(word_index)\n",
    "\n",
    "sequences = []\n",
    "next_word = []\n",
    "\n",
    "# NOTE: is this a bug? But full_sequence has to be 31 of length, not 30!\n",
    "full_sequence = [emtext[i:i+j+1] for i in range(len(emtext)-SEQ_LENGTH) for j in range(SEQ_LENGTH,SEQ_LENGTH+1)]\n",
    "\n",
    "for sequence in full_sequence:\n",
    "    sequences.append(sequence[:-1])\n",
    "    next_word.append(sequence[-1])\n",
    "\n",
    "print('Generated %d Sequences' % (len(sequences)))"
   ]
  },
  {
   "cell_type": "code",
   "execution_count": 14,
   "metadata": {
    "collapsed": false
   },
   "outputs": [],
   "source": [
    "MAX_SEQUENCES = len(sequences)\n",
    "MAX_SEQUENCES = 100000\n",
    "#MAX_SEQUENCES = 50000\n",
    "#MAX_SEQUENCES = 10000\n",
    "#MAX_SEQUENCES = 500\n",
    "\n",
    "perm = np.random.permutation(len(sequences))\n",
    "sequences_short, next_word_short = np.array(sequences), np.array(next_word)\n",
    "sequences_short, next_word_short = sequences_short[perm], next_word_short[perm]\n",
    "sequences_short, next_word_short = list(sequences_short[:MAX_SEQUENCES]), list(next_word_short[:MAX_SEQUENCES])"
   ]
  },
  {
   "cell_type": "code",
   "execution_count": 15,
   "metadata": {
    "collapsed": false
   },
   "outputs": [],
   "source": [
    "# Generate training data\n",
    "x_train = np.array(sequences_short)\n",
    "\n",
    "# One hot encode next_word\n",
    "y_train = np.zeros((MAX_SEQUENCES, DICT_SIZE))\n",
    "for i, w in enumerate(next_word_short):\n",
    "    y_train[i][w] = 1"
   ]
  },
  {
   "cell_type": "code",
   "execution_count": 16,
   "metadata": {
    "collapsed": false
   },
   "outputs": [],
   "source": [
    "import keras\n",
    "from keras.models import Sequential\n",
    "from keras.layers import Dense, Dropout\n",
    "from keras.callbacks import EarlyStopping, ModelCheckpoint\n",
    "from keras.layers import LSTM, Bidirectional, Embedding\n",
    "from keras import regularizers"
   ]
  },
  {
   "cell_type": "code",
   "execution_count": 17,
   "metadata": {
    "collapsed": false
   },
   "outputs": [
    {
     "name": "stdout",
     "output_type": "stream",
     "text": [
      "_________________________________________________________________\n",
      "Layer (type)                 Output Shape              Param #   \n",
      "=================================================================\n",
      "embedding_1 (Embedding)      (None, 10, 100)           1766400   \n",
      "_________________________________________________________________\n",
      "bidirectional_1 (Bidirection (None, 256)               234496    \n",
      "_________________________________________________________________\n",
      "dense_1 (Dense)              (None, 17663)             4539391   \n",
      "=================================================================\n",
      "Total params: 6,540,287\n",
      "Trainable params: 6,540,287\n",
      "Non-trainable params: 0\n",
      "_________________________________________________________________\n"
     ]
    }
   ],
   "source": [
    "# Add early stopping and only storing the best model\n",
    "callbacks = [EarlyStopping(monitor='val_loss', patience=4, min_delta=0.02),\n",
    "             ModelCheckpoint('weights-best.hdf5', monitor='val_acc', verbose=1, save_best_only=True, mode='auto'),\n",
    "            ]\n",
    "\n",
    "EMBEDDING_DIM = 100\n",
    "\n",
    "model = Sequential()\n",
    "model.add(Embedding(len(word_index)+1, EMBEDDING_DIM, input_length=SEQ_LENGTH))\n",
    "model.add(Bidirectional(LSTM(128)))\n",
    "model.add(Dense(len(word_index), activation='softmax'))\n",
    "\n",
    "model.summary()"
   ]
  },
  {
   "cell_type": "code",
   "execution_count": 18,
   "metadata": {
    "collapsed": false
   },
   "outputs": [],
   "source": [
    "TEMPERATURES_TO_TRY = [0.2, 0.5, 1.0, 1.2]\n",
    "GENERATED_TEXT_LENGTH = 10\n",
    "\n",
    "def generate_text_byword(seed_text, model, length, temperature=1):\n",
    "    \"\"\"Genera una secuencia de texto a partir de seed_text utilizando model.\n",
    "    \n",
    "    La secuencia tiene longitud length y el sampling se hace con la temperature\n",
    "    definida.\n",
    "    \"\"\"\n",
    "    \n",
    "    # Aquí guardaremos nuestro texto generado, que incluirá el\n",
    "    # texto origen\n",
    " \n",
    "    ### TU CÓDIGO AQUÍ\n",
    "    generated = predict_text_byword(seed_text, model, GENERATED_TEXT_LENGTH)\n",
    "\n",
    "    ### FIN DE TU CÓDIGO\n",
    "    decoded_text = ' '.join([word_list[i] for i in generated])\n",
    "    return decoded_text\n",
    "\n",
    "\n",
    "\n",
    "def predict_text_byword(seed_text, model, length):\n",
    "    generated = list(seed_text)\n",
    "    N = len(seed_text)\n",
    "    for i in range(length):\n",
    "        text = np.array(generated[-N:])\n",
    "        # Reshape encoded text, because model expects (X, SEQ_LENGTH, NUM_CARS)\n",
    "        text = np.reshape(text, (1,) + text.shape)\n",
    "        #print('Enter %s' % text)\n",
    "        prediction = model.predict(text)\n",
    "        predicted = sample(prediction[0])\n",
    "        #predicted = np.argmax(prediction[0])\n",
    "        #print('Predicted %d' % predicted)\n",
    "        generated.append(predicted)\n",
    "    return generated\n",
    "\n",
    "\n",
    "def on_epoch_end(epoch, logs):\n",
    "  print(\"\\n\\n\\n\")\n",
    "  \n",
    "  # Primero, seleccionamos una secuencia al azar para empezar a predecir\n",
    "  # a partir de ella\n",
    "  start_pos = random.randint(0, len(emtext) - SEQ_LENGTH - 1)\n",
    "  seed_text = list(emtext[start_pos:start_pos + SEQ_LENGTH])\n",
    "  for temperature in TEMPERATURES_TO_TRY:\n",
    "    print(\"------> Epoch: {} - Generando texto con temperature {}\".format(\n",
    "        epoch + 1, temperature))\n",
    "    \n",
    "    generated_text = generate_text_byword(seed_text, model, \n",
    "                                   GENERATED_TEXT_LENGTH, temperature)\n",
    "    print(\"Seed: {}\".format(' '.join([word_list[i] for i in seed_text])))\n",
    "    print(\"Texto generado: {}\".format(generated_text))\n",
    "    print()\n",
    "\n",
    "\n",
    "generation_callback = LambdaCallback(on_epoch_end=on_epoch_end)  "
   ]
  },
  {
   "cell_type": "code",
   "execution_count": null,
   "metadata": {
    "collapsed": false
   },
   "outputs": [
    {
     "name": "stdout",
     "output_type": "stream",
     "text": [
      "Train on 80000 samples, validate on 20000 samples\n",
      "Epoch 1/10\n",
      "80000/80000 [==============================] - 249s 3ms/step - loss: 2.9912 - acc: 0.3849 - val_loss: 6.0894 - val_acc: 0.1573\n",
      "\n",
      "Epoch 00001: val_acc improved from -inf to 0.15730, saving model to weights-best.hdf5\n",
      "\n",
      "\n",
      "\n",
      "\n",
      "------> Epoch: 1 - Generando texto con temperature 0.2\n",
      "Predicted 75\n",
      "Predicted 9\n",
      "Predicted 0\n",
      "Predicted 8\n",
      "Predicted 265\n",
      "Predicted 2\n",
      "Predicted 8\n",
      "Predicted 1303\n",
      "Predicted 354\n",
      "Predicted 60\n",
      "Seed: como ellas parecen <END> sobre un buen cimiento se puede\n",
      "Texto generado: como ellas parecen <END> sobre un buen cimiento se puede decir <END> <UNKNOWN> el entender que el médico ventero era\n",
      "\n",
      "------> Epoch: 1 - Generando texto con temperature 0.5\n",
      "Predicted 2731\n",
      "Predicted 2\n",
      "Predicted 346\n",
      "Predicted 108\n",
      "Predicted 12\n",
      "Predicted 38\n",
      "Predicted 1719\n",
      "Predicted 6\n",
      "Predicted 17\n",
      "Predicted 1102\n",
      "Seed: como ellas parecen <END> sobre un buen cimiento se puede\n",
      "Texto generado: como ellas parecen <END> sobre un buen cimiento se puede caber que palabras alguna <SEMI> una compañero a las alforjas\n",
      "\n",
      "------> Epoch: 1 - Generando texto con temperature 1.0\n",
      "Predicted 340\n",
      "Predicted 153\n",
      "Predicted 5204\n",
      "Predicted 3\n",
      "Predicted 2\n",
      "Predicted 6\n",
      "Predicted 265\n",
      "Predicted 40\n",
      "Predicted 1623\n",
      "Predicted 5607\n",
      "Seed: como ellas parecen <END> sobre un buen cimiento se puede\n",
      "Texto generado: como ellas parecen <END> sobre un buen cimiento se puede posible algún balcón y que a entender tan figuras prevención\n",
      "\n",
      "------> Epoch: 1 - Generando texto con temperature 1.2\n",
      "Predicted 12044\n",
      "Predicted 216\n",
      "Predicted 3\n",
      "Predicted 440\n",
      "Predicted 32\n",
      "Predicted 723\n",
      "Predicted 4\n",
      "Predicted 1032\n",
      "Predicted 1\n",
      "Predicted 35\n",
      "Seed: como ellas parecen <END> sobre un buen cimiento se puede\n",
      "Texto generado: como ellas parecen <END> sobre un buen cimiento se puede «la gusto y oro al aire de punta <COM> porque\n",
      "\n",
      "Epoch 2/10\n",
      "46400/80000 [================>.............] - ETA: 1:36 - loss: 2.3818 - acc: 0.4963"
     ]
    }
   ],
   "source": [
    "callbacks = [EarlyStopping(monitor='val_loss', patience=4, min_delta=0.02),\n",
    "             ModelCheckpoint('weights-best.hdf5', monitor='val_acc', verbose=1, save_best_only=True, mode='auto'),\n",
    "             generation_callback\n",
    "            ]\n",
    "\n",
    "model.compile(loss=keras.losses.categorical_crossentropy,\n",
    "              optimizer=keras.optimizers.Adam(),\n",
    "              metrics=['accuracy'])\n",
    "\n",
    "%time history = model.fit(x_train, y_train, batch_size=64, epochs=10, verbose=1, validation_split=0.2, callbacks=callbacks)\n",
    "\n",
    "#test_loss, test_acc = model.evaluate(x_test_cut, y_test)\n",
    "#print('Test acc: %0.3f' % test_acc)\n",
    "\n",
    "plot_training(history)"
   ]
  },
  {
   "cell_type": "code",
   "execution_count": 88,
   "metadata": {
    "collapsed": false
   },
   "outputs": [
    {
     "data": {
      "text/plain": [
       "[123, 11, 110]"
      ]
     },
     "execution_count": 88,
     "metadata": {},
     "output_type": "execute_result"
    }
   ],
   "source": [
    "a = []\n",
    "a.append(123)\n",
    "a.append(11)\n",
    "a.append(110)\n",
    "a"
   ]
  },
  {
   "cell_type": "code",
   "execution_count": 92,
   "metadata": {
    "collapsed": false
   },
   "outputs": [
    {
     "data": {
      "text/plain": [
       "[11, 110]"
      ]
     },
     "execution_count": 92,
     "metadata": {},
     "output_type": "execute_result"
    }
   ],
   "source": [
    "a[-2:]"
   ]
  }
 ],
 "metadata": {
  "accelerator": "GPU",
  "anaconda-cloud": {},
  "colab": {
   "collapsed_sections": [],
   "name": "Lab 2.ipynb",
   "provenance": [],
   "version": "0.3.2"
  },
  "kernelspec": {
   "display_name": "Python [conda env:py3]",
   "language": "python",
   "name": "conda-env-py3-py"
  },
  "language_info": {
   "codemirror_mode": {
    "name": "ipython",
    "version": 3
   },
   "file_extension": ".py",
   "mimetype": "text/x-python",
   "name": "python",
   "nbconvert_exporter": "python",
   "pygments_lexer": "ipython3",
   "version": "3.6.5"
  }
 },
 "nbformat": 4,
 "nbformat_minor": 1
}
